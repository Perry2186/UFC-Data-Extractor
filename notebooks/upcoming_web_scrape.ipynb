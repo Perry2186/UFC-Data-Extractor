{
 "cells": [
  {
   "cell_type": "code",
   "execution_count": 112,
   "id": "115d2fb2-3d87-4272-8f55-d6f052aa1d48",
   "metadata": {},
   "outputs": [
    {
     "name": "stdout",
     "output_type": "stream",
     "text": [
      "imports loaded.\n",
      "\n",
      "> file management func:\n",
      "\n",
      "    get_content(directory)\n",
      "    get_last_update(file_path)\n",
      "\n",
      "> Updating lists func:\n",
      "\n",
      "    get_participants(event_link)\n",
      "\n",
      "> fighters_stats_scrape func:\n",
      "\n",
      "    get_xml(url, headers = {'User-Agent':'Moz...}) # Return web page data in .xml format.\n",
      "    get_links(url)\n",
      "    get_fighter_data(url) # Retrive data as list\n",
      "    get_current_date()\n",
      "\n",
      "> matches_stats_web_scrape func:\n",
      "\n",
      "    get_event_date(xml)\n",
      "    get_event_data(event_link)\n",
      "    get_later_date(date1, date2)\n",
      "\n",
      "> upcoming_web_scrape func:\n",
      "\n",
      "    get_upcoming_event_url(xml)\n",
      "    get_upcoming_event_data(upcoming_event_url)\n"
     ]
    }
   ],
   "source": [
    "%run web_scrape_func_def.ipynb"
   ]
  },
  {
   "cell_type": "markdown",
   "id": "b0e8b0df-224c-4587-9780-62de2c7ab10e",
   "metadata": {},
   "source": [
    "# Main( )"
   ]
  },
  {
   "cell_type": "code",
   "execution_count": 113,
   "id": "e5b4a753-46c7-4ad9-958d-76bd7fd724fc",
   "metadata": {},
   "outputs": [],
   "source": [
    "CARDS_PATH = '../cards/'\n",
    "MAIN_URL = 'http://www.ufcstats.com/statistics/events/completed'"
   ]
  },
  {
   "cell_type": "code",
   "execution_count": 114,
   "id": "3fe518b8-01b1-49be-91c1-5ccd6c8c2bab",
   "metadata": {},
   "outputs": [
    {
     "name": "stdout",
     "output_type": "stream",
     "text": [
      "Event link:http://www.ufcstats.com/event-details/b9415726dc3ec526\n"
     ]
    }
   ],
   "source": [
    "upcoming_event_url = get_upcoming_event_url(xml=get_xml(url=MAIN_URL))\n",
    "print(f\"Event link:{upcoming_event_url}\")"
   ]
  },
  {
   "cell_type": "code",
   "execution_count": 115,
   "id": "594d4d6d-96a9-4abd-a088-0e20be0cb98c",
   "metadata": {},
   "outputs": [
    {
     "data": {
      "text/html": [
       "<div>\n",
       "<style scoped>\n",
       "    .dataframe tbody tr th:only-of-type {\n",
       "        vertical-align: middle;\n",
       "    }\n",
       "\n",
       "    .dataframe tbody tr th {\n",
       "        vertical-align: top;\n",
       "    }\n",
       "\n",
       "    .dataframe thead th {\n",
       "        text-align: right;\n",
       "    }\n",
       "</style>\n",
       "<table border=\"1\" class=\"dataframe\">\n",
       "  <thead>\n",
       "    <tr style=\"text-align: right;\">\n",
       "      <th></th>\n",
       "      <th>fighter</th>\n",
       "      <th>opponent</th>\n",
       "      <th>weight_class</th>\n",
       "    </tr>\n",
       "  </thead>\n",
       "  <tbody>\n",
       "    <tr>\n",
       "      <th>0</th>\n",
       "      <td>Marvin Vettori</td>\n",
       "      <td>Jared Cannonier</td>\n",
       "      <td>Middleweight</td>\n",
       "    </tr>\n",
       "    <tr>\n",
       "      <th>1</th>\n",
       "      <td>Arman Tsarukyan</td>\n",
       "      <td>Joaquim Silva</td>\n",
       "      <td>Lightweight</td>\n",
       "    </tr>\n",
       "    <tr>\n",
       "      <th>2</th>\n",
       "      <td>Armen Petrosyan</td>\n",
       "      <td>Christian Duncan</td>\n",
       "      <td>Middleweight</td>\n",
       "    </tr>\n",
       "    <tr>\n",
       "      <th>3</th>\n",
       "      <td>Pat Sabatini</td>\n",
       "      <td>Lucas Almeida</td>\n",
       "      <td>Featherweight</td>\n",
       "    </tr>\n",
       "    <tr>\n",
       "      <th>4</th>\n",
       "      <td>Manuel Torres</td>\n",
       "      <td>Nikolas Motta</td>\n",
       "      <td>Lightweight</td>\n",
       "    </tr>\n",
       "    <tr>\n",
       "      <th>5</th>\n",
       "      <td>Nicolas Dalby</td>\n",
       "      <td>Muslim Salikhov</td>\n",
       "      <td>Welterweight</td>\n",
       "    </tr>\n",
       "    <tr>\n",
       "      <th>6</th>\n",
       "      <td>Raoni Barcelos</td>\n",
       "      <td>Miles Johns</td>\n",
       "      <td>Bantamweight</td>\n",
       "    </tr>\n",
       "    <tr>\n",
       "      <th>7</th>\n",
       "      <td>Jimmy Flick</td>\n",
       "      <td>Alessandro Costa</td>\n",
       "      <td>Flyweight</td>\n",
       "    </tr>\n",
       "    <tr>\n",
       "      <th>8</th>\n",
       "      <td>Kyung Ho Kang</td>\n",
       "      <td>Cristian Quinonez</td>\n",
       "      <td>Bantamweight</td>\n",
       "    </tr>\n",
       "    <tr>\n",
       "      <th>9</th>\n",
       "      <td>Carlos Hernandez</td>\n",
       "      <td>Denys Bondar</td>\n",
       "      <td>Flyweight</td>\n",
       "    </tr>\n",
       "    <tr>\n",
       "      <th>10</th>\n",
       "      <td>Zhalgas Zhumagulov</td>\n",
       "      <td>Felipe Bunes</td>\n",
       "      <td>Flyweight</td>\n",
       "    </tr>\n",
       "    <tr>\n",
       "      <th>11</th>\n",
       "      <td>Tereza Bleda</td>\n",
       "      <td>Gabriella Fernandes</td>\n",
       "      <td>Women's Flyweight</td>\n",
       "    </tr>\n",
       "    <tr>\n",
       "      <th>12</th>\n",
       "      <td>Dan Argueta</td>\n",
       "      <td>Ronnie Lawrence</td>\n",
       "      <td>Bantamweight</td>\n",
       "    </tr>\n",
       "    <tr>\n",
       "      <th>13</th>\n",
       "      <td>Zac Pauga</td>\n",
       "      <td>Modestas Bukauskas</td>\n",
       "      <td>Light Heavyweight</td>\n",
       "    </tr>\n",
       "  </tbody>\n",
       "</table>\n",
       "</div>"
      ],
      "text/plain": [
       "               fighter             opponent       weight_class\n",
       "0       Marvin Vettori      Jared Cannonier       Middleweight\n",
       "1      Arman Tsarukyan        Joaquim Silva        Lightweight\n",
       "2      Armen Petrosyan     Christian Duncan       Middleweight\n",
       "3         Pat Sabatini        Lucas Almeida      Featherweight\n",
       "4        Manuel Torres        Nikolas Motta        Lightweight\n",
       "5        Nicolas Dalby      Muslim Salikhov       Welterweight\n",
       "6       Raoni Barcelos          Miles Johns       Bantamweight\n",
       "7          Jimmy Flick     Alessandro Costa          Flyweight\n",
       "8        Kyung Ho Kang    Cristian Quinonez       Bantamweight\n",
       "9     Carlos Hernandez         Denys Bondar          Flyweight\n",
       "10  Zhalgas Zhumagulov         Felipe Bunes          Flyweight\n",
       "11        Tereza Bleda  Gabriella Fernandes  Women's Flyweight\n",
       "12         Dan Argueta      Ronnie Lawrence       Bantamweight\n",
       "13           Zac Pauga   Modestas Bukauskas  Light Heavyweight"
      ]
     },
     "execution_count": 115,
     "metadata": {},
     "output_type": "execute_result"
    }
   ],
   "source": [
    "data = get_upcoming_event_data(upcoming_event_url=upcoming_event_url)\n",
    "data = pd.DataFrame.from_dict(data)\n",
    "data"
   ]
  },
  {
   "cell_type": "code",
   "execution_count": 122,
   "id": "d20ec10c-3a0a-4fb2-9348-62981dda3f20",
   "metadata": {},
   "outputs": [
    {
     "name": "stdout",
     "output_type": "stream",
     "text": [
      "Schedualed event time: 06-17-2023\n"
     ]
    }
   ],
   "source": [
    "scheduled_time = get_event_date(xml=get_xml(url=upcoming_event_url))\n",
    "print(f\"Schedualed event time: {scheduled_time}\")"
   ]
  },
  {
   "cell_type": "code",
   "execution_count": 120,
   "id": "bdabf2c7-f2a4-40a9-80a5-5513620f4bb3",
   "metadata": {},
   "outputs": [
    {
     "data": {
      "text/plain": [
       "['../cards/ufc_card_06-17-2023.csv']"
      ]
     },
     "execution_count": 120,
     "metadata": {},
     "output_type": "execute_result"
    }
   ],
   "source": [
    "data.to_csv(CARDS_PATH + 'ufc_card_' + scheduled_time + '.csv', index=0)\n",
    "get_content(CARDS_PATH)"
   ]
  },
  {
   "cell_type": "code",
   "execution_count": null,
   "id": "4e9c8f7e-a2cb-4296-91a4-dd3675d2e999",
   "metadata": {},
   "outputs": [],
   "source": []
  }
 ],
 "metadata": {
  "kernelspec": {
   "display_name": "py3",
   "language": "python",
   "name": "py3"
  },
  "language_info": {
   "codemirror_mode": {
    "name": "ipython",
    "version": 3
   },
   "file_extension": ".py",
   "mimetype": "text/x-python",
   "name": "python",
   "nbconvert_exporter": "python",
   "pygments_lexer": "ipython3",
   "version": "3.7.12"
  }
 },
 "nbformat": 4,
 "nbformat_minor": 5
}
