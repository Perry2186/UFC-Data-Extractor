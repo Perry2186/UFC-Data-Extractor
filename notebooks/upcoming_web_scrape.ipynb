{
 "cells": [
  {
   "cell_type": "code",
   "execution_count": 1,
   "id": "115d2fb2-3d87-4272-8f55-d6f052aa1d48",
   "metadata": {},
   "outputs": [
    {
     "name": "stdout",
     "output_type": "stream",
     "text": [
      "> file management func:\n",
      "\n",
      "    get_content(directory)\n",
      "    get_last_update(file_path)\n",
      "\n",
      "> Updating lists func:\n",
      "\n",
      "    get_participants(event_link)\n",
      "\n",
      "> fighters_stats_scrape func:\n",
      "\n",
      "    get_xml(url, data_type='xml', headers = {'User-Agent':'Moz...}) # Return web page data in .xml format.\n",
      "    get_links(url)\n",
      "    get_fighter_data(url) # Retrive data as list\n",
      "    get_current_date()\n",
      "\n",
      "> matches_stats_web_scrape func:\n",
      "\n",
      "    get_event_date(xml)\n",
      "    get_event_data(event_link)\n",
      "    get_later_date(date1, date2)\n",
      "\n",
      "> upcoming_web_scrape func:\n",
      "\n",
      "    get_upcoming_event_url(xml)\n",
      "    get_upcoming_event_data(upcoming_event_url)\n",
      "\n",
      "> fighters_stats_full_update func:\n",
      "\n",
      "    get_fighters_links(page_url)\n",
      "\n",
      "> draftking_odds func:\n",
      "\n",
      "    get_table_odds(table)\n",
      "    get_odds(data, fighter, opponent)\n"
     ]
    }
   ],
   "source": [
    "%run web_scrape_func_def.ipynb"
   ]
  },
  {
   "cell_type": "markdown",
   "id": "b0e8b0df-224c-4587-9780-62de2c7ab10e",
   "metadata": {},
   "source": [
    "# Main( )"
   ]
  },
  {
   "cell_type": "code",
   "execution_count": 2,
   "id": "e5b4a753-46c7-4ad9-958d-76bd7fd724fc",
   "metadata": {},
   "outputs": [],
   "source": [
    "CARDS_PATH = '../cards/'\n",
    "MAIN_URL = 'http://www.ufcstats.com/statistics/events/completed'"
   ]
  },
  {
   "cell_type": "code",
   "execution_count": 3,
   "id": "3fe518b8-01b1-49be-91c1-5ccd6c8c2bab",
   "metadata": {},
   "outputs": [
    {
     "name": "stdout",
     "output_type": "stream",
     "text": [
      "Event link:http://www.ufcstats.com/event-details/e9e1acc96536bb4f\n"
     ]
    }
   ],
   "source": [
    "upcoming_event_url = get_upcoming_event_url(xml=get_xml(url=MAIN_URL))\n",
    "print(f\"Event link:{upcoming_event_url}\")"
   ]
  },
  {
   "cell_type": "code",
   "execution_count": 4,
   "id": "594d4d6d-96a9-4abd-a088-0e20be0cb98c",
   "metadata": {},
   "outputs": [
    {
     "data": {
      "text/html": [
       "<div>\n",
       "<style scoped>\n",
       "    .dataframe tbody tr th:only-of-type {\n",
       "        vertical-align: middle;\n",
       "    }\n",
       "\n",
       "    .dataframe tbody tr th {\n",
       "        vertical-align: top;\n",
       "    }\n",
       "\n",
       "    .dataframe thead th {\n",
       "        text-align: right;\n",
       "    }\n",
       "</style>\n",
       "<table border=\"1\" class=\"dataframe\">\n",
       "  <thead>\n",
       "    <tr style=\"text-align: right;\">\n",
       "      <th></th>\n",
       "      <th>fighter</th>\n",
       "      <th>opponent</th>\n",
       "      <th>weight_class</th>\n",
       "    </tr>\n",
       "  </thead>\n",
       "  <tbody>\n",
       "    <tr>\n",
       "      <th>0</th>\n",
       "      <td>Sean Strickland</td>\n",
       "      <td>Abus Magomedov</td>\n",
       "      <td>Middleweight</td>\n",
       "    </tr>\n",
       "    <tr>\n",
       "      <th>1</th>\n",
       "      <td>Damir Ismagulov</td>\n",
       "      <td>Grant Dawson</td>\n",
       "      <td>Lightweight</td>\n",
       "    </tr>\n",
       "    <tr>\n",
       "      <th>2</th>\n",
       "      <td>Max Griffin</td>\n",
       "      <td>Michael Morales</td>\n",
       "      <td>Welterweight</td>\n",
       "    </tr>\n",
       "    <tr>\n",
       "      <th>3</th>\n",
       "      <td>Ariane Lipski</td>\n",
       "      <td>Melissa Gatto</td>\n",
       "      <td>Women's Flyweight</td>\n",
       "    </tr>\n",
       "    <tr>\n",
       "      <th>4</th>\n",
       "      <td>Ismael Bonfim</td>\n",
       "      <td>Benoit Saint Denis</td>\n",
       "      <td>Lightweight</td>\n",
       "    </tr>\n",
       "    <tr>\n",
       "      <th>5</th>\n",
       "      <td>Brunno Ferreira</td>\n",
       "      <td>Nursulton Ruziboev</td>\n",
       "      <td>Middleweight</td>\n",
       "    </tr>\n",
       "    <tr>\n",
       "      <th>6</th>\n",
       "      <td>Kevin Lee</td>\n",
       "      <td>Rinat Fakhretdinov</td>\n",
       "      <td>Welterweight</td>\n",
       "    </tr>\n",
       "    <tr>\n",
       "      <th>7</th>\n",
       "      <td>Joanderson Brito</td>\n",
       "      <td>Westin Wilson</td>\n",
       "      <td>Featherweight</td>\n",
       "    </tr>\n",
       "    <tr>\n",
       "      <th>8</th>\n",
       "      <td>Yana Santos</td>\n",
       "      <td>Karol Rosa</td>\n",
       "      <td>Women's Featherweight</td>\n",
       "    </tr>\n",
       "    <tr>\n",
       "      <th>9</th>\n",
       "      <td>Guram Kutateladze</td>\n",
       "      <td>Elves Brener</td>\n",
       "      <td>Lightweight</td>\n",
       "    </tr>\n",
       "    <tr>\n",
       "      <th>10</th>\n",
       "      <td>Ivana Petrovic</td>\n",
       "      <td>Luana Carolina</td>\n",
       "      <td>Women's Flyweight</td>\n",
       "    </tr>\n",
       "    <tr>\n",
       "      <th>11</th>\n",
       "      <td>Alexandr Romanov</td>\n",
       "      <td>Blagoy Ivanov</td>\n",
       "      <td>Heavyweight</td>\n",
       "    </tr>\n",
       "  </tbody>\n",
       "</table>\n",
       "</div>"
      ],
      "text/plain": [
       "              fighter            opponent           weight_class\n",
       "0     Sean Strickland      Abus Magomedov           Middleweight\n",
       "1     Damir Ismagulov        Grant Dawson            Lightweight\n",
       "2         Max Griffin     Michael Morales           Welterweight\n",
       "3       Ariane Lipski       Melissa Gatto      Women's Flyweight\n",
       "4       Ismael Bonfim  Benoit Saint Denis            Lightweight\n",
       "5     Brunno Ferreira  Nursulton Ruziboev           Middleweight\n",
       "6           Kevin Lee  Rinat Fakhretdinov           Welterweight\n",
       "7    Joanderson Brito       Westin Wilson          Featherweight\n",
       "8         Yana Santos          Karol Rosa  Women's Featherweight\n",
       "9   Guram Kutateladze        Elves Brener            Lightweight\n",
       "10     Ivana Petrovic      Luana Carolina      Women's Flyweight\n",
       "11   Alexandr Romanov       Blagoy Ivanov            Heavyweight"
      ]
     },
     "execution_count": 4,
     "metadata": {},
     "output_type": "execute_result"
    }
   ],
   "source": [
    "data = get_upcoming_event_data(upcoming_event_url=upcoming_event_url)\n",
    "data = pd.DataFrame.from_dict(data)\n",
    "data"
   ]
  },
  {
   "cell_type": "code",
   "execution_count": 5,
   "id": "d20ec10c-3a0a-4fb2-9348-62981dda3f20",
   "metadata": {},
   "outputs": [
    {
     "name": "stdout",
     "output_type": "stream",
     "text": [
      "Schedualed event time: 07-01-2023\n"
     ]
    }
   ],
   "source": [
    "scheduled_time = get_event_date(xml=get_xml(url=upcoming_event_url))\n",
    "print(f\"Schedualed event time: {scheduled_time}\")"
   ]
  },
  {
   "cell_type": "code",
   "execution_count": 6,
   "id": "bdabf2c7-f2a4-40a9-80a5-5513620f4bb3",
   "metadata": {},
   "outputs": [
    {
     "data": {
      "text/plain": [
       "['../cards/.ipynb_checkpoints/',\n",
       " '../cards/darftking_odds_06-29-2023.csv',\n",
       " '../cards/ufc_card_06-17-2023.csv',\n",
       " '../cards/ufc_card_06-17-2023_prediction_set.csv',\n",
       " '../cards/ufc_card_07-01-2023.csv']"
      ]
     },
     "execution_count": 6,
     "metadata": {},
     "output_type": "execute_result"
    }
   ],
   "source": [
    "data.to_csv(CARDS_PATH + 'ufc_card_' + scheduled_time + '.csv', index=0)\n",
    "get_content(CARDS_PATH)"
   ]
  },
  {
   "cell_type": "code",
   "execution_count": 7,
   "id": "069bbeb5-a931-4cc3-9dcd-722014d02ca2",
   "metadata": {},
   "outputs": [
    {
     "name": "stdout",
     "output_type": "stream",
     "text": [
      "../cards/darftking_odds_06-29-2023.csv\n"
     ]
    }
   ],
   "source": [
    "for item in get_content(CARDS_PATH):\n",
    "    if 'odds' in item:\n",
    "        print(item)"
   ]
  },
  {
   "cell_type": "code",
   "execution_count": null,
   "id": "4e9c8f7e-a2cb-4296-91a4-dd3675d2e999",
   "metadata": {},
   "outputs": [],
   "source": [
    "odds = pd.read_csv(CARDS_PATH + )"
   ]
  }
 ],
 "metadata": {
  "kernelspec": {
   "display_name": "Python 3 (ipykernel)",
   "language": "python",
   "name": "python3"
  },
  "language_info": {
   "codemirror_mode": {
    "name": "ipython",
    "version": 3
   },
   "file_extension": ".py",
   "mimetype": "text/x-python",
   "name": "python",
   "nbconvert_exporter": "python",
   "pygments_lexer": "ipython3",
   "version": "3.9.7"
  }
 },
 "nbformat": 4,
 "nbformat_minor": 5
}
