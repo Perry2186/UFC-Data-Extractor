{
 "cells": [
  {
   "cell_type": "code",
   "execution_count": 1,
   "id": "2309ba84-d2c4-46da-b58e-4df03350472b",
   "metadata": {},
   "outputs": [
    {
     "name": "stdout",
     "output_type": "stream",
     "text": [
      "imports loaded.\n",
      "\n"
     ]
    }
   ],
   "source": [
    "%run imports.ipynb"
   ]
  },
  {
   "cell_type": "code",
   "execution_count": 3,
   "id": "02318a3f-3443-4a42-b4c6-3a0ac14f5d39",
   "metadata": {},
   "outputs": [
    {
     "name": "stdout",
     "output_type": "stream",
     "text": [
      "\n",
      "> fighters_stats_scrape func:\n",
      "\n"
     ]
    }
   ],
   "source": [
    "print('> fighters_stats_scrape func:\\n')"
   ]
  },
  {
   "cell_type": "code",
   "execution_count": 6,
   "id": "1c2bebeb-f338-4d54-ba76-ba72d812c0e7",
   "metadata": {},
   "outputs": [
    {
     "name": "stdout",
     "output_type": "stream",
     "text": [
      "    get_row(soup)\n"
     ]
    }
   ],
   "source": [
    "def get_row(soup):\n",
    "    \n",
    "    '''get soup & return np.array of all relevant row details'''\n",
    "    \n",
    "    row = get_name(soup)\n",
    "    row = np.append( row,get_record(soup) )\n",
    "    row = np.append( row,get_stats(soup) )\n",
    "    \n",
    "    return row\n",
    "print('    get_row(soup)')"
   ]
  },
  {
   "cell_type": "code",
   "execution_count": 5,
   "id": "021b1990-9dff-4374-b368-cdf2280675e8",
   "metadata": {},
   "outputs": [
    {
     "name": "stdout",
     "output_type": "stream",
     "text": [
      "    get_record(soup)\n"
     ]
    }
   ],
   "source": [
    "def get_record(soup):\n",
    "    \n",
    "    '''get soup & return np.array of wins,draws,losses'''\n",
    "    \n",
    "    h2 = soup.find('h2',{'class':'b-content__title'})\n",
    "\n",
    "    record = h2 .contents[3].contents[0].strip()\n",
    "    record = record[record.find(':')+2:len(record)]\n",
    "    \n",
    "    wins = record[:record.find('-')]\n",
    "    \n",
    "    losses = record[record.find('-')+1:record.find('-')+record.find('-')]\n",
    "    \n",
    "    if record.find(' ') == -1:\n",
    "        string_end = len(record)\n",
    "    else:\n",
    "        string_end = record.find(' ')\n",
    "    \n",
    "    draws = record[record.find('-')+1+record.find('-'):string_end]\n",
    "    \n",
    "    return np.array([wins,losses,draws])\n",
    "print('    get_record(soup)')"
   ]
  },
  {
   "cell_type": "code",
   "execution_count": 7,
   "id": "093bf1e5-e7a7-4132-b405-3a832f946b4b",
   "metadata": {},
   "outputs": [
    {
     "name": "stdout",
     "output_type": "stream",
     "text": [
      "    get_name(soup)\n"
     ]
    }
   ],
   "source": [
    "def get_name(soup):\n",
    "    \n",
    "    '''get soup & return fighter's name'''\n",
    "    \n",
    "    h2 = soup.find('h2',{'class':'b-content__title'})\n",
    "    name = h2.contents[1].contents[0].strip()\n",
    "    \n",
    "    return np.array([name])\n",
    "print('    get_name(soup)')"
   ]
  },
  {
   "cell_type": "code",
   "execution_count": 8,
   "id": "03ba0035-ee4d-46ae-83f8-d90ca4fbec3b",
   "metadata": {},
   "outputs": [
    {
     "name": "stdout",
     "output_type": "stream",
     "text": [
      "    get_stats(soup)\n"
     ]
    }
   ],
   "source": [
    "def get_stats(soup):\n",
    "    \n",
    "    '''get html data from page & return row with only the relevant values'''\n",
    "    \n",
    "    data = get_html_data(soup)\n",
    "    \n",
    "    row = []\n",
    "\n",
    "    for i in range(len(data)):\n",
    "        for j in range(len(data[i])):\n",
    "            row.append( data[i][j].contents[2].strip() )\n",
    "        \n",
    "    return np.array(row)     \n",
    "print('    get_stats(soup)')"
   ]
  },
  {
   "cell_type": "code",
   "execution_count": 9,
   "id": "30a81a86-cb60-4bf8-ad12-9707da3ee28e",
   "metadata": {},
   "outputs": [
    {
     "name": "stdout",
     "output_type": "stream",
     "text": [
      "    get_columns(soup)\n"
     ]
    }
   ],
   "source": [
    "def get_columns(soup):\n",
    "    \n",
    "    '''return list of columns'''\n",
    "    \n",
    "    data = get_html_data(soup)\n",
    "    \n",
    "    columns = ['name','wins','losses','draws']\n",
    "    \n",
    "    for i in range(len(data)):\n",
    "        for j in range(len(data[i])):\n",
    "            columns.append( data[i][j].contents[1].contents[0].strip() )\n",
    "     \n",
    "    return columns\n",
    "print('    get_columns(soup)')"
   ]
  },
  {
   "cell_type": "code",
   "execution_count": 10,
   "id": "7040de12-f330-42f7-ac8d-85b2fc79a7a8",
   "metadata": {},
   "outputs": [
    {
     "name": "stdout",
     "output_type": "stream",
     "text": [
      "    get_html_data(soup)\n"
     ]
    }
   ],
   "source": [
    "def get_html_data(soup):\n",
    "    \n",
    "    '''extracting data from fighter's page to list of size = (3,m)'''\n",
    "    \n",
    "    ul_class = soup.find_all('ul',{'class':'b-list__box-list'})\n",
    "    data = []\n",
    "    \n",
    "    for item in ul_class:\n",
    "        data.append( item.find_all('li',{'class':'b-list__box-list-item b-list__box-list-item_type_block'}))\n",
    "    \n",
    "    return data\n",
    "print('    get_html_data(soup)')"
   ]
  },
  {
   "cell_type": "code",
   "execution_count": 11,
   "id": "c2f50139-7655-49dd-8075-f3f3c7369af2",
   "metadata": {},
   "outputs": [
    {
     "name": "stdout",
     "output_type": "stream",
     "text": [
      "    get_soup(url, headers = {'User-Agent':'Mozilla/5.0 (Windows NT 10.0; Win64; x64) AppleWebKit/537.36 (KHTML, like Gecko) Chrome/103.0.0.0 Safari/537.36'})\n"
     ]
    }
   ],
   "source": [
    "def get_soup(url, headers = {'User-Agent':'Mozilla/5.0 (Windows NT 10.0; Win64; x64) AppleWebKit/537.36 (KHTML, like Gecko) Chrome/103.0.0.0 Safari/537.36'}):\n",
    "    \n",
    "    '''set url page, \n",
    "    return soup as text'''\n",
    "    \n",
    "    try:\n",
    "        r = requests.get(url)\n",
    "        soup = BeautifulSoup(r.text, 'html.parser')\n",
    "    except:\n",
    "        print('Error on: ' + url) \n",
    "        return None\n",
    "    \n",
    "    return soup\n",
    "print(\"    get_soup(url, headers = {'User-Agent':'Mozilla/5.0 (Windows NT 10.0; Win64; x64) AppleWebKit/537.36 (KHTML, like Gecko) Chrome/103.0.0.0 Safari/537.36'})\")"
   ]
  },
  {
   "cell_type": "code",
   "execution_count": 12,
   "id": "d4731152-8105-4f06-9973-52f7b979124f",
   "metadata": {},
   "outputs": [
    {
     "name": "stdout",
     "output_type": "stream",
     "text": [
      "    get_links(soup)\n"
     ]
    }
   ],
   "source": [
    "def get_links(soup):\n",
    "    \n",
    "    '''return list of all page links'''\n",
    "    \n",
    "    url_links = soup.find_all('a', {'class':'b-link b-link_style_black'})\n",
    "    links = []\n",
    "\n",
    "    for item in url_links:\n",
    "        links.append( item['href'] )\n",
    "        \n",
    "    return np.unique(links)    \n",
    "print('    get_links(soup)')"
   ]
  },
  {
   "cell_type": "code",
   "execution_count": null,
   "id": "3e956a45-242b-4f2e-ad5f-f86ac8265cd6",
   "metadata": {},
   "outputs": [],
   "source": []
  }
 ],
 "metadata": {
  "kernelspec": {
   "display_name": "py3",
   "language": "python",
   "name": "py3"
  },
  "language_info": {
   "codemirror_mode": {
    "name": "ipython",
    "version": 3
   },
   "file_extension": ".py",
   "mimetype": "text/x-python",
   "name": "python",
   "nbconvert_exporter": "python",
   "pygments_lexer": "ipython3",
   "version": "3.7.12"
  }
 },
 "nbformat": 4,
 "nbformat_minor": 5
}
