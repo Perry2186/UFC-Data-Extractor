{
 "cells": [
  {
   "cell_type": "code",
   "execution_count": 113,
   "id": "2309ba84-d2c4-46da-b58e-4df03350472b",
   "metadata": {},
   "outputs": [
    {
     "name": "stdout",
     "output_type": "stream",
     "text": [
      "imports loaded.\n",
      "\n"
     ]
    }
   ],
   "source": [
    "%run imports.ipynb"
   ]
  },
  {
   "cell_type": "code",
   "execution_count": 15,
   "id": "fefe41b2-0efd-4ddd-b543-44776ab1a812",
   "metadata": {},
   "outputs": [
    {
     "name": "stdout",
     "output_type": "stream",
     "text": [
      "> file management func:\n",
      "\n"
     ]
    }
   ],
   "source": [
    "print('> file management func:\\n')"
   ]
  },
  {
   "cell_type": "code",
   "execution_count": 25,
   "id": "9ec1f3e7-8562-4256-82f9-29701dee799d",
   "metadata": {},
   "outputs": [
    {
     "name": "stdout",
     "output_type": "stream",
     "text": [
      "    get_content(directory)\n"
     ]
    }
   ],
   "source": [
    "def get_content(directory):\n",
    "    content = []\n",
    "    for file in os.scandir(directory):\n",
    "        if file.is_dir():\n",
    "            content.append(file.path + '/')\n",
    "        if file.is_file():\n",
    "            content.append(file.path)\n",
    "    return content\n",
    "    \n",
    "print('    get_content(directory)')"
   ]
  },
  {
   "cell_type": "code",
   "execution_count": 8,
   "id": "3e0a4cf0-a96e-4e26-affd-6e438ee62b0a",
   "metadata": {},
   "outputs": [
    {
     "name": "stdout",
     "output_type": "stream",
     "text": [
      "    get_last_update(file_path)\n"
     ]
    }
   ],
   "source": [
    "def get_last_update(file_path):\n",
    "\n",
    "    last_modified_timestamp = os.path.getmtime(file_path)\n",
    "    last_modified_datetime = datetime.fromtimestamp(last_modified_timestamp)\n",
    "    return last_modified_datetime.strftime(\"%d-%m-%Y\")\n",
    "\n",
    "print('    get_last_update(file_path)')"
   ]
  },
  {
   "cell_type": "code",
   "execution_count": 18,
   "id": "02318a3f-3443-4a42-b4c6-3a0ac14f5d39",
   "metadata": {},
   "outputs": [
    {
     "name": "stdout",
     "output_type": "stream",
     "text": [
      "\n",
      "> fighters_stats_scrape func:\n",
      "\n"
     ]
    }
   ],
   "source": [
    "print('\\n> fighters_stats_scrape func:\\n')"
   ]
  },
  {
   "cell_type": "code",
   "execution_count": 53,
   "id": "eb3cc14f-a97a-4935-8ad4-c0f8a5f15452",
   "metadata": {},
   "outputs": [
    {
     "name": "stdout",
     "output_type": "stream",
     "text": [
      "    get_xml(url, headers = {'User-Agent':'Moz...}) # Return web page data in .xml format.\n"
     ]
    }
   ],
   "source": [
    "def get_xml(url, headers = {'User-Agent':'Mozilla/5.0 (Windows NT 10.0; Win64; x64) AppleWebKit/537.36 (KHTML, like Gecko) Chrome/103.0.0.0 Safari/537.36'}):\n",
    "    \n",
    "    try:\n",
    "        r = requests.get(url)\n",
    "        soup = BeautifulSoup(r.text, 'xml')\n",
    "    except:\n",
    "        #print('Error on: ' + url) \n",
    "        return None\n",
    "    \n",
    "    return soup\n",
    "\n",
    "print(\"    get_xml(url, headers = {'User-Agent':'Moz...}) # Return web page data in .xml format.\")"
   ]
  },
  {
   "cell_type": "code",
   "execution_count": 97,
   "id": "d4731152-8105-4f06-9973-52f7b979124f",
   "metadata": {},
   "outputs": [
    {
     "name": "stdout",
     "output_type": "stream",
     "text": [
      "    get_links(url)\n"
     ]
    }
   ],
   "source": [
    "def get_links(url):\n",
    "    \n",
    "    link_items =  get_xml(url=url).find_all('a',{'class':'b-link b-link_style_black'})\n",
    "    links = []\n",
    "    for item in link_items:\n",
    "        links.append(item['href'])\n",
    "    \n",
    "    return links\n",
    "   \n",
    "print('    get_links(url)')"
   ]
  },
  {
   "cell_type": "code",
   "execution_count": 111,
   "id": "a4639a5e-cb5a-4953-82e1-89cf47abcb53",
   "metadata": {},
   "outputs": [
    {
     "name": "stdout",
     "output_type": "stream",
     "text": [
      "    get_fighter_data(url) # Retrive data as dictionery\n"
     ]
    }
   ],
   "source": [
    "def get_fighter_data(url):\n",
    "    \n",
    "    xml =  get_xml(url=url)\n",
    "    data = {}\n",
    "    data['name'] = xml.find('h2').find('span',{'class':'b-content__title-highlight'}).text.strip()\n",
    "    \n",
    "    record_string = xml.find('h2').find('span',{'class':'b-content__title-record'}).text.strip()\n",
    "    data['wins'] = int(record_string[record_string.find(':')+1:record_string.find('-')])\n",
    "    data['losses'] = int(record_string.split('-')[1])\n",
    "    data['draws'] = record_string.split('-')[2]\n",
    "    \n",
    "    \n",
    "    stat_boxes = get_xml(url=url).find_all('ul')[0:3]\n",
    "    for item in stat_boxes:\n",
    "        for sub_item in item.contents:\n",
    "            text = sub_item.text.strip().replace(\" \", \"\").replace(\"\\n\", \"\")\n",
    "            if len(text) > 0:\n",
    "                key = text[:text.find(':')]\n",
    "                value = text[text.find(':')+1:]\n",
    "                data[key] = value\n",
    "    \n",
    "    data['last_update'] = get_current_date()\n",
    "    data['last_fight'] = None\n",
    "    return data\n",
    "\n",
    "print('    get_fighter_data(url) # Retrive data as dictionery') "
   ]
  },
  {
   "cell_type": "code",
   "execution_count": 130,
   "id": "bc233c75-b855-4982-80de-b605588ea03c",
   "metadata": {},
   "outputs": [
    {
     "name": "stdout",
     "output_type": "stream",
     "text": [
      "    get_fighter_data(url) # Retrive data as list\n"
     ]
    }
   ],
   "source": [
    "def get_fighter_data(url):\n",
    "    \n",
    "    xml =  get_xml(url=url)\n",
    "    data = []\n",
    "    data.append(xml.find('h2').find('span',{'class':'b-content__title-highlight'}).text.strip()) #name\n",
    "    \n",
    "    record_string = xml.find('h2').find('span',{'class':'b-content__title-record'}).text.strip()\n",
    "    data.append(int(record_string[record_string.find(':')+1:record_string.find('-')])) #wins\n",
    "    data.append(int(record_string.split('-')[1])) #losses\n",
    "    data.append(record_string.split('-')[2]) #draws\n",
    "    \n",
    "    stat_boxes = xml.find_all('ul')[0:3]\n",
    "    for item in stat_boxes:\n",
    "        for sub_item in item.contents:\n",
    "            text = sub_item.text.strip().replace(\" \", \"\").replace(\"\\n\", \"\")\n",
    "            if len(text) > 0:\n",
    "                data.append(text[text.find(':')+1:])\n",
    "    \n",
    "    data.append(get_current_date()) #last_update\n",
    "    \n",
    "    date_table_location = 7\n",
    "    try:\n",
    "        date_string = xml.find_all('td')[date_table_location].find_all('p')[1].text.strip()\n",
    "        last_match = datetime.strptime(date_string, '%b. %d, %Y').strftime('%d-%m-%Y')\n",
    "    except:\n",
    "        last_match = None\n",
    "\n",
    "    data.append(last_match) #last_match\n",
    "    return np.array(data)\n",
    "\n",
    "print('    get_fighter_data(url) # Retrive data as list') "
   ]
  },
  {
   "cell_type": "code",
   "execution_count": 114,
   "id": "96bee1df-48e0-41ad-9b71-1613564dd4e2",
   "metadata": {},
   "outputs": [
    {
     "name": "stdout",
     "output_type": "stream",
     "text": [
      "    get_current_date()\n"
     ]
    }
   ],
   "source": [
    "def get_current_date():\n",
    "    return datetime.today().strftime('%d-%m-%Y')\n",
    "    \n",
    "print('    get_current_date()')    "
   ]
  },
  {
   "cell_type": "code",
   "execution_count": 131,
   "id": "3e956a45-242b-4f2e-ad5f-f86ac8265cd6",
   "metadata": {},
   "outputs": [
    {
     "name": "stdout",
     "output_type": "stream",
     "text": [
      "\n",
      "> matches_stats_web_scrape func:\n",
      "\n"
     ]
    }
   ],
   "source": [
    "print('\\n> matches_stats_web_scrape func:\\n')"
   ]
  },
  {
   "cell_type": "code",
   "execution_count": 5,
   "id": "e6130cd6-f44f-40fb-b782-16734edf61b3",
   "metadata": {},
   "outputs": [
    {
     "name": "stdout",
     "output_type": "stream",
     "text": [
      "    get_event_date(xml)\n"
     ]
    }
   ],
   "source": [
    "def get_event_date(xml):\n",
    "    \n",
    "    '''return event date'''\n",
    "    \n",
    "    item = xml.find('li',{'class':'b-list__box-list-item'})\n",
    "    string = item.get_text().strip()\n",
    "    start = len('DATE:')\n",
    "    date = string[start:].strip()\n",
    "    \n",
    "    return datetime.strptime(date, \"%B %d, %Y\").strftime(\"%d-%m-%Y\")\n",
    "\n",
    "print('    get_event_date(xml)')"
   ]
  },
  {
   "cell_type": "code",
   "execution_count": 45,
   "id": "932307bd-278b-4d6f-acaf-81ed58487f8e",
   "metadata": {},
   "outputs": [
    {
     "name": "stdout",
     "output_type": "stream",
     "text": [
      "    get_match_data(event_link)\n"
     ]
    }
   ],
   "source": [
    "def get_match_data(event_link, match_num=0):\n",
    "    \n",
    "    xml = get_xml(url=event_link)\n",
    "    data = xml.find_all('p',{'class':'b-fight-details__table-text'})\n",
    "\n",
    "    row_length = 16\n",
    "    row = []\n",
    "    draw = False\n",
    "    \n",
    "    row_start = match_num*row_length\n",
    "    row_end = row_start + row_length + 1\n",
    "    \n",
    "    for i in range(row_start,row_end):\n",
    "    \n",
    "        string = data[i].text.strip().replace('\\n','')\n",
    "        \n",
    "        if ':' in string:\n",
    "            continue\n",
    "        \n",
    "        if 'draw' in string:\n",
    "            draw = True\n",
    "            row_end += 1\n",
    "            continue\n",
    "        \n",
    "        if 'weight' in string:\n",
    "            row.append(string[:string.find('weight') + 6])\n",
    "        else:\n",
    "            row.append(string)            \n",
    "            \n",
    "    row.append(get_event_date(xml=xml))\n",
    "    \n",
    "    if draw == True:\n",
    "        return ['draw'] + row\n",
    "    else:\n",
    "        return row\n",
    "\n",
    "print('    get_match_data(event_link)')"
   ]
  },
  {
   "cell_type": "code",
   "execution_count": 6,
   "id": "a790de03-1a3a-458f-af9b-b0c2f579232c",
   "metadata": {},
   "outputs": [
    {
     "name": "stdout",
     "output_type": "stream",
     "text": [
      "    get_event_data(event_link)\n"
     ]
    }
   ],
   "source": [
    "def get_event_data(event_link):\n",
    "    \n",
    "    xml = get_xml(url=event_link)\n",
    "    num_of_matches = len(xml.find_all('i',{'class':'b-flag__text'}))\n",
    "    \n",
    "    data = []\n",
    "    for num in range(num_of_matches):\n",
    "        data.append(get_match_data(event_link=event_link, match_num=num))\n",
    "    \n",
    "    columns_names = ['w/l','fighter','opponent',\n",
    "                     'f_kd','o_kd','f_str','o_str','f_td','o_td','f_sub','o_sub',\n",
    "                     'weight_class','method','submission','round','time','date' \n",
    "                    ]\n",
    "    return pd.DataFrame(data=data, columns=columns_names)\n",
    "\n",
    "print('    get_event_data(event_link)')"
   ]
  },
  {
   "cell_type": "code",
   "execution_count": 46,
   "id": "604cd4e2-053c-46a1-b4ca-d1d20c4de7f6",
   "metadata": {},
   "outputs": [
    {
     "name": "stdout",
     "output_type": "stream",
     "text": [
      ">>>>>\n"
     ]
    }
   ],
   "source": [
    "print('>>>>>>>>>>>>>>>>>>>>>>>>>>>>>>>>>>>>>>>>>>>>>>>>>>')"
   ]
  },
  {
   "cell_type": "code",
   "execution_count": null,
   "id": "63507d78-a042-49cb-9919-e07b7c023ec4",
   "metadata": {},
   "outputs": [],
   "source": [
    "\n",
    "def extract_fight_data(event_url):\n",
    "    # Send a GET request to the event page\n",
    "    response = requests.get(event_url)\n",
    "    \n",
    "    # Create a BeautifulSoup object from the response content\n",
    "    soup = BeautifulSoup(response.content, 'html.parser')\n",
    "    \n",
    "    # Find all the rows in the \"FIGHTS\" table\n",
    "    table = soup.find('table', {'class': 'b-fight-details__table'})\n",
    "    rows = table.find_all('tr', {'class': 'b-fight-details__table-row'})\n",
    "    \n",
    "    # Loop through each row and extract the relevant data\n",
    "    fight_data = []\n",
    "    for row in rows:\n",
    "        # Find the columns in the row\n",
    "        cols = row.find_all('td')\n",
    "        \n",
    "        # Extract the data from each column\n",
    "        fighter1 = cols[1].find('a').text.strip()\n",
    "        fighter2 = cols[3].find('a').text.strip()\n",
    "        weight_class = cols[5].text.strip()\n",
    "        method = cols[6].text.strip()\n",
    "        round = cols[7].text.strip()\n",
    "        time = cols[8].text.strip()\n",
    "        \n",
    "        # Add the data to the fight_data list\n",
    "        fight_data.append({\n",
    "            'fighter1': fighter1,\n",
    "            'fighter2': fighter2,\n",
    "            'weight_class': weight_class,\n",
    "            'method': method,\n",
    "            'round': round,\n",
    "            'time': time\n",
    "        })\n",
    "    \n",
    "    return fight_data\n",
    "\n",
    "print('    extract_fight_data(event_url)')\n"
   ]
  },
  {
   "cell_type": "code",
   "execution_count": 28,
   "id": "355fda79-969e-4941-941e-6352c093b979",
   "metadata": {},
   "outputs": [
    {
     "name": "stdout",
     "output_type": "stream",
     "text": [
      "    get_columns(soup)\n"
     ]
    }
   ],
   "source": [
    "def get_fight_columns(soup):\n",
    "    \n",
    "    column_items = soup.find_all('th',{'class':'b-fight-details__table-col'})\n",
    "    columns = []\n",
    "    for item in column_items:\n",
    "        columns.append(item.text.strip())\n",
    "          \n",
    "    return columns\n",
    "print('    get_fight_columns(soup)')"
   ]
  },
  {
   "cell_type": "code",
   "execution_count": 16,
   "id": "1381aacf-9f8d-4e46-b02d-7e6b9ff1e845",
   "metadata": {},
   "outputs": [
    {
     "name": "stdout",
     "output_type": "stream",
     "text": [
      "    get_fight_list(soup)\n"
     ]
    }
   ],
   "source": [
    "def get_fight_list(soup):\n",
    "    \n",
    "    fights_list = soup.find_all('tr',{'class':'b-fight-details__table-row b-fight-details__table-row__hover js-fight-details-click'})\n",
    "    return fights_list\n",
    "\n",
    "    links = fights_list.find('a')\n",
    "    return links\n",
    "\n",
    "print('    get_fight_list(soup)')"
   ]
  },
  {
   "cell_type": "code",
   "execution_count": 12,
   "id": "53d45e25-bef6-4a98-8f98-301c089d3b18",
   "metadata": {},
   "outputs": [
    {
     "name": "stdout",
     "output_type": "stream",
     "text": [
      "    get_later_date(date1, date2)\n"
     ]
    }
   ],
   "source": [
    "def get_later_date(date1, date2):\n",
    "\n",
    "    date1_obj = datetime.strptime(date1, \"%d-%m-%Y\")\n",
    "    date2_obj = datetime.strptime(date2, \"%d-%m-%Y\")\n",
    "\n",
    "    if date1_obj > date2_obj:\n",
    "        return date1\n",
    "    else:\n",
    "        return date2\n",
    "    \n",
    "print('    get_later_date(date1, date2)')    "
   ]
  },
  {
   "cell_type": "code",
   "execution_count": null,
   "id": "813647e0-48de-4ad3-a7f0-e72c7bc003f3",
   "metadata": {},
   "outputs": [],
   "source": []
  }
 ],
 "metadata": {
  "kernelspec": {
   "display_name": "py3",
   "language": "python",
   "name": "py3"
  },
  "language_info": {
   "codemirror_mode": {
    "name": "ipython",
    "version": 3
   },
   "file_extension": ".py",
   "mimetype": "text/x-python",
   "name": "python",
   "nbconvert_exporter": "python",
   "pygments_lexer": "ipython3",
   "version": "3.7.12"
  }
 },
 "nbformat": 4,
 "nbformat_minor": 5
}
