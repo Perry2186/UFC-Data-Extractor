{
 "cells": [
  {
   "cell_type": "code",
   "execution_count": 6,
   "id": "2309ba84-d2c4-46da-b58e-4df03350472b",
   "metadata": {},
   "outputs": [
    {
     "name": "stdout",
     "output_type": "stream",
     "text": [
      "imports loaded.\n",
      "\n"
     ]
    }
   ],
   "source": [
    "%run imports.ipynb"
   ]
  },
  {
   "cell_type": "code",
   "execution_count": 15,
   "id": "fefe41b2-0efd-4ddd-b543-44776ab1a812",
   "metadata": {},
   "outputs": [
    {
     "name": "stdout",
     "output_type": "stream",
     "text": [
      "> file management func:\n",
      "\n"
     ]
    }
   ],
   "source": [
    "print('> file management func:\\n')"
   ]
  },
  {
   "cell_type": "code",
   "execution_count": 25,
   "id": "9ec1f3e7-8562-4256-82f9-29701dee799d",
   "metadata": {},
   "outputs": [
    {
     "name": "stdout",
     "output_type": "stream",
     "text": [
      "    get_content(directory)\n"
     ]
    }
   ],
   "source": [
    "def get_content(directory):\n",
    "    content = []\n",
    "    for file in os.scandir(directory):\n",
    "        if file.is_dir():\n",
    "            content.append(file.path + '/')\n",
    "        if file.is_file():\n",
    "            content.append(file.path)\n",
    "    return content\n",
    "    \n",
    "print('    get_content(directory)')"
   ]
  },
  {
   "cell_type": "code",
   "execution_count": 8,
   "id": "3e0a4cf0-a96e-4e26-affd-6e438ee62b0a",
   "metadata": {},
   "outputs": [
    {
     "name": "stdout",
     "output_type": "stream",
     "text": [
      "    get_last_update(file_path)\n"
     ]
    }
   ],
   "source": [
    "def get_last_update(file_path):\n",
    "\n",
    "    last_modified_timestamp = os.path.getmtime(file_path)\n",
    "    last_modified_datetime = datetime.fromtimestamp(last_modified_timestamp)\n",
    "    return last_modified_datetime.strftime(\"%d-%m-%Y\")\n",
    "\n",
    "print('    get_last_update(file_path)')"
   ]
  },
  {
   "cell_type": "code",
   "execution_count": 18,
   "id": "02318a3f-3443-4a42-b4c6-3a0ac14f5d39",
   "metadata": {},
   "outputs": [
    {
     "name": "stdout",
     "output_type": "stream",
     "text": [
      "\n",
      "> fighters_stats_scrape func:\n",
      "\n"
     ]
    }
   ],
   "source": [
    "print('\\n> fighters_stats_scrape func:\\n')"
   ]
  },
  {
   "cell_type": "code",
   "execution_count": 53,
   "id": "eb3cc14f-a97a-4935-8ad4-c0f8a5f15452",
   "metadata": {},
   "outputs": [
    {
     "name": "stdout",
     "output_type": "stream",
     "text": [
      "    get_xml(url, headers = {'User-Agent':'Moz...}) # Return web page data in .xml format.\n"
     ]
    }
   ],
   "source": [
    "def get_xml(url, headers = {'User-Agent':'Mozilla/5.0 (Windows NT 10.0; Win64; x64) AppleWebKit/537.36 (KHTML, like Gecko) Chrome/103.0.0.0 Safari/537.36'}):\n",
    "    \n",
    "    try:\n",
    "        r = requests.get(url)\n",
    "        soup = BeautifulSoup(r.text, 'xml')\n",
    "    except:\n",
    "        #print('Error on: ' + url) \n",
    "        return None\n",
    "    \n",
    "    return soup\n",
    "\n",
    "print(\"    get_xml(url, headers = {'User-Agent':'Moz...}) # Return web page data in .xml format.\")"
   ]
  },
  {
   "cell_type": "code",
   "execution_count": 97,
   "id": "d4731152-8105-4f06-9973-52f7b979124f",
   "metadata": {},
   "outputs": [
    {
     "name": "stdout",
     "output_type": "stream",
     "text": [
      "    get_links(url)\n"
     ]
    }
   ],
   "source": [
    "def get_links(url):\n",
    "    \n",
    "    link_items =  get_xml(url=url).find_all('a',{'class':'b-link b-link_style_black'})\n",
    "    links = []\n",
    "    for item in link_items:\n",
    "        links.append(item['href'])\n",
    "    \n",
    "    return links\n",
    "   \n",
    "print('    get_links(url)')"
   ]
  },
  {
   "cell_type": "code",
   "execution_count": 111,
   "id": "a4639a5e-cb5a-4953-82e1-89cf47abcb53",
   "metadata": {},
   "outputs": [
    {
     "name": "stdout",
     "output_type": "stream",
     "text": [
      "    get_fighter_data(url) # Retrive data as dictionery\n"
     ]
    }
   ],
   "source": [
    "def get_fighter_data(url):\n",
    "    \n",
    "    xml =  get_xml(url=url)\n",
    "    data = {}\n",
    "    data['name'] = xml.find('h2').find('span',{'class':'b-content__title-highlight'}).text.strip()\n",
    "    \n",
    "    record_string = xml.find('h2').find('span',{'class':'b-content__title-record'}).text.strip()\n",
    "    data['wins'] = int(record_string[record_string.find(':')+1:record_string.find('-')])\n",
    "    data['losses'] = int(record_string.split('-')[1])\n",
    "    data['draws'] = record_string.split('-')[2]\n",
    "    \n",
    "    \n",
    "    stat_boxes = get_xml(url=url).find_all('ul')[0:3]\n",
    "    for item in stat_boxes:\n",
    "        for sub_item in item.contents:\n",
    "            text = sub_item.text.strip().replace(\" \", \"\").replace(\"\\n\", \"\")\n",
    "            if len(text) > 0:\n",
    "                key = text[:text.find(':')]\n",
    "                value = text[text.find(':')+1:]\n",
    "                data[key] = value\n",
    "    \n",
    "    data['last_update'] = None\n",
    "    data['last_fight'] = None\n",
    "    return data\n",
    "\n",
    "print('    get_fighter_data(url) # Retrive data as dictionery') "
   ]
  },
  {
   "cell_type": "code",
   "execution_count": 110,
   "id": "bc233c75-b855-4982-80de-b605588ea03c",
   "metadata": {},
   "outputs": [
    {
     "name": "stdout",
     "output_type": "stream",
     "text": [
      "    get_fighter_data(url) # Retrive data as list\n"
     ]
    }
   ],
   "source": [
    "def get_fighter_data(url):\n",
    "    \n",
    "    xml =  get_xml(url=url)\n",
    "    data = []\n",
    "    data.append(xml.find('h2').find('span',{'class':'b-content__title-highlight'}).text.strip()) #name\n",
    "    \n",
    "    record_string = xml.find('h2').find('span',{'class':'b-content__title-record'}).text.strip()\n",
    "    data.append(int(record_string[record_string.find(':')+1:record_string.find('-')])) #wins\n",
    "    data.append(int(record_string.split('-')[1])) #losses\n",
    "    data.append(record_string.split('-')[2]) #draws\n",
    "    \n",
    "    stat_boxes = get_xml(url=url).find_all('ul')[0:3]\n",
    "    for item in stat_boxes:\n",
    "        for sub_item in item.contents:\n",
    "            text = sub_item.text.strip().replace(\" \", \"\").replace(\"\\n\", \"\")\n",
    "            if len(text) > 0:\n",
    "                data.append(text[text.find(':')+1:])\n",
    "    \n",
    "    data.append(None) #last_update\n",
    "    data.append(None) #last_match\n",
    "    return np.array(data)\n",
    "\n",
    "print('    get_fighter_data(url) # Retrive data as list') "
   ]
  },
  {
   "cell_type": "code",
   "execution_count": 46,
   "id": "604cd4e2-053c-46a1-b4ca-d1d20c4de7f6",
   "metadata": {},
   "outputs": [
    {
     "name": "stdout",
     "output_type": "stream",
     "text": [
      ">>>>>\n"
     ]
    }
   ],
   "source": [
    "print('>>>>>>>>>>>>>>>>>>>>>>>>>>>>>>>>>>>>>>>>>>>>>>>>>>')"
   ]
  },
  {
   "cell_type": "code",
   "execution_count": 13,
   "id": "96bee1df-48e0-41ad-9b71-1613564dd4e2",
   "metadata": {},
   "outputs": [
    {
     "name": "stdout",
     "output_type": "stream",
     "text": [
      "    get_current_date()\n"
     ]
    }
   ],
   "source": [
    "def get_current_date():\n",
    "    return datetime.date.today().strftime('%d-%m-%Y')\n",
    "    \n",
    "print('    get_current_date()')    "
   ]
  },
  {
   "cell_type": "code",
   "execution_count": 6,
   "id": "1c2bebeb-f338-4d54-ba76-ba72d812c0e7",
   "metadata": {},
   "outputs": [
    {
     "name": "stdout",
     "output_type": "stream",
     "text": [
      "    get_row(soup)\n"
     ]
    }
   ],
   "source": [
    "def get_row(soup):\n",
    "    \n",
    "    '''get soup & return np.array of all relevant row details'''\n",
    "    \n",
    "    row = get_name(soup)\n",
    "    row = np.append( row,get_record(soup) )\n",
    "    row = np.append( row,get_stats(soup) )\n",
    "    \n",
    "    return row\n",
    "print('    get_row(soup)')"
   ]
  },
  {
   "cell_type": "code",
   "execution_count": 5,
   "id": "021b1990-9dff-4374-b368-cdf2280675e8",
   "metadata": {},
   "outputs": [
    {
     "name": "stdout",
     "output_type": "stream",
     "text": [
      "    get_record(soup)\n"
     ]
    }
   ],
   "source": [
    "def get_record(soup):\n",
    "    \n",
    "    '''get soup & return np.array of wins,draws,losses'''\n",
    "    \n",
    "    h2 = soup.find('h2',{'class':'b-content__title'})\n",
    "\n",
    "    record = h2 .contents[3].contents[0].strip()\n",
    "    record = record[record.find(':')+2:len(record)]\n",
    "    \n",
    "    wins = record[:record.find('-')]\n",
    "    \n",
    "    losses = record[record.find('-')+1:record.find('-')+record.find('-')]\n",
    "    \n",
    "    if record.find(' ') == -1:\n",
    "        string_end = len(record)\n",
    "    else:\n",
    "        string_end = record.find(' ')\n",
    "    \n",
    "    draws = record[record.find('-')+1+record.find('-'):string_end]\n",
    "    \n",
    "    return np.array([wins,losses,draws])\n",
    "print('    get_record(soup)')"
   ]
  },
  {
   "cell_type": "code",
   "execution_count": 7,
   "id": "093bf1e5-e7a7-4132-b405-3a832f946b4b",
   "metadata": {},
   "outputs": [
    {
     "name": "stdout",
     "output_type": "stream",
     "text": [
      "    get_name(soup)\n"
     ]
    }
   ],
   "source": [
    "def get_name(soup):\n",
    "    \n",
    "    '''get soup & return fighter's name'''\n",
    "    \n",
    "    h2 = soup.find('h2',{'class':'b-content__title'})\n",
    "    name = h2.contents[1].contents[0].strip()\n",
    "    \n",
    "    return np.array([name])\n",
    "print('    get_name(soup)')"
   ]
  },
  {
   "cell_type": "code",
   "execution_count": 8,
   "id": "03ba0035-ee4d-46ae-83f8-d90ca4fbec3b",
   "metadata": {},
   "outputs": [
    {
     "name": "stdout",
     "output_type": "stream",
     "text": [
      "    get_stats(soup)\n"
     ]
    }
   ],
   "source": [
    "def get_stats(soup):\n",
    "    \n",
    "    '''get html data from page & return row with only the relevant values'''\n",
    "    \n",
    "    data = get_html_data(soup)\n",
    "    \n",
    "    row = []\n",
    "\n",
    "    for i in range(len(data)):\n",
    "        for j in range(len(data[i])):\n",
    "            row.append( data[i][j].contents[2].strip() )\n",
    "        \n",
    "    return np.array(row)     \n",
    "print('    get_stats(soup)')"
   ]
  },
  {
   "cell_type": "code",
   "execution_count": 9,
   "id": "30a81a86-cb60-4bf8-ad12-9707da3ee28e",
   "metadata": {},
   "outputs": [
    {
     "name": "stdout",
     "output_type": "stream",
     "text": [
      "    get_columns(soup)\n"
     ]
    }
   ],
   "source": [
    "def get_columns(soup):\n",
    "    \n",
    "    '''return list of columns'''\n",
    "    \n",
    "    data = get_html_data(soup)\n",
    "    \n",
    "    columns = ['name','wins','losses','draws']\n",
    "    \n",
    "    for i in range(len(data)):\n",
    "        for j in range(len(data[i])):\n",
    "            columns.append( data[i][j].contents[1].contents[0].strip() )\n",
    "     \n",
    "    return columns\n",
    "print('    get_columns(soup)')"
   ]
  },
  {
   "cell_type": "code",
   "execution_count": 27,
   "id": "3e956a45-242b-4f2e-ad5f-f86ac8265cd6",
   "metadata": {},
   "outputs": [
    {
     "name": "stdout",
     "output_type": "stream",
     "text": [
      "\n",
      "> fights_stats_web_scrape func:\n",
      "\n"
     ]
    }
   ],
   "source": [
    "print('\\n> fights_stats_web_scrape func:\\n')"
   ]
  },
  {
   "cell_type": "code",
   "execution_count": 32,
   "id": "dde2fdd0-f5ff-41e3-bd94-d54532ece011",
   "metadata": {},
   "outputs": [
    {
     "name": "stdout",
     "output_type": "stream",
     "text": [
      "    get_event_data(soup)\n"
     ]
    }
   ],
   "source": [
    "def get_event_data(soup):\n",
    "    #return soup.find_all('th')[0:3] # column names\n",
    "    return soup.find('p',{'class':'b-fight-details__table-text'}) #data\n",
    "\n",
    "print('    get_event_data(soup)')"
   ]
  },
  {
   "cell_type": "code",
   "execution_count": null,
   "id": "63507d78-a042-49cb-9919-e07b7c023ec4",
   "metadata": {},
   "outputs": [],
   "source": [
    "\n",
    "def extract_fight_data(event_url):\n",
    "    # Send a GET request to the event page\n",
    "    response = requests.get(event_url)\n",
    "    \n",
    "    # Create a BeautifulSoup object from the response content\n",
    "    soup = BeautifulSoup(response.content, 'html.parser')\n",
    "    \n",
    "    # Find all the rows in the \"FIGHTS\" table\n",
    "    table = soup.find('table', {'class': 'b-fight-details__table'})\n",
    "    rows = table.find_all('tr', {'class': 'b-fight-details__table-row'})\n",
    "    \n",
    "    # Loop through each row and extract the relevant data\n",
    "    fight_data = []\n",
    "    for row in rows:\n",
    "        # Find the columns in the row\n",
    "        cols = row.find_all('td')\n",
    "        \n",
    "        # Extract the data from each column\n",
    "        fighter1 = cols[1].find('a').text.strip()\n",
    "        fighter2 = cols[3].find('a').text.strip()\n",
    "        weight_class = cols[5].text.strip()\n",
    "        method = cols[6].text.strip()\n",
    "        round = cols[7].text.strip()\n",
    "        time = cols[8].text.strip()\n",
    "        \n",
    "        # Add the data to the fight_data list\n",
    "        fight_data.append({\n",
    "            'fighter1': fighter1,\n",
    "            'fighter2': fighter2,\n",
    "            'weight_class': weight_class,\n",
    "            'method': method,\n",
    "            'round': round,\n",
    "            'time': time\n",
    "        })\n",
    "    \n",
    "    return fight_data\n",
    "\n",
    "print('    extract_fight_data(event_url)')\n"
   ]
  },
  {
   "cell_type": "code",
   "execution_count": 28,
   "id": "355fda79-969e-4941-941e-6352c093b979",
   "metadata": {},
   "outputs": [
    {
     "name": "stdout",
     "output_type": "stream",
     "text": [
      "    get_columns(soup)\n"
     ]
    }
   ],
   "source": [
    "def get_fight_columns(soup):\n",
    "    \n",
    "    column_items = soup.find_all('th',{'class':'b-fight-details__table-col'})\n",
    "    columns = []\n",
    "    for item in column_items:\n",
    "        columns.append(item.text.strip())\n",
    "          \n",
    "    return columns\n",
    "print('    get_fight_columns(soup)')"
   ]
  },
  {
   "cell_type": "code",
   "execution_count": 16,
   "id": "1381aacf-9f8d-4e46-b02d-7e6b9ff1e845",
   "metadata": {},
   "outputs": [
    {
     "name": "stdout",
     "output_type": "stream",
     "text": [
      "    get_fight_list(soup)\n"
     ]
    }
   ],
   "source": [
    "def get_fight_list(soup):\n",
    "    \n",
    "    fights_list = soup.find_all('tr',{'class':'b-fight-details__table-row b-fight-details__table-row__hover js-fight-details-click'})\n",
    "    return fights_list\n",
    "\n",
    "    links = fights_list.find('a')\n",
    "    return links\n",
    "\n",
    "print('    get_fight_list(soup)')"
   ]
  },
  {
   "cell_type": "code",
   "execution_count": 10,
   "id": "e6130cd6-f44f-40fb-b782-16734edf61b3",
   "metadata": {},
   "outputs": [
    {
     "name": "stdout",
     "output_type": "stream",
     "text": [
      "    get_event_date(soup)\n"
     ]
    }
   ],
   "source": [
    "def get_event_date(soup):\n",
    "    \n",
    "    '''return event date'''\n",
    "    \n",
    "    item = soup.find('li',{'class':'b-list__box-list-item'})\n",
    "    string = item.get_text().strip()\n",
    "    start = len('DATE:')\n",
    "    date = string[start:].strip()\n",
    "    \n",
    "    return datetime.strptime(date, \"%B %d, %Y\").strftime(\"%d-%m-%Y\")\n",
    "\n",
    "print('    get_event_date(soup)')"
   ]
  },
  {
   "cell_type": "code",
   "execution_count": 12,
   "id": "53d45e25-bef6-4a98-8f98-301c089d3b18",
   "metadata": {},
   "outputs": [
    {
     "name": "stdout",
     "output_type": "stream",
     "text": [
      "    get_later_date(date1, date2)\n"
     ]
    }
   ],
   "source": [
    "def get_later_date(date1, date2):\n",
    "\n",
    "    date1_obj = datetime.strptime(date1, \"%d-%m-%Y\")\n",
    "    date2_obj = datetime.strptime(date2, \"%d-%m-%Y\")\n",
    "\n",
    "    if date1_obj > date2_obj:\n",
    "        return date1\n",
    "    else:\n",
    "        return date2\n",
    "    \n",
    "print('    get_later_date(date1, date2)')    "
   ]
  },
  {
   "cell_type": "code",
   "execution_count": null,
   "id": "813647e0-48de-4ad3-a7f0-e72c7bc003f3",
   "metadata": {},
   "outputs": [],
   "source": []
  }
 ],
 "metadata": {
  "kernelspec": {
   "display_name": "py3",
   "language": "python",
   "name": "py3"
  },
  "language_info": {
   "codemirror_mode": {
    "name": "ipython",
    "version": 3
   },
   "file_extension": ".py",
   "mimetype": "text/x-python",
   "name": "python",
   "nbconvert_exporter": "python",
   "pygments_lexer": "ipython3",
   "version": "3.7.12"
  }
 },
 "nbformat": 4,
 "nbformat_minor": 5
}
