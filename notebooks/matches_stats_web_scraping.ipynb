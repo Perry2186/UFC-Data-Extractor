{
 "cells": [
  {
   "cell_type": "code",
   "execution_count": 1,
   "id": "99b02faa-6968-461c-b312-d529ac19da57",
   "metadata": {},
   "outputs": [
    {
     "name": "stdout",
     "output_type": "stream",
     "text": [
      "imports loaded.\n",
      "\n",
      "> file management func:\n",
      "\n",
      "    get_content(directory)\n",
      "    get_last_update(file_path)\n",
      "\n",
      "> fighters_stats_scrape func:\n",
      "\n",
      "    get_xml(url, headers = {'User-Agent':'Moz...}) # Return web page data in .xml format.\n",
      "    get_links(url)\n",
      "    get_fighter_data(url) # Retrive data as list\n",
      "    get_current_date()\n",
      "\n",
      "> matches_stats_web_scrape func:\n",
      "\n",
      "    get_event_date(xml)\n",
      "    get_event_data(event_link)\n",
      "    get_later_date(date1, date2)\n",
      ">>>>>>>>>>>>>>>>>>>>>>>>>>>>>>>>>>>>>>>>>>>>>>>>>>\n"
     ]
    }
   ],
   "source": [
    "%run web_scrape_func_def.ipynb"
   ]
  },
  {
   "cell_type": "markdown",
   "id": "1cbe43ad",
   "metadata": {},
   "source": [
    "# Main( )"
   ]
  },
  {
   "cell_type": "markdown",
   "id": "d05269e8-962a-421e-98f3-31dab44cc2c7",
   "metadata": {},
   "source": [
    "#### Updating variables:"
   ]
  },
  {
   "cell_type": "code",
   "execution_count": 2,
   "id": "12449141-3ad0-497d-90f4-0eb1450c145c",
   "metadata": {},
   "outputs": [
    {
     "data": {
      "text/plain": [
       "'01-03-2023'"
      ]
     },
     "execution_count": 2,
     "metadata": {},
     "output_type": "execute_result"
    }
   ],
   "source": [
    "files = get_content(directory='../data/')\n",
    "last_file_update = None\n",
    "\n",
    "for file in files:\n",
    "    if 'ufc_fighters_stats' in file:\n",
    "        last_file_update = get_last_update(file_path = '../data/' + file)\n",
    "\n",
    "last_file_update"
   ]
  },
  {
   "cell_type": "code",
   "execution_count": 3,
   "id": "008f2f91-5c83-4333-947d-1bdffb5b0709",
   "metadata": {},
   "outputs": [],
   "source": [
    "last_file_update = '01-01-2023' # input is only for testing "
   ]
  },
  {
   "cell_type": "code",
   "execution_count": 4,
   "id": "09ad93f0-1d57-4840-8455-aac492caf24b",
   "metadata": {},
   "outputs": [],
   "source": [
    "events_list = 'http://ufcstats.com/statistics/events/completed?page=all'\n",
    "events = get_links(url=events_list)"
   ]
  },
  {
   "cell_type": "markdown",
   "id": "13480106-4aba-4b67-a923-010a70d806c1",
   "metadata": {},
   "source": [
    "#### Extracting data to data frame:"
   ]
  },
  {
   "cell_type": "code",
   "execution_count": 5,
   "id": "1840a6f6-85e5-4c8e-8bc2-ae8d0c3a70d4",
   "metadata": {
    "tags": []
   },
   "outputs": [
    {
     "name": "stderr",
     "output_type": "stream",
     "text": [
      "100%|████████████████████████████████████████████████████████████████████████████████| 640/640 [06:20<00:00,  1.68it/s]\n"
     ]
    },
    {
     "data": {
      "text/html": [
       "<div>\n",
       "<style scoped>\n",
       "    .dataframe tbody tr th:only-of-type {\n",
       "        vertical-align: middle;\n",
       "    }\n",
       "\n",
       "    .dataframe tbody tr th {\n",
       "        vertical-align: top;\n",
       "    }\n",
       "\n",
       "    .dataframe thead th {\n",
       "        text-align: right;\n",
       "    }\n",
       "</style>\n",
       "<table border=\"1\" class=\"dataframe\">\n",
       "  <thead>\n",
       "    <tr style=\"text-align: right;\">\n",
       "      <th></th>\n",
       "      <th>result</th>\n",
       "      <th>fighter</th>\n",
       "      <th>opponent</th>\n",
       "      <th>f_kd</th>\n",
       "      <th>o_kd</th>\n",
       "      <th>f_str</th>\n",
       "      <th>o_str</th>\n",
       "      <th>f_td</th>\n",
       "      <th>o_td</th>\n",
       "      <th>f_sub</th>\n",
       "      <th>o_sub</th>\n",
       "      <th>weight_class</th>\n",
       "      <th>method</th>\n",
       "      <th>type</th>\n",
       "      <th>round</th>\n",
       "      <th>time</th>\n",
       "      <th>date</th>\n",
       "    </tr>\n",
       "  </thead>\n",
       "  <tbody>\n",
       "    <tr>\n",
       "      <th>6417</th>\n",
       "      <td>win</td>\n",
       "      <td>Frank Hamaker</td>\n",
       "      <td>Thaddeus Luster</td>\n",
       "      <td>0</td>\n",
       "      <td>0</td>\n",
       "      <td>2</td>\n",
       "      <td>0</td>\n",
       "      <td>1</td>\n",
       "      <td>0</td>\n",
       "      <td>3</td>\n",
       "      <td>0</td>\n",
       "      <td>Open Weight</td>\n",
       "      <td>SUB</td>\n",
       "      <td>Keylock</td>\n",
       "      <td>1</td>\n",
       "      <td>4:52</td>\n",
       "      <td>11-03-1994</td>\n",
       "    </tr>\n",
       "    <tr>\n",
       "      <th>6418</th>\n",
       "      <td>win</td>\n",
       "      <td>Johnny Rhodes</td>\n",
       "      <td>David Levicki</td>\n",
       "      <td>0</td>\n",
       "      <td>0</td>\n",
       "      <td>11</td>\n",
       "      <td>4</td>\n",
       "      <td>1</td>\n",
       "      <td>0</td>\n",
       "      <td>0</td>\n",
       "      <td>0</td>\n",
       "      <td>Open Weight</td>\n",
       "      <td>KO/TKO</td>\n",
       "      <td>Punches</td>\n",
       "      <td>1</td>\n",
       "      <td>12:13</td>\n",
       "      <td>11-03-1994</td>\n",
       "    </tr>\n",
       "    <tr>\n",
       "      <th>6419</th>\n",
       "      <td>win</td>\n",
       "      <td>Patrick Smith</td>\n",
       "      <td>Ray Wizard</td>\n",
       "      <td>0</td>\n",
       "      <td>0</td>\n",
       "      <td>1</td>\n",
       "      <td>1</td>\n",
       "      <td>0</td>\n",
       "      <td>0</td>\n",
       "      <td>1</td>\n",
       "      <td>0</td>\n",
       "      <td>Open Weight</td>\n",
       "      <td>SUB</td>\n",
       "      <td>Guillotine Choke</td>\n",
       "      <td>1</td>\n",
       "      <td>0:58</td>\n",
       "      <td>11-03-1994</td>\n",
       "    </tr>\n",
       "  </tbody>\n",
       "</table>\n",
       "</div>"
      ],
      "text/plain": [
       "     result        fighter         opponent f_kd o_kd f_str o_str f_td o_td  \\\n",
       "6417    win  Frank Hamaker  Thaddeus Luster    0    0     2     0    1    0   \n",
       "6418    win  Johnny Rhodes    David Levicki    0    0    11     4    1    0   \n",
       "6419    win  Patrick Smith       Ray Wizard    0    0     1     1    0    0   \n",
       "\n",
       "     f_sub o_sub weight_class  method              type round   time  \\\n",
       "6417     3     0  Open Weight     SUB           Keylock     1   4:52   \n",
       "6418     0     0  Open Weight  KO/TKO           Punches     1  12:13   \n",
       "6419     1     0  Open Weight     SUB  Guillotine Choke     1   0:58   \n",
       "\n",
       "            date  \n",
       "6417  11-03-1994  \n",
       "6418  11-03-1994  \n",
       "6419  11-03-1994  "
      ]
     },
     "execution_count": 5,
     "metadata": {},
     "output_type": "execute_result"
    }
   ],
   "source": [
    "data = []\n",
    "column_names = ['result','fighter','opponent',\n",
    "                'f_kd','o_kd','f_str','o_str','f_td','o_td','f_sub','o_sub',\n",
    "                'weight_class','method','type','round','time','date'\n",
    "               ]\n",
    "\n",
    "for url in tqdm(events):\n",
    "    data.extend(get_event_data(event_link=url))\n",
    "    \n",
    "df = pd.DataFrame(data=data, columns=column_names) \n",
    "df.tail(3)"
   ]
  },
  {
   "cell_type": "markdown",
   "id": "480176c1",
   "metadata": {},
   "source": [
    "#### Saving file:"
   ]
  },
  {
   "cell_type": "code",
   "execution_count": 7,
   "id": "5fbbc719-955e-4e25-aeee-3dce861ce41e",
   "metadata": {},
   "outputs": [
    {
     "name": "stdout",
     "output_type": "stream",
     "text": [
      "../data/ufc_matches_stats.csv saved.\n"
     ]
    }
   ],
   "source": [
    "df.to_csv('../data/ufc_matches_stats.csv', index=0)\n",
    "print('../data/ufc_matches_stats.csv saved.')"
   ]
  },
  {
   "cell_type": "markdown",
   "id": "9060b1a5",
   "metadata": {},
   "source": [
    "# >>>>>>>>>>>>>>>>>>>>>>>>>>>>>>>>>>>>>>>>>>>>>>>>>>>>>>>>>"
   ]
  }
 ],
 "metadata": {
  "kernelspec": {
   "display_name": "Python 3 (ipykernel)",
   "language": "python",
   "name": "python3"
  },
  "language_info": {
   "codemirror_mode": {
    "name": "ipython",
    "version": 3
   },
   "file_extension": ".py",
   "mimetype": "text/x-python",
   "name": "python",
   "nbconvert_exporter": "python",
   "pygments_lexer": "ipython3",
   "version": "3.9.7"
  }
 },
 "nbformat": 4,
 "nbformat_minor": 5
}
