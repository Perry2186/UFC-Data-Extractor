{
 "cells": [
  {
   "cell_type": "code",
   "execution_count": 1,
   "id": "99b02faa-6968-461c-b312-d529ac19da57",
   "metadata": {},
   "outputs": [
    {
     "name": "stdout",
     "output_type": "stream",
     "text": [
      "imports loaded.\n",
      "\n",
      "> file management func:\n",
      "\n",
      "    get_content(directory)\n",
      "    get_last_update(file_path)\n",
      "\n",
      "> fighters_stats_scrape func:\n",
      "\n",
      "    get_xml(url, headers = {'User-Agent':'Moz...}) # Return web page data in .xml format.\n",
      "    get_links(url)\n",
      "    get_fighter_data(url) # Retrive data as list\n",
      "    get_current_date()\n",
      "\n",
      "> matches_stats_web_scrape func:\n",
      "\n",
      "    get_event_date(xml)\n",
      "    get_event_data(event_link)\n",
      "    get_later_date(date1, date2)\n"
     ]
    }
   ],
   "source": [
    "%run web_scrape_func_def.ipynb"
   ]
  },
  {
   "cell_type": "markdown",
   "id": "1cbe43ad",
   "metadata": {},
   "source": [
    "# Main( )"
   ]
  },
  {
   "cell_type": "markdown",
   "id": "88c2484b-008e-4037-87cc-ba306dc5ccb1",
   "metadata": {},
   "source": [
    "#### User variables:"
   ]
  },
  {
   "cell_type": "code",
   "execution_count": 2,
   "id": "e928984d-22f1-472f-87fc-09ed1d5cdb54",
   "metadata": {},
   "outputs": [],
   "source": [
    "output_loc = '../data/'"
   ]
  },
  {
   "cell_type": "markdown",
   "id": "33060df5-14ed-42eb-b486-5aab2eed5827",
   "metadata": {},
   "source": [
    "#### Update requirements variables:"
   ]
  },
  {
   "cell_type": "code",
   "execution_count": 3,
   "id": "12449141-3ad0-497d-90f4-0eb1450c145c",
   "metadata": {},
   "outputs": [
    {
     "name": "stdout",
     "output_type": "stream",
     "text": [
      "Last update: 11-04-2023\n"
     ]
    }
   ],
   "source": [
    "files = get_content(directory=output_loc)\n",
    "last_file_update = None\n",
    "\n",
    "for file in files:\n",
    "    if 'ufc_fighters_stats' in file:\n",
    "        last_file_update = get_last_update(file_path = output_loc + file)\n",
    "\n",
    "print('Last update: ' + last_file_update)"
   ]
  },
  {
   "cell_type": "code",
   "execution_count": 4,
   "id": "a8c4f619-e6a6-4a89-9099-82c30bf34333",
   "metadata": {},
   "outputs": [],
   "source": [
    "#last_file_update = '01-01-2022' # date for testing"
   ]
  },
  {
   "cell_type": "markdown",
   "id": "d05269e8-962a-421e-98f3-31dab44cc2c7",
   "metadata": {},
   "source": [
    "#### Get only required links:"
   ]
  },
  {
   "cell_type": "code",
   "execution_count": 5,
   "id": "2c733071-b6a8-4a3b-9442-57aa6a205a0d",
   "metadata": {},
   "outputs": [
    {
     "name": "stdout",
     "output_type": "stream",
     "text": [
      "Events required update: 0\n"
     ]
    }
   ],
   "source": [
    "events = get_links(url='http://ufcstats.com/statistics/events/completed?page=all')\n",
    "events.tail(3)\n",
    "\n",
    "# filter this df to only add new matches\n",
    "if last_file_update == None:\n",
    "        events_for_update = events.event_url\n",
    "else:\n",
    "    df = events[events.date > last_file_update].reset_index(drop=True)\n",
    "    events_for_update = df.event_url\n",
    "    \n",
    "print('Events required update: %d' %len(events_for_update))    "
   ]
  },
  {
   "cell_type": "markdown",
   "id": "13480106-4aba-4b67-a923-010a70d806c1",
   "metadata": {},
   "source": [
    "#### Extracting data to data frame:"
   ]
  },
  {
   "cell_type": "code",
   "execution_count": 6,
   "id": "1840a6f6-85e5-4c8e-8bc2-ae8d0c3a70d4",
   "metadata": {
    "tags": []
   },
   "outputs": [
    {
     "name": "stderr",
     "output_type": "stream",
     "text": [
      "0it [00:00, ?it/s]\n"
     ]
    },
    {
     "data": {
      "text/html": [
       "<div>\n",
       "<style scoped>\n",
       "    .dataframe tbody tr th:only-of-type {\n",
       "        vertical-align: middle;\n",
       "    }\n",
       "\n",
       "    .dataframe tbody tr th {\n",
       "        vertical-align: top;\n",
       "    }\n",
       "\n",
       "    .dataframe thead th {\n",
       "        text-align: right;\n",
       "    }\n",
       "</style>\n",
       "<table border=\"1\" class=\"dataframe\">\n",
       "  <thead>\n",
       "    <tr style=\"text-align: right;\">\n",
       "      <th></th>\n",
       "      <th>result</th>\n",
       "      <th>fighter</th>\n",
       "      <th>opponent</th>\n",
       "      <th>f_kd</th>\n",
       "      <th>o_kd</th>\n",
       "      <th>f_str</th>\n",
       "      <th>o_str</th>\n",
       "      <th>f_td</th>\n",
       "      <th>o_td</th>\n",
       "      <th>f_sub</th>\n",
       "      <th>o_sub</th>\n",
       "      <th>weight_class</th>\n",
       "      <th>method</th>\n",
       "      <th>type</th>\n",
       "      <th>round</th>\n",
       "      <th>time</th>\n",
       "      <th>date</th>\n",
       "      <th>event_url</th>\n",
       "    </tr>\n",
       "  </thead>\n",
       "  <tbody>\n",
       "  </tbody>\n",
       "</table>\n",
       "</div>"
      ],
      "text/plain": [
       "Empty DataFrame\n",
       "Columns: [result, fighter, opponent, f_kd, o_kd, f_str, o_str, f_td, o_td, f_sub, o_sub, weight_class, method, type, round, time, date, event_url]\n",
       "Index: []"
      ]
     },
     "execution_count": 6,
     "metadata": {},
     "output_type": "execute_result"
    }
   ],
   "source": [
    "data = []\n",
    "column_names = ['result','fighter','opponent',\n",
    "                'f_kd','o_kd','f_str','o_str','f_td','o_td','f_sub','o_sub',\n",
    "                'weight_class','method','type','round','time','date','event_url'\n",
    "               ]\n",
    "\n",
    "for url in tqdm(events_for_update):\n",
    "    data.extend(get_event_data(event_link=url))\n",
    "    \n",
    "df = pd.DataFrame(data=data, columns=column_names)  \n",
    "df.tail(3)"
   ]
  },
  {
   "cell_type": "markdown",
   "id": "480176c1",
   "metadata": {
    "tags": []
   },
   "source": [
    "#### Fighters list that require update:"
   ]
  },
  {
   "cell_type": "code",
   "execution_count": 7,
   "id": "757b6ed6-0e7e-438f-a230-c4962826f1e6",
   "metadata": {},
   "outputs": [],
   "source": [
    "fighter_list = df[['fighter','event_url']][df.date > last_file_update]\n",
    "opponent_list = df[['opponent','event_url']][df.date > last_file_update].rename(columns={'opponent':'fighter'})\n",
    "full_list = pd.concat([fighter_list,opponent_list]).drop_duplicates(ignore_index=True)\n",
    "\n",
    "if len(full_list) > 0:\n",
    "    full_list.to_csv(output_loc + 'fighters_required_update.csv', index=0)\n",
    "    print(output_loc + 'fighters_required_update.csv saved.')\n",
    "    full_list.tail(3)"
   ]
  },
  {
   "cell_type": "markdown",
   "id": "0d9147c1-b3a9-4948-9688-4a2ea8f6a8cd",
   "metadata": {},
   "source": [
    "#### Saving file:"
   ]
  },
  {
   "cell_type": "code",
   "execution_count": 8,
   "id": "0f1e7996-24fc-443a-a8d6-6422df1e525f",
   "metadata": {},
   "outputs": [
    {
     "name": "stdout",
     "output_type": "stream",
     "text": [
      "../data/ufc_matches_stats.csv updated.\n"
     ]
    },
    {
     "data": {
      "text/html": [
       "<div>\n",
       "<style scoped>\n",
       "    .dataframe tbody tr th:only-of-type {\n",
       "        vertical-align: middle;\n",
       "    }\n",
       "\n",
       "    .dataframe tbody tr th {\n",
       "        vertical-align: top;\n",
       "    }\n",
       "\n",
       "    .dataframe thead th {\n",
       "        text-align: right;\n",
       "    }\n",
       "</style>\n",
       "<table border=\"1\" class=\"dataframe\">\n",
       "  <thead>\n",
       "    <tr style=\"text-align: right;\">\n",
       "      <th></th>\n",
       "      <th>result</th>\n",
       "      <th>fighter</th>\n",
       "      <th>opponent</th>\n",
       "      <th>f_kd</th>\n",
       "      <th>o_kd</th>\n",
       "      <th>f_str</th>\n",
       "      <th>o_str</th>\n",
       "      <th>f_td</th>\n",
       "      <th>o_td</th>\n",
       "      <th>f_sub</th>\n",
       "      <th>o_sub</th>\n",
       "      <th>weight_class</th>\n",
       "      <th>method</th>\n",
       "      <th>type</th>\n",
       "      <th>round</th>\n",
       "      <th>time</th>\n",
       "      <th>date</th>\n",
       "      <th>event_url</th>\n",
       "    </tr>\n",
       "  </thead>\n",
       "  <tbody>\n",
       "    <tr>\n",
       "      <th>7033</th>\n",
       "      <td>win</td>\n",
       "      <td>Johnny Rhodes</td>\n",
       "      <td>David Levicki</td>\n",
       "      <td>0</td>\n",
       "      <td>0</td>\n",
       "      <td>11</td>\n",
       "      <td>4</td>\n",
       "      <td>1</td>\n",
       "      <td>0</td>\n",
       "      <td>0</td>\n",
       "      <td>0</td>\n",
       "      <td>Open Weight</td>\n",
       "      <td>KO/TKO</td>\n",
       "      <td>Punches</td>\n",
       "      <td>1</td>\n",
       "      <td>12:13</td>\n",
       "      <td>1994-03-11</td>\n",
       "      <td>http://ufcstats.com/event-details/a6a9ab5a824e...</td>\n",
       "    </tr>\n",
       "    <tr>\n",
       "      <th>7034</th>\n",
       "      <td>win</td>\n",
       "      <td>Royce Gracie</td>\n",
       "      <td>Minoki Ichihara</td>\n",
       "      <td>0</td>\n",
       "      <td>0</td>\n",
       "      <td>2</td>\n",
       "      <td>3</td>\n",
       "      <td>1</td>\n",
       "      <td>0</td>\n",
       "      <td>2</td>\n",
       "      <td>0</td>\n",
       "      <td>Open Weight</td>\n",
       "      <td>SUB</td>\n",
       "      <td>Armbar</td>\n",
       "      <td>1</td>\n",
       "      <td>5:08</td>\n",
       "      <td>1994-03-11</td>\n",
       "      <td>http://ufcstats.com/event-details/a6a9ab5a824e...</td>\n",
       "    </tr>\n",
       "    <tr>\n",
       "      <th>7035</th>\n",
       "      <td>win</td>\n",
       "      <td>Patrick Smith</td>\n",
       "      <td>Ray Wizard</td>\n",
       "      <td>0</td>\n",
       "      <td>0</td>\n",
       "      <td>1</td>\n",
       "      <td>1</td>\n",
       "      <td>0</td>\n",
       "      <td>0</td>\n",
       "      <td>1</td>\n",
       "      <td>0</td>\n",
       "      <td>Open Weight</td>\n",
       "      <td>SUB</td>\n",
       "      <td>Guillotine Choke</td>\n",
       "      <td>1</td>\n",
       "      <td>0:58</td>\n",
       "      <td>1994-03-11</td>\n",
       "      <td>http://ufcstats.com/event-details/a6a9ab5a824e...</td>\n",
       "    </tr>\n",
       "  </tbody>\n",
       "</table>\n",
       "</div>"
      ],
      "text/plain": [
       "     result        fighter         opponent f_kd o_kd f_str o_str f_td o_td  \\\n",
       "7033    win  Johnny Rhodes    David Levicki    0    0    11     4    1    0   \n",
       "7034    win   Royce Gracie  Minoki Ichihara    0    0     2     3    1    0   \n",
       "7035    win  Patrick Smith       Ray Wizard    0    0     1     1    0    0   \n",
       "\n",
       "     f_sub o_sub weight_class  method              type round   time  \\\n",
       "7033     0     0  Open Weight  KO/TKO           Punches     1  12:13   \n",
       "7034     2     0  Open Weight     SUB            Armbar     1   5:08   \n",
       "7035     1     0  Open Weight     SUB  Guillotine Choke     1   0:58   \n",
       "\n",
       "            date                                          event_url  \n",
       "7033  1994-03-11  http://ufcstats.com/event-details/a6a9ab5a824e...  \n",
       "7034  1994-03-11  http://ufcstats.com/event-details/a6a9ab5a824e...  \n",
       "7035  1994-03-11  http://ufcstats.com/event-details/a6a9ab5a824e...  "
      ]
     },
     "execution_count": 8,
     "metadata": {},
     "output_type": "execute_result"
    }
   ],
   "source": [
    "if last_file_update != None:\n",
    "    file = pd.read_csv(output_loc + 'ufc_matches_stats.csv')\n",
    "    df = pd.concat([df, file]).drop_duplicates(ignore_index=True)\n",
    "    #df['date'] = pd.to_datetime(df.date, format='%d-%m-%Y') \n",
    "    print(output_loc + 'ufc_matches_stats.csv updated.')\n",
    "else:\n",
    "    print(output_loc + 'ufc_matches_stats.csv saved.')\n",
    "\n",
    "df.to_csv(output_loc + 'ufc_matches_stats.csv', index=0)\n",
    "df.tail(3)"
   ]
  },
  {
   "cell_type": "markdown",
   "id": "9060b1a5",
   "metadata": {},
   "source": [
    "# >>>>>>>>>>>>>>>>>>>>>>>>>>>>>>>>>>>>>>>>>>>>>>>>>>>>>>>>>"
   ]
  }
 ],
 "metadata": {
  "kernelspec": {
   "display_name": "Python 3 (ipykernel)",
   "language": "python",
   "name": "python3"
  },
  "language_info": {
   "codemirror_mode": {
    "name": "ipython",
    "version": 3
   },
   "file_extension": ".py",
   "mimetype": "text/x-python",
   "name": "python",
   "nbconvert_exporter": "python",
   "pygments_lexer": "ipython3",
   "version": "3.9.7"
  }
 },
 "nbformat": 4,
 "nbformat_minor": 5
}
