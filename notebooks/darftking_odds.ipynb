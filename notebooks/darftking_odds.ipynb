{
 "cells": [
  {
   "cell_type": "code",
   "execution_count": null,
   "id": "7ed3f81b-b072-4a95-9ffe-c601f4b65c74",
   "metadata": {},
   "outputs": [
    {
     "ename": "",
     "evalue": "",
     "output_type": "error",
     "traceback": [
      "\u001b[1;31mFailed to start the Kernel. \n",
      "\u001b[1;31mSyntaxError: invalid syntax. \n",
      "\u001b[1;31mView Jupyter <a href='command:jupyter.viewOutput'>log</a> for further details."
     ]
    }
   ],
   "source": [
    "%run web_scrape_func_def.ipynb"
   ]
  },
  {
   "cell_type": "markdown",
   "id": "31aac45c-537d-4781-8b06-4b197c07f9b9",
   "metadata": {},
   "source": [
    "# Main()"
   ]
  },
  {
   "cell_type": "code",
   "execution_count": null,
   "id": "8d6b70f8-8825-4ad5-8216-f492aafedce5",
   "metadata": {},
   "outputs": [
    {
     "ename": "",
     "evalue": "",
     "output_type": "error",
     "traceback": [
      "\u001b[1;31mFailed to start the Kernel. \n",
      "\u001b[1;31mSyntaxError: invalid syntax. \n",
      "\u001b[1;31mView Jupyter <a href='command:jupyter.viewOutput'>log</a> for further details."
     ]
    }
   ],
   "source": [
    "URL = 'https://sportsbook.draftkings.com/leagues/mma/ufc'\n",
    "#MAIN_URL = 'https://www.bet365.com/#/AC/B162/C20860037/D1/E162148/F2/'\n",
    "CARDS_PATH = '../cards/'"
   ]
  },
  {
   "cell_type": "code",
   "execution_count": null,
   "id": "d5c09313-65e1-4ff8-bb7c-9d377e23a720",
   "metadata": {
    "tags": []
   },
   "outputs": [
    {
     "ename": "",
     "evalue": "",
     "output_type": "error",
     "traceback": [
      "\u001b[1;31mFailed to start the Kernel. \n",
      "\u001b[1;31mSyntaxError: invalid syntax. \n",
      "\u001b[1;31mView Jupyter <a href='command:jupyter.viewOutput'>log</a> for further details."
     ]
    }
   ],
   "source": [
    "from turtle import pd\n",
    "\n",
    "\n",
    "xml = get_xml(url=URL, data_type='html') # type: ignore\n",
    "tables = xml.find_all('table')\n",
    "\n",
    "data = pd.DataFrame(columns=['fighter','fighter_odds','opponent','opponent_odds'])\n",
    "for table in xml.find_all('table'):\n",
    "    try:\n",
    "        data = pd.concat([data, get_table_odds(table=table)]) # type: ignore\n",
    "    except Exception as e:\n",
    "        print(f\"An error occurred: {e}\")\n",
    "        continue\n",
    "    \n",
    "data = data.reset_index(drop=True)\n",
    "data"
   ]
  },
  {
   "cell_type": "code",
   "execution_count": null,
   "id": "6b621c81-7581-43fd-bb8f-6bd0c524762a",
   "metadata": {
    "tags": []
   },
   "outputs": [
    {
     "ename": "",
     "evalue": "",
     "output_type": "error",
     "traceback": [
      "\u001b[1;31mFailed to start the Kernel. \n",
      "\u001b[1;31mSyntaxError: invalid syntax. \n",
      "\u001b[1;31mView Jupyter <a href='command:jupyter.viewOutput'>log</a> for further details."
     ]
    }
   ],
   "source": [
    "#example use\n",
    "get_odds(data=data, fighter='Michel Pereira', opponent='Stephen Thompson') # type: ignore"
   ]
  },
  {
   "cell_type": "code",
   "execution_count": null,
   "id": "029941e2",
   "metadata": {},
   "outputs": [
    {
     "ename": "",
     "evalue": "",
     "output_type": "error",
     "traceback": [
      "\u001b[1;31mFailed to start the Kernel. \n",
      "\u001b[1;31mSyntaxError: invalid syntax. \n",
      "\u001b[1;31mView Jupyter <a href='command:jupyter.viewOutput'>log</a> for further details."
     ]
    }
   ],
   "source": [
    "https://github.com/microsoft/vscode-jupyter.wiki.git"
   ]
  },
  {
   "cell_type": "markdown",
   "id": "587d6f88",
   "metadata": {},
   "source": [
    "data.tail(3)\n"
   ]
  },
  {
   "cell_type": "markdown",
   "id": "40429f48",
   "metadata": {},
   "source": []
  },
  {
   "cell_type": "markdown",
   "id": "6bfbe67a",
   "metadata": {},
   "source": []
  },
  {
   "cell_type": "markdown",
   "id": "69502305",
   "metadata": {
    "vscode": {
     "languageId": "html"
    }
   },
   "source": []
  },
  {
   "cell_type": "markdown",
   "id": "1648fe03-0936-4101-b912-d9aa0ba9ed16",
   "metadata": {},
   "source": [
    "#### Saving file:"
   ]
  },
  {
   "cell_type": "code",
   "execution_count": null,
   "id": "0f1e7996-24fc-443a-a8d6-6422df1e525f",
   "metadata": {},
   "outputs": [
    {
     "ename": "",
     "evalue": "",
     "output_type": "error",
     "traceback": [
      "\u001b[1;31mFailed to start the Kernel. \n",
      "\u001b[1;31mSyntaxError: invalid syntax. \n",
      "\u001b[1;31mView Jupyter <a href='command:jupyter.viewOutput'>log</a> for further details."
     ]
    }
   ],
   "source": [
    "data.tail(3)\n"
   ]
  },
  {
   "cell_type": "code",
   "execution_count": null,
   "id": "2c7a8d84-719d-41b8-98a3-6a9eb23868b7",
   "metadata": {},
   "outputs": [
    {
     "ename": "",
     "evalue": "",
     "output_type": "error",
     "traceback": [
      "\u001b[1;31mFailed to start the Kernel. \n",
      "\u001b[1;31mSyntaxError: invalid syntax. \n",
      "\u001b[1;31mView Jupyter <a href='command:jupyter.viewOutput'>log</a> for further details."
     ]
    }
   ],
   "source": []
  }
 ],
 "metadata": {
  "kernelspec": {
   "display_name": "Python 3 (ipykernel)",
   "language": "python",
   "name": "python3"
  },
  "language_info": {
   "codemirror_mode": {
    "name": "ipython",
    "version": 3
   },
   "file_extension": ".py",
   "mimetype": "text/x-python",
   "name": "python",
   "nbconvert_exporter": "python",
   "pygments_lexer": "ipython3",
   "version": "3.11.9"
  }
 },
 "nbformat": 4,
 "nbformat_minor": 5
}
