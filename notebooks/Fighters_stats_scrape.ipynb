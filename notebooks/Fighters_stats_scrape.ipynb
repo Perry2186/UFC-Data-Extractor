{
 "cells": [
  {
   "cell_type": "code",
   "execution_count": 6,
   "id": "e9d04ab5",
   "metadata": {},
   "outputs": [
    {
     "name": "stdout",
     "output_type": "stream",
     "text": [
      "imports loaded.\n",
      "\n",
      "> fighters_stats_scrape func:\n",
      "\n",
      "    get_row(soup)\n",
      "    get_record(soup)\n",
      "    get_name(soup)\n",
      "    get_stats(soup)\n",
      "    get_columns(soup)\n",
      "    get_html_data(soup)\n",
      "    get_soup(url, headers = {'User-Agent':'Mozilla/5.0 (Windows NT 10.0; Win64; x64) AppleWebKit/537.36 (KHTML, like Gecko) Chrome/103.0.0.0 Safari/537.36'})\n",
      "    get_links(soup)\n"
     ]
    }
   ],
   "source": [
    "%run web_scrape_func_def.ipynb"
   ]
  },
  {
   "cell_type": "markdown",
   "id": "7357a38c",
   "metadata": {},
   "source": [
    "# Main( )"
   ]
  },
  {
   "cell_type": "code",
   "execution_count": 12,
   "id": "d16c8b68-290a-4274-85bb-58cc3277fb5f",
   "metadata": {},
   "outputs": [
    {
     "data": {
      "text/plain": [
       "array(['http://ufcstats.com/fighter-details/013da757877044a2',\n",
       "       'http://ufcstats.com/fighter-details/01641ba5df0c69b0',\n",
       "       'http://ufcstats.com/fighter-details/01f022fa494188e2'],\n",
       "      dtype='<U52')"
      ]
     },
     "execution_count": 12,
     "metadata": {},
     "output_type": "execute_result"
    }
   ],
   "source": [
    "url = 'http://ufcstats.com/statistics/fighters?char=b&page=all'\n",
    "soup = get_soup(url)\n",
    "get_links(soup)[0:3]"
   ]
  },
  {
   "cell_type": "code",
   "execution_count": 27,
   "id": "2aed392a-a9d7-443f-82db-af7c5b75bb35",
   "metadata": {},
   "outputs": [
    {
     "name": "stderr",
     "output_type": "stream",
     "text": [
      "100%|██████████| 52/52 [00:41<00:00,  1.24it/s]"
     ]
    },
    {
     "name": "stdout",
     "output_type": "stream",
     "text": [
      "7848 fighters links loaded.\n"
     ]
    },
    {
     "name": "stderr",
     "output_type": "stream",
     "text": [
      "\n"
     ]
    }
   ],
   "source": [
    "link_list = []\n",
    "for page in tqdm(ascii_letters.lower()):\n",
    "    url = 'http://ufcstats.com/statistics/fighters?char=' + page + '&page=all'\n",
    "    link_list.extend(get_links(soup=get_soup(url=url)))\n",
    "\n",
    "print('%d fighters links loaded.'%len(link_list))    "
   ]
  },
  {
   "cell_type": "code",
   "execution_count": 33,
   "id": "31e7409c-9aef-46f3-86bd-7690ca3b0388",
   "metadata": {},
   "outputs": [
    {
     "data": {
      "text/plain": [
       "array([['name', 'wins', 'losses', 'draws', 'Height:', 'Weight:',\n",
       "        'Reach:', 'STANCE:', 'DOB:', 'SLpM:', 'Str. Acc.:', 'SApM:',\n",
       "        'Str. Def:', '', 'TD Avg.:', 'TD Acc.:', 'TD Def.:',\n",
       "        'Sub. Avg.:']], dtype='<U10')"
      ]
     },
     "execution_count": 33,
     "metadata": {},
     "output_type": "execute_result"
    }
   ],
   "source": [
    "data = np.array([columns])\n",
    "data"
   ]
  },
  {
   "cell_type": "code",
   "execution_count": 35,
   "id": "57b63474-ad62-4eb4-bf35-a646add7300a",
   "metadata": {},
   "outputs": [
    {
     "name": "stderr",
     "output_type": "stream",
     "text": [
      "100%|██████████| 7848/7848 [1:15:46<00:00,  1.73it/s]\n"
     ]
    }
   ],
   "source": [
    "for fighter_link in tqdm(link_list):\n",
    "    row = get_row(soup=get_soup(url=fighter_link))\n",
    "    data = np.vstack([data,row])"
   ]
  },
  {
   "cell_type": "code",
   "execution_count": 26,
   "id": "e59027c5-4028-47e1-8aa8-6124578d4863",
   "metadata": {},
   "outputs": [
    {
     "data": {
      "text/plain": [
       "array(['Joao Zeferino', '21', '9', '0', '5\\' 11\"', '170 lbs.', '--',\n",
       "       'Orthodox', 'Jan 15, 1986', '0.83', '36%', '2.60', '48%', '',\n",
       "       '0.50', '5%', '50%', '1.0'], dtype='<U13')"
      ]
     },
     "execution_count": 26,
     "metadata": {},
     "output_type": "execute_result"
    }
   ],
   "source": [
    "get_row(soup=get_soup(url='http://ufcstats.com/fighter-details/be4076c9e8d791e3'))"
   ]
  },
  {
   "cell_type": "code",
   "execution_count": null,
   "id": "52d24597-672b-4aea-b89d-9b77783a6add",
   "metadata": {},
   "outputs": [],
   "source": [
    ">>>>"
   ]
  },
  {
   "cell_type": "markdown",
   "id": "23a4446b",
   "metadata": {
    "tags": []
   },
   "source": [
    "### Extracting columns structure:"
   ]
  },
  {
   "cell_type": "code",
   "execution_count": 7,
   "id": "18d8f027",
   "metadata": {},
   "outputs": [
    {
     "name": "stdout",
     "output_type": "stream",
     "text": [
      "['name', 'wins', 'losses', 'draws', 'Height:', 'Weight:', 'Reach:', 'STANCE:', 'DOB:', 'SLpM:', 'Str. Acc.:', 'SApM:', 'Str. Def:', '', 'TD Avg.:', 'TD Acc.:', 'TD Def.:', 'Sub. Avg.:']\n"
     ]
    }
   ],
   "source": [
    "url = 'http://ufcstats.com/statistics/fighters?char=a&page=all'\n",
    "soup = get_soup(url)\n",
    "links = get_links(soup)\n",
    "columns = get_columns( get_soup(links[1]) )\n",
    "print(columns)"
   ]
  },
  {
   "cell_type": "markdown",
   "id": "f205a7df",
   "metadata": {},
   "source": [
    "### constructing pandas data frame"
   ]
  },
  {
   "cell_type": "code",
   "execution_count": 8,
   "id": "3b960cfb",
   "metadata": {},
   "outputs": [
    {
     "data": {
      "text/html": [
       "<div>\n",
       "<style scoped>\n",
       "    .dataframe tbody tr th:only-of-type {\n",
       "        vertical-align: middle;\n",
       "    }\n",
       "\n",
       "    .dataframe tbody tr th {\n",
       "        vertical-align: top;\n",
       "    }\n",
       "\n",
       "    .dataframe thead th {\n",
       "        text-align: right;\n",
       "    }\n",
       "</style>\n",
       "<table border=\"1\" class=\"dataframe\">\n",
       "  <thead>\n",
       "    <tr style=\"text-align: right;\">\n",
       "      <th></th>\n",
       "      <th>name</th>\n",
       "      <th>wins</th>\n",
       "      <th>losses</th>\n",
       "      <th>draws</th>\n",
       "      <th>Height:</th>\n",
       "      <th>Weight:</th>\n",
       "      <th>Reach:</th>\n",
       "      <th>STANCE:</th>\n",
       "      <th>DOB:</th>\n",
       "      <th>SLpM:</th>\n",
       "      <th>Str. Acc.:</th>\n",
       "      <th>SApM:</th>\n",
       "      <th>Str. Def:</th>\n",
       "      <th></th>\n",
       "      <th>TD Avg.:</th>\n",
       "      <th>TD Acc.:</th>\n",
       "      <th>TD Def.:</th>\n",
       "      <th>Sub. Avg.:</th>\n",
       "    </tr>\n",
       "  </thead>\n",
       "  <tbody>\n",
       "  </tbody>\n",
       "</table>\n",
       "</div>"
      ],
      "text/plain": [
       "Empty DataFrame\n",
       "Columns: [name, wins, losses, draws, Height:, Weight:, Reach:, STANCE:, DOB:, SLpM:, Str. Acc.:, SApM:, Str. Def:, , TD Avg.:, TD Acc.:, TD Def.:, Sub. Avg.:]\n",
       "Index: []"
      ]
     },
     "execution_count": 8,
     "metadata": {},
     "output_type": "execute_result"
    }
   ],
   "source": [
    "df = pd.DataFrame(columns = columns)\n",
    "df"
   ]
  },
  {
   "cell_type": "markdown",
   "id": "3289aa5d",
   "metadata": {},
   "source": [
    "### extracting fighters statistics"
   ]
  },
  {
   "cell_type": "code",
   "execution_count": 9,
   "id": "10ae56f6",
   "metadata": {},
   "outputs": [
    {
     "name": "stderr",
     "output_type": "stream",
     "text": [
      "  0%|          | 0/52 [00:00<?, ?it/s]"
     ]
    },
    {
     "name": "stdout",
     "output_type": "stream",
     "text": [
      "Scraping page 1/52 (201/201 links) => 1.92 % completed \r"
     ]
    },
    {
     "name": "stderr",
     "output_type": "stream",
     "text": [
      "  2%|▏         | 1/52 [01:46<1:30:12, 106.12s/it]"
     ]
    },
    {
     "name": "stdout",
     "output_type": "stream",
     "text": [
      "Scraping page 2/52 (257/287 links) => 3.65 % completed \r"
     ]
    },
    {
     "name": "stderr",
     "output_type": "stream",
     "text": [
      "  2%|▏         | 1/52 [04:06<3:29:52, 246.91s/it]"
     ]
    },
    {
     "name": "stdout",
     "output_type": "stream",
     "text": [
      "Error on: http://ufcstats.com/fighter-details/e023fa2e648ea0f1\n"
     ]
    },
    {
     "name": "stderr",
     "output_type": "stream",
     "text": [
      "\n"
     ]
    },
    {
     "ename": "AttributeError",
     "evalue": "'NoneType' object has no attribute 'find'",
     "output_type": "error",
     "traceback": [
      "\u001b[0;31m---------------------------------------------------------------------------\u001b[0m",
      "\u001b[0;31mAttributeError\u001b[0m                            Traceback (most recent call last)",
      "\u001b[0;32m<ipython-input-9-e7ac00a31451>\u001b[0m in \u001b[0;36m<module>\u001b[0;34m()\u001b[0m\n\u001b[1;32m     17\u001b[0m         \u001b[0mprint\u001b[0m\u001b[0;34m(\u001b[0m\u001b[0;34m'Scraping page %d/%d (%d/%d links) => %s %% completed '\u001b[0m \u001b[0;34m%\u001b[0m\u001b[0;34m(\u001b[0m\u001b[0mcurrent_page\u001b[0m\u001b[0;34m,\u001b[0m \u001b[0mpages_amount\u001b[0m\u001b[0;34m,\u001b[0m \u001b[0mcurrent_link\u001b[0m\u001b[0;34m,\u001b[0m \u001b[0mlinks_amount\u001b[0m\u001b[0;34m,\u001b[0m \u001b[0mpercent\u001b[0m\u001b[0;34m)\u001b[0m\u001b[0;34m,\u001b[0m \u001b[0mend\u001b[0m \u001b[0;34m=\u001b[0m \u001b[0;34m'\\r'\u001b[0m\u001b[0;34m)\u001b[0m\u001b[0;34m\u001b[0m\u001b[0;34m\u001b[0m\u001b[0m\n\u001b[1;32m     18\u001b[0m         \u001b[0mstat_page_soup\u001b[0m \u001b[0;34m=\u001b[0m \u001b[0mget_soup\u001b[0m\u001b[0;34m(\u001b[0m\u001b[0mstat_page\u001b[0m\u001b[0;34m)\u001b[0m\u001b[0;34m\u001b[0m\u001b[0;34m\u001b[0m\u001b[0m\n\u001b[0;32m---> 19\u001b[0;31m         \u001b[0mrow\u001b[0m \u001b[0;34m=\u001b[0m \u001b[0mget_row\u001b[0m\u001b[0;34m(\u001b[0m\u001b[0mstat_page_soup\u001b[0m\u001b[0;34m)\u001b[0m\u001b[0;34m\u001b[0m\u001b[0;34m\u001b[0m\u001b[0m\n\u001b[0m\u001b[1;32m     20\u001b[0m         \u001b[0mdf\u001b[0m\u001b[0;34m.\u001b[0m\u001b[0mloc\u001b[0m\u001b[0;34m[\u001b[0m\u001b[0mlen\u001b[0m\u001b[0;34m(\u001b[0m\u001b[0mdf\u001b[0m\u001b[0;34m)\u001b[0m\u001b[0;34m]\u001b[0m \u001b[0;34m=\u001b[0m \u001b[0mrow\u001b[0m\u001b[0;34m\u001b[0m\u001b[0;34m\u001b[0m\u001b[0m\n\u001b[1;32m     21\u001b[0m \u001b[0;34m\u001b[0m\u001b[0m\n",
      "\u001b[0;32m<ipython-input-6-4b93485f00d0>\u001b[0m in \u001b[0;36mget_row\u001b[0;34m(soup)\u001b[0m\n\u001b[1;32m      3\u001b[0m     \u001b[0;34m'''get soup & return np.array of all relevant row details'''\u001b[0m\u001b[0;34m\u001b[0m\u001b[0;34m\u001b[0m\u001b[0m\n\u001b[1;32m      4\u001b[0m \u001b[0;34m\u001b[0m\u001b[0m\n\u001b[0;32m----> 5\u001b[0;31m     \u001b[0mrow\u001b[0m \u001b[0;34m=\u001b[0m \u001b[0mget_name\u001b[0m\u001b[0;34m(\u001b[0m\u001b[0msoup\u001b[0m\u001b[0;34m)\u001b[0m\u001b[0;34m\u001b[0m\u001b[0;34m\u001b[0m\u001b[0m\n\u001b[0m\u001b[1;32m      6\u001b[0m     \u001b[0mrow\u001b[0m \u001b[0;34m=\u001b[0m \u001b[0mnp\u001b[0m\u001b[0;34m.\u001b[0m\u001b[0mappend\u001b[0m\u001b[0;34m(\u001b[0m \u001b[0mrow\u001b[0m\u001b[0;34m,\u001b[0m\u001b[0mget_record\u001b[0m\u001b[0;34m(\u001b[0m\u001b[0msoup\u001b[0m\u001b[0;34m)\u001b[0m \u001b[0;34m)\u001b[0m\u001b[0;34m\u001b[0m\u001b[0;34m\u001b[0m\u001b[0m\n\u001b[1;32m      7\u001b[0m     \u001b[0mrow\u001b[0m \u001b[0;34m=\u001b[0m \u001b[0mnp\u001b[0m\u001b[0;34m.\u001b[0m\u001b[0mappend\u001b[0m\u001b[0;34m(\u001b[0m \u001b[0mrow\u001b[0m\u001b[0;34m,\u001b[0m\u001b[0mget_stats\u001b[0m\u001b[0;34m(\u001b[0m\u001b[0msoup\u001b[0m\u001b[0;34m)\u001b[0m \u001b[0;34m)\u001b[0m\u001b[0;34m\u001b[0m\u001b[0;34m\u001b[0m\u001b[0m\n",
      "\u001b[0;32m<ipython-input-6-e17e42c44015>\u001b[0m in \u001b[0;36mget_name\u001b[0;34m(soup)\u001b[0m\n\u001b[1;32m      3\u001b[0m     \u001b[0;34m'''get soup & return fighter's name'''\u001b[0m\u001b[0;34m\u001b[0m\u001b[0;34m\u001b[0m\u001b[0m\n\u001b[1;32m      4\u001b[0m \u001b[0;34m\u001b[0m\u001b[0m\n\u001b[0;32m----> 5\u001b[0;31m     \u001b[0mh2\u001b[0m \u001b[0;34m=\u001b[0m \u001b[0msoup\u001b[0m\u001b[0;34m.\u001b[0m\u001b[0mfind\u001b[0m\u001b[0;34m(\u001b[0m\u001b[0;34m'h2'\u001b[0m\u001b[0;34m,\u001b[0m\u001b[0;34m{\u001b[0m\u001b[0;34m'class'\u001b[0m\u001b[0;34m:\u001b[0m\u001b[0;34m'b-content__title'\u001b[0m\u001b[0;34m}\u001b[0m\u001b[0;34m)\u001b[0m\u001b[0;34m\u001b[0m\u001b[0;34m\u001b[0m\u001b[0m\n\u001b[0m\u001b[1;32m      6\u001b[0m     \u001b[0mname\u001b[0m \u001b[0;34m=\u001b[0m \u001b[0mh2\u001b[0m\u001b[0;34m.\u001b[0m\u001b[0mcontents\u001b[0m\u001b[0;34m[\u001b[0m\u001b[0;36m1\u001b[0m\u001b[0;34m]\u001b[0m\u001b[0;34m.\u001b[0m\u001b[0mcontents\u001b[0m\u001b[0;34m[\u001b[0m\u001b[0;36m0\u001b[0m\u001b[0;34m]\u001b[0m\u001b[0;34m.\u001b[0m\u001b[0mstrip\u001b[0m\u001b[0;34m(\u001b[0m\u001b[0;34m)\u001b[0m\u001b[0;34m\u001b[0m\u001b[0;34m\u001b[0m\u001b[0m\n\u001b[1;32m      7\u001b[0m \u001b[0;34m\u001b[0m\u001b[0m\n",
      "\u001b[0;31mAttributeError\u001b[0m: 'NoneType' object has no attribute 'find'"
     ]
    }
   ],
   "source": [
    "pages = ascii_letters.lower()\n",
    "\n",
    "pages_amount = len(pages)\n",
    "current_page = 0\n",
    "\n",
    "for page in tqdm(pages):\n",
    "    current_page += 1 \n",
    "    url = 'http://ufcstats.com/statistics/fighters?char=' + page + '&page=all'\n",
    "    #soup = get_soup(url)\n",
    "    page_links = get_links(get_soup(url))\n",
    "    links_amount = len(page_links)\n",
    "    \n",
    "    current_link = 0\n",
    "    for stat_page in page_links:\n",
    "        current_link += 1\n",
    "        percent = round((((current_page-1)/pages_amount) + (current_link/links_amount)*(1/pages_amount)) * 100, 2)\n",
    "        print('Scraping page %d/%d (%d/%d links) => %s %% completed ' %(current_page, pages_amount, current_link, links_amount, percent), end = '\\r')\n",
    "        stat_page_soup = get_soup(stat_page)\n",
    "        row = get_row(stat_page_soup)\n",
    "        df.loc[len(df)] = row\n",
    "        "
   ]
  },
  {
   "cell_type": "code",
   "execution_count": 13,
   "id": "61b6522c",
   "metadata": {},
   "outputs": [
    {
     "data": {
      "text/html": [
       "<div>\n",
       "<style scoped>\n",
       "    .dataframe tbody tr th:only-of-type {\n",
       "        vertical-align: middle;\n",
       "    }\n",
       "\n",
       "    .dataframe tbody tr th {\n",
       "        vertical-align: top;\n",
       "    }\n",
       "\n",
       "    .dataframe thead th {\n",
       "        text-align: right;\n",
       "    }\n",
       "</style>\n",
       "<table border=\"1\" class=\"dataframe\">\n",
       "  <thead>\n",
       "    <tr style=\"text-align: right;\">\n",
       "      <th></th>\n",
       "      <th>name</th>\n",
       "      <th>wins</th>\n",
       "      <th>losses</th>\n",
       "      <th>draws</th>\n",
       "      <th>Height:</th>\n",
       "      <th>Weight:</th>\n",
       "      <th>Reach:</th>\n",
       "      <th>STANCE:</th>\n",
       "      <th>DOB:</th>\n",
       "      <th>SLpM:</th>\n",
       "      <th>Str. Acc.:</th>\n",
       "      <th>SApM:</th>\n",
       "      <th>Str. Def:</th>\n",
       "      <th></th>\n",
       "      <th>TD Avg.:</th>\n",
       "      <th>TD Acc.:</th>\n",
       "      <th>TD Def.:</th>\n",
       "      <th>Sub. Avg.:</th>\n",
       "    </tr>\n",
       "  </thead>\n",
       "  <tbody>\n",
       "    <tr>\n",
       "      <th>7839</th>\n",
       "      <td>Joao Zeferino</td>\n",
       "      <td>21</td>\n",
       "      <td>9</td>\n",
       "      <td>0</td>\n",
       "      <td>5' 11\"</td>\n",
       "      <td>170 lbs.</td>\n",
       "      <td>--</td>\n",
       "      <td>Orthodox</td>\n",
       "      <td>Jan 15, 1986</td>\n",
       "      <td>0.83</td>\n",
       "      <td>36%</td>\n",
       "      <td>2.60</td>\n",
       "      <td>48%</td>\n",
       "      <td></td>\n",
       "      <td>0.50</td>\n",
       "      <td>5%</td>\n",
       "      <td>50%</td>\n",
       "      <td>1.0</td>\n",
       "    </tr>\n",
       "    <tr>\n",
       "      <th>7840</th>\n",
       "      <td>Zhang Tiequan</td>\n",
       "      <td>15</td>\n",
       "      <td>4</td>\n",
       "      <td>0</td>\n",
       "      <td>5' 8\"</td>\n",
       "      <td>155 lbs.</td>\n",
       "      <td>69\"</td>\n",
       "      <td>Orthodox</td>\n",
       "      <td>Jul 25, 1978</td>\n",
       "      <td>1.23</td>\n",
       "      <td>36%</td>\n",
       "      <td>2.14</td>\n",
       "      <td>51%</td>\n",
       "      <td></td>\n",
       "      <td>1.95</td>\n",
       "      <td>58%</td>\n",
       "      <td>75%</td>\n",
       "      <td>3.4</td>\n",
       "    </tr>\n",
       "    <tr>\n",
       "      <th>7841</th>\n",
       "      <td>Carlos Zevallos</td>\n",
       "      <td>3</td>\n",
       "      <td></td>\n",
       "      <td>-0</td>\n",
       "      <td>6' 0\"</td>\n",
       "      <td>205 lbs.</td>\n",
       "      <td>--</td>\n",
       "      <td>Orthodox</td>\n",
       "      <td>--</td>\n",
       "      <td>4.36</td>\n",
       "      <td>65%</td>\n",
       "      <td>2.28</td>\n",
       "      <td>68%</td>\n",
       "      <td></td>\n",
       "      <td>0.00</td>\n",
       "      <td>0%</td>\n",
       "      <td>100%</td>\n",
       "      <td>0.0</td>\n",
       "    </tr>\n",
       "    <tr>\n",
       "      <th>7842</th>\n",
       "      <td>Zach Zane</td>\n",
       "      <td>10</td>\n",
       "      <td>7</td>\n",
       "      <td>0</td>\n",
       "      <td>5' 7\"</td>\n",
       "      <td>145 lbs.</td>\n",
       "      <td>69\"</td>\n",
       "      <td>Southpaw</td>\n",
       "      <td>Dec 14, 1989</td>\n",
       "      <td>0.87</td>\n",
       "      <td>56%</td>\n",
       "      <td>6.67</td>\n",
       "      <td>20%</td>\n",
       "      <td></td>\n",
       "      <td>0.00</td>\n",
       "      <td>0%</td>\n",
       "      <td>26%</td>\n",
       "      <td>0.0</td>\n",
       "    </tr>\n",
       "    <tr>\n",
       "      <th>7843</th>\n",
       "      <td>Roger Zapata</td>\n",
       "      <td>4</td>\n",
       "      <td></td>\n",
       "      <td>-0</td>\n",
       "      <td>5' 11\"</td>\n",
       "      <td>170 lbs.</td>\n",
       "      <td>--</td>\n",
       "      <td>Southpaw</td>\n",
       "      <td>May 09, 1986</td>\n",
       "      <td>2.60</td>\n",
       "      <td>51%</td>\n",
       "      <td>2.13</td>\n",
       "      <td>36%</td>\n",
       "      <td></td>\n",
       "      <td>0.00</td>\n",
       "      <td>0%</td>\n",
       "      <td>81%</td>\n",
       "      <td>1.4</td>\n",
       "    </tr>\n",
       "  </tbody>\n",
       "</table>\n",
       "</div>"
      ],
      "text/plain": [
       "                 name wins losses draws Height:   Weight: Reach:   STANCE:  \\\n",
       "7839    Joao Zeferino   21      9     0  5' 11\"  170 lbs.     --  Orthodox   \n",
       "7840    Zhang Tiequan   15      4     0   5' 8\"  155 lbs.    69\"  Orthodox   \n",
       "7841  Carlos Zevallos    3           -0   6' 0\"  205 lbs.     --  Orthodox   \n",
       "7842        Zach Zane   10      7     0   5' 7\"  145 lbs.    69\"  Southpaw   \n",
       "7843     Roger Zapata    4           -0  5' 11\"  170 lbs.     --  Southpaw   \n",
       "\n",
       "              DOB: SLpM: Str. Acc.: SApM: Str. Def:   TD Avg.: TD Acc.:  \\\n",
       "7839  Jan 15, 1986  0.83        36%  2.60       48%       0.50       5%   \n",
       "7840  Jul 25, 1978  1.23        36%  2.14       51%       1.95      58%   \n",
       "7841            --  4.36        65%  2.28       68%       0.00       0%   \n",
       "7842  Dec 14, 1989  0.87        56%  6.67       20%       0.00       0%   \n",
       "7843  May 09, 1986  2.60        51%  2.13       36%       0.00       0%   \n",
       "\n",
       "     TD Def.: Sub. Avg.:  \n",
       "7839      50%        1.0  \n",
       "7840      75%        3.4  \n",
       "7841     100%        0.0  \n",
       "7842      26%        0.0  \n",
       "7843      81%        1.4  "
      ]
     },
     "execution_count": 13,
     "metadata": {},
     "output_type": "execute_result"
    }
   ],
   "source": [
    "df.tail()"
   ]
  },
  {
   "cell_type": "markdown",
   "id": "b1dfabac",
   "metadata": {},
   "source": [
    "### -[done] saving file"
   ]
  },
  {
   "cell_type": "code",
   "execution_count": 15,
   "id": "6a40dfde",
   "metadata": {},
   "outputs": [],
   "source": [
    "df.to_csv('../data/ufc_fighters_stats.csv')"
   ]
  },
  {
   "cell_type": "markdown",
   "id": "f4c5aae2",
   "metadata": {},
   "source": [
    "## >>>>>>>>>>>>>>>>>>>>>>>>>>>>>>>>>>>>>>>>>>>>>>>>>>>>>>>>>>>>>>>"
   ]
  }
 ],
 "metadata": {
  "kernelspec": {
   "display_name": "Python 3",
   "language": "python",
   "name": "python3"
  },
  "language_info": {
   "codemirror_mode": {
    "name": "ipython",
    "version": 3
   },
   "file_extension": ".py",
   "mimetype": "text/x-python",
   "name": "python",
   "nbconvert_exporter": "python",
   "pygments_lexer": "ipython3",
   "version": "3.7.12"
  }
 },
 "nbformat": 4,
 "nbformat_minor": 5
}
