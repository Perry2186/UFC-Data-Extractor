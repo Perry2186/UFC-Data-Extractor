{
 "cells": [
  {
   "cell_type": "code",
   "execution_count": null,
   "id": "60f61b3e-e2fd-4250-b7d2-b524e860b0c0",
   "metadata": {},
   "outputs": [
    {
     "ename": "",
     "evalue": "",
     "output_type": "error",
     "traceback": [
      "\u001b[1;31mFailed to start the Kernel. \n",
      "\u001b[1;31mSyntaxError: invalid syntax. \n",
      "\u001b[1;31mView Jupyter <a href='command:jupyter.viewOutput'>log</a> for further details."
     ]
    }
   ],
   "source": []
  },
  {
   "cell_type": "code",
   "execution_count": null,
   "id": "0153733e",
   "metadata": {},
   "outputs": [
    {
     "ename": "",
     "evalue": "",
     "output_type": "error",
     "traceback": [
      "\u001b[1;31mFailed to start the Kernel. \n",
      "\u001b[1;31mSyntaxError: invalid syntax. \n",
      "\u001b[1;31mView Jupyter <a href='command:jupyter.viewOutput'>log</a> for further details."
     ]
    }
   ],
   "source": [
    "%run web_scrape_func_def.ipynb"
   ]
  },
  {
   "cell_type": "code",
   "execution_count": null,
   "id": "912c77fa",
   "metadata": {},
   "outputs": [
    {
     "ename": "",
     "evalue": "",
     "output_type": "error",
     "traceback": [
      "\u001b[1;31mFailed to start the Kernel. \n",
      "\u001b[1;31mSyntaxError: invalid syntax. \n",
      "\u001b[1;31mView Jupyter <a href='command:jupyter.viewOutput'>log</a> for further details."
     ]
    }
   ],
   "source": [
    "FileExistsError"
   ]
  },
  {
   "cell_type": "markdown",
   "id": "6d63271a-35f1-4f36-aa7d-9e22e5ab4fda",
   "metadata": {},
   "source": [
    "#### User variables:"
   ]
  },
  {
   "cell_type": "code",
   "execution_count": null,
   "id": "1c5e5d46-1b34-468d-bc7b-0e83c7345fa8",
   "metadata": {},
   "outputs": [
    {
     "ename": "",
     "evalue": "",
     "output_type": "error",
     "traceback": [
      "\u001b[1;31mFailed to start the Kernel. \n",
      "\u001b[1;31mSyntaxError: invalid syntax. \n",
      "\u001b[1;31mView Jupyter <a href='command:jupyter.viewOutput'>log</a> for further details."
     ]
    }
   ],
   "source": [
    "output_loc = '../data/'"
   ]
  },
  {
   "cell_type": "markdown",
   "id": "2c8e5cd1-71b0-4899-9a0f-d312fd5e75e9",
   "metadata": {},
   "source": [
    "# Event's list for update:"
   ]
  },
  {
   "cell_type": "markdown",
   "id": "bd93e806-ca93-4888-b8a1-94016364a19c",
   "metadata": {},
   "source": [
    "#### Get last update:"
   ]
  },
  {
   "cell_type": "code",
   "execution_count": null,
   "id": "8cdd8af0-9924-4853-a10d-ede30e39115f",
   "metadata": {},
   "outputs": [
    {
     "ename": "",
     "evalue": "",
     "output_type": "error",
     "traceback": [
      "\u001b[1;31mFailed to start the Kernel. \n",
      "\u001b[1;31mSyntaxError: invalid syntax. \n",
      "\u001b[1;31mView Jupyter <a href='command:jupyter.viewOutput'>log</a> for further details."
     ]
    }
   ],
   "source": [
    "files = get_context(directory=output_loc) # type: ignore\n",
    "# add an indented block of code here\n"
   ]
  },
  {
   "cell_type": "code",
   "execution_count": null,
   "id": "3680ecce-2705-4db3-a090-5f4d6ed61f55",
   "metadata": {},
   "outputs": [
    {
     "ename": "",
     "evalue": "",
     "output_type": "error",
     "traceback": [
      "\u001b[1;31mFailed to start the Kernel. \n",
      "\u001b[1;31mSyntaxError: invalid syntax. \n",
      "\u001b[1;31mView Jupyter <a href='command:jupyter.viewOutput'>log</a> for further details."
     ]
    }
   ],
   "source": [
    "#last_file_update = None #for manuel updating"
   ]
  },
  {
   "cell_type": "markdown",
   "id": "495e7f57-8ddd-4cae-bdc8-79c886a59ac9",
   "metadata": {},
   "source": [
    "#### Get links of events to add to data:"
   ]
  },
  {
   "cell_type": "code",
   "execution_count": null,
   "id": "c32883ff-c0e1-492d-b10b-f360f4630d88",
   "metadata": {},
   "outputs": [
    {
     "ename": "",
     "evalue": "",
     "output_type": "error",
     "traceback": [
      "\u001b[1;31mFailed to start the Kernel. \n",
      "\u001b[1;31mSyntaxError: invalid syntax. \n",
      "\u001b[1;31mView Jupyter <a href='command:jupyter.viewOutput'>log</a> for further details."
     ]
    }
   ],
   "source": [
    "from linecache import getlines\n",
    "\n",
    "\n",
    "events = getlines(url='http://ufcstats.com/statistics/events/completed?page=all')\n",
    "events.sort_values(by='date', ascending=False)\n",
    "\n",
    "# filter this df to only add new matches\n",
    "if last_file_update == None: # type: ignore\n",
    "        events_for_update = events.event_url\n",
    "        df = events\n",
    "else:\n",
    "    df = events[events.date > last_file_update].reset_index(drop=True) # type: ignore\n",
    "    events_for_update = df.event_url\n",
    "    \n",
    "print('Events required update: %d' %len(events_for_update))   \n",
    "df.tail(3)"
   ]
  },
  {
   "cell_type": "markdown",
   "id": "e24acfc6-6410-4953-a6dc-dbd3b1c2db9c",
   "metadata": {},
   "source": [
    "#### Saving file:"
   ]
  },
  {
   "cell_type": "code",
   "execution_count": null,
   "id": "cfd21ce8-95ee-4b03-9b28-cb5b9a1b1722",
   "metadata": {},
   "outputs": [
    {
     "ename": "",
     "evalue": "",
     "output_type": "error",
     "traceback": [
      "\u001b[1;31mFailed to start the Kernel. \n",
      "\u001b[1;31mSyntaxError: invalid syntax. \n",
      "\u001b[1;31mView Jupyter <a href='command:jupyter.viewOutput'>log</a> for further details."
     ]
    }
   ],
   "source": [
    "df.to_csv(output_loc + 'update_list_events.csv', index=0)\n",
    "df.tail(3)"
   ]
  },
  {
   "cell_type": "markdown",
   "id": "59b0d472-e962-45f2-9b30-9e7657f52d5a",
   "metadata": {
    "tags": []
   },
   "source": [
    "# Fighter's list for update:"
   ]
  },
  {
   "cell_type": "markdown",
   "id": "c49737d3-dfec-4e11-9650-0b4024adb134",
   "metadata": {},
   "source": [
    "#### Get latest events:"
   ]
  },
  {
   "cell_type": "code",
   "execution_count": null,
   "id": "c31f6190-362c-422b-83e7-2e1ed8f48e71",
   "metadata": {},
   "outputs": [
    {
     "ename": "",
     "evalue": "",
     "output_type": "error",
     "traceback": [
      "\u001b[1;31mFailed to start the Kernel. \n",
      "\u001b[1;31mSyntaxError: invalid syntax. \n",
      "\u001b[1;31mView Jupyter <a href='command:jupyter.viewOutput'>log</a> for further details."
     ]
    }
   ],
   "source": [
    "df = pd.read_csv(output_loc + 'update_list_events.csv') # type: ignore\n",
    "df.tail(3)"
   ]
  },
  {
   "cell_type": "markdown",
   "id": "03cded27-75dc-46cc-a683-5e17224a7b63",
   "metadata": {},
   "source": []
  },
  {
   "cell_type": "markdown",
   "id": "bf50e50e",
   "metadata": {},
   "source": [
    "#### Get list of fighters from even's links:"
   ]
  },
  {
   "cell_type": "code",
   "execution_count": null,
   "id": "bd859e45-8079-4d22-ae5c-2353f157abb7",
   "metadata": {},
   "outputs": [
    {
     "ename": "",
     "evalue": "",
     "output_type": "error",
     "traceback": [
      "\u001b[1;31mFailed to start the Kernel. \n",
      "\u001b[1;31mSyntaxError: invalid syntax. \n",
      "\u001b[1;31mView Jupyter <a href='command:jupyter.viewOutput'>log</a> for further details."
     ]
    }
   ],
   "source": [
    "parts = []\n",
    "\n",
    "for url in tqdm(df.event_url): # type: ignore\n",
    "    parts.extend(get_participants(event_link=url)) # type: ignore\n",
    "    \n",
    "data = pd.DataFrame(data=parts, columns=['fighter','fighter_url']) # type: ignore\n",
    "data = data.drop_duplicates(subset=['fighter']).reset_index(drop=True)\n",
    "\n",
    "print('Fighters required update: %d' %len(data))\n",
    "data.tail(3)"
   ]
  },
  {
   "cell_type": "code",
   "execution_count": null,
   "id": "26c66ed1",
   "metadata": {},
   "outputs": [
    {
     "ename": "",
     "evalue": "",
     "output_type": "error",
     "traceback": [
      "\u001b[1;31mFailed to start the Kernel. \n",
      "\u001b[1;31mSyntaxError: invalid syntax. \n",
      "\u001b[1;31mView Jupyter <a href='command:jupyter.viewOutput'>log</a> for further details."
     ]
    }
   ],
   "source": []
  },
  {
   "cell_type": "markdown",
   "id": "28e7626f-f09c-4d52-a3ed-47f9a09ba37f",
   "metadata": {},
   "source": [
    "#### Saving file:"
   ]
  },
  {
   "cell_type": "code",
   "execution_count": null,
   "id": "b0fd97a1-d916-444e-9695-32288254b811",
   "metadata": {},
   "outputs": [
    {
     "ename": "",
     "evalue": "",
     "output_type": "error",
     "traceback": [
      "\u001b[1;31mFailed to start the Kernel. \n",
      "\u001b[1;31mSyntaxError: invalid syntax. \n",
      "\u001b[1;31mView Jupyter <a href='command:jupyter.viewOutput'>log</a> for further details."
     ]
    }
   ],
   "source": [
    "data.to_csv(output_loc + 'update_list_fighters.csv', index=0)\n",
    "data.tail(3)"
   ]
  },
  {
   "cell_type": "code",
   "execution_count": null,
   "id": "572c2c45-669c-49c1-8328-99c422cd491d",
   "metadata": {},
   "outputs": [
    {
     "ename": "",
     "evalue": "",
     "output_type": "error",
     "traceback": [
      "\u001b[1;31mFailed to start the Kernel. \n",
      "\u001b[1;31mSyntaxError: invalid syntax. \n",
      "\u001b[1;31mView Jupyter <a href='command:jupyter.viewOutput'>log</a> for further details."
     ]
    }
   ],
   "source": []
  }
 ],
 "metadata": {
  "kernelspec": {
   "display_name": "Python 3",
   "language": "python",
   "name": "python3"
  },
  "language_info": {
   "codemirror_mode": {
    "name": "ipython",
    "version": 3
   },
   "file_extension": ".py",
   "mimetype": "text/x-python",
   "name": "python",
   "nbconvert_exporter": "python",
   "pygments_lexer": "ipython3",
   "version": "3.11.9"
  }
 },
 "nbformat": 4,
 "nbformat_minor": 5
}
