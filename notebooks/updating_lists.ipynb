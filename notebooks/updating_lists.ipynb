{
 "cells": [
  {
   "cell_type": "code",
   "execution_count": 1,
   "id": "60f61b3e-e2fd-4250-b7d2-b524e860b0c0",
   "metadata": {},
   "outputs": [
    {
     "name": "stdout",
     "output_type": "stream",
     "text": [
      "imports loaded.\n",
      "\n",
      "> file management func:\n",
      "\n",
      "    get_content(directory)\n",
      "    get_last_update(file_path)\n",
      "\n",
      "> Updating lists func:\n",
      "\n",
      "    get_participants(event_link)\n",
      "\n",
      "> fighters_stats_scrape func:\n",
      "\n",
      "    get_xml(url, headers = {'User-Agent':'Moz...}) # Return web page data in .xml format.\n",
      "    get_links(url)\n",
      "    get_fighter_data(url) # Retrive data as list\n",
      "    get_current_date()\n",
      "\n",
      "> matches_stats_web_scrape func:\n",
      "\n",
      "    get_event_date(xml)\n",
      "    get_event_data(event_link)\n",
      "    get_later_date(date1, date2)\n"
     ]
    }
   ],
   "source": [
    "%run web_scrape_func_def.ipynb"
   ]
  },
  {
   "cell_type": "markdown",
   "id": "6d63271a-35f1-4f36-aa7d-9e22e5ab4fda",
   "metadata": {},
   "source": [
    "#### User variables:"
   ]
  },
  {
   "cell_type": "code",
   "execution_count": 2,
   "id": "1c5e5d46-1b34-468d-bc7b-0e83c7345fa8",
   "metadata": {},
   "outputs": [],
   "source": [
    "output_loc = '../data/'"
   ]
  },
  {
   "cell_type": "markdown",
   "id": "2c8e5cd1-71b0-4899-9a0f-d312fd5e75e9",
   "metadata": {},
   "source": [
    "# Event's list for update:"
   ]
  },
  {
   "cell_type": "markdown",
   "id": "bd93e806-ca93-4888-b8a1-94016364a19c",
   "metadata": {},
   "source": [
    "#### Get last update:"
   ]
  },
  {
   "cell_type": "code",
   "execution_count": 3,
   "id": "8cdd8af0-9924-4853-a10d-ede30e39115f",
   "metadata": {},
   "outputs": [
    {
     "name": "stdout",
     "output_type": "stream",
     "text": [
      "Last update: 05-22-2023\n"
     ]
    }
   ],
   "source": [
    "files = get_content(directory=output_loc)\n",
    "last_file_update = None\n",
    "\n",
    "for file in files:\n",
    "    if 'ufc_fighters_stats' in file:\n",
    "        last_file_update = get_last_update(file_path = output_loc + file)\n",
    "\n",
    "print('Last update: ' + last_file_update)"
   ]
  },
  {
   "cell_type": "markdown",
   "id": "495e7f57-8ddd-4cae-bdc8-79c886a59ac9",
   "metadata": {},
   "source": [
    "#### Get links of events to add to data:"
   ]
  },
  {
   "cell_type": "code",
   "execution_count": 4,
   "id": "c32883ff-c0e1-492d-b10b-f360f4630d88",
   "metadata": {},
   "outputs": [
    {
     "name": "stdout",
     "output_type": "stream",
     "text": [
      "Events required update: 3\n"
     ]
    },
    {
     "data": {
      "text/html": [
       "<div>\n",
       "<style scoped>\n",
       "    .dataframe tbody tr th:only-of-type {\n",
       "        vertical-align: middle;\n",
       "    }\n",
       "\n",
       "    .dataframe tbody tr th {\n",
       "        vertical-align: top;\n",
       "    }\n",
       "\n",
       "    .dataframe thead th {\n",
       "        text-align: right;\n",
       "    }\n",
       "</style>\n",
       "<table border=\"1\" class=\"dataframe\">\n",
       "  <thead>\n",
       "    <tr style=\"text-align: right;\">\n",
       "      <th></th>\n",
       "      <th>date</th>\n",
       "      <th>event_url</th>\n",
       "    </tr>\n",
       "  </thead>\n",
       "  <tbody>\n",
       "    <tr>\n",
       "      <th>0</th>\n",
       "      <td>2023-06-17</td>\n",
       "      <td>http://ufcstats.com/event-details/b6c6d1731ff0...</td>\n",
       "    </tr>\n",
       "    <tr>\n",
       "      <th>1</th>\n",
       "      <td>2023-06-10</td>\n",
       "      <td>http://ufcstats.com/event-details/7abe471b6172...</td>\n",
       "    </tr>\n",
       "    <tr>\n",
       "      <th>2</th>\n",
       "      <td>2023-06-03</td>\n",
       "      <td>http://ufcstats.com/event-details/6f812143641c...</td>\n",
       "    </tr>\n",
       "  </tbody>\n",
       "</table>\n",
       "</div>"
      ],
      "text/plain": [
       "        date                                          event_url\n",
       "0 2023-06-17  http://ufcstats.com/event-details/b6c6d1731ff0...\n",
       "1 2023-06-10  http://ufcstats.com/event-details/7abe471b6172...\n",
       "2 2023-06-03  http://ufcstats.com/event-details/6f812143641c..."
      ]
     },
     "execution_count": 4,
     "metadata": {},
     "output_type": "execute_result"
    }
   ],
   "source": [
    "events = get_links(url='http://ufcstats.com/statistics/events/completed?page=all')\n",
    "events.sort_values(by='date', ascending=False)\n",
    "\n",
    "# filter this df to only add new matches\n",
    "if last_file_update == None:\n",
    "        events_for_update = events.event_url\n",
    "        df = events\n",
    "else:\n",
    "    df = events[events.date > last_file_update].reset_index(drop=True)\n",
    "    events_for_update = df.event_url\n",
    "    \n",
    "print('Events required update: %d' %len(events_for_update))   \n",
    "df.tail(3)"
   ]
  },
  {
   "cell_type": "markdown",
   "id": "e24acfc6-6410-4953-a6dc-dbd3b1c2db9c",
   "metadata": {},
   "source": [
    "#### Saving file:"
   ]
  },
  {
   "cell_type": "code",
   "execution_count": 5,
   "id": "cfd21ce8-95ee-4b03-9b28-cb5b9a1b1722",
   "metadata": {},
   "outputs": [
    {
     "data": {
      "text/html": [
       "<div>\n",
       "<style scoped>\n",
       "    .dataframe tbody tr th:only-of-type {\n",
       "        vertical-align: middle;\n",
       "    }\n",
       "\n",
       "    .dataframe tbody tr th {\n",
       "        vertical-align: top;\n",
       "    }\n",
       "\n",
       "    .dataframe thead th {\n",
       "        text-align: right;\n",
       "    }\n",
       "</style>\n",
       "<table border=\"1\" class=\"dataframe\">\n",
       "  <thead>\n",
       "    <tr style=\"text-align: right;\">\n",
       "      <th></th>\n",
       "      <th>date</th>\n",
       "      <th>event_url</th>\n",
       "    </tr>\n",
       "  </thead>\n",
       "  <tbody>\n",
       "    <tr>\n",
       "      <th>0</th>\n",
       "      <td>2023-06-17</td>\n",
       "      <td>http://ufcstats.com/event-details/b6c6d1731ff0...</td>\n",
       "    </tr>\n",
       "    <tr>\n",
       "      <th>1</th>\n",
       "      <td>2023-06-10</td>\n",
       "      <td>http://ufcstats.com/event-details/7abe471b6172...</td>\n",
       "    </tr>\n",
       "    <tr>\n",
       "      <th>2</th>\n",
       "      <td>2023-06-03</td>\n",
       "      <td>http://ufcstats.com/event-details/6f812143641c...</td>\n",
       "    </tr>\n",
       "  </tbody>\n",
       "</table>\n",
       "</div>"
      ],
      "text/plain": [
       "        date                                          event_url\n",
       "0 2023-06-17  http://ufcstats.com/event-details/b6c6d1731ff0...\n",
       "1 2023-06-10  http://ufcstats.com/event-details/7abe471b6172...\n",
       "2 2023-06-03  http://ufcstats.com/event-details/6f812143641c..."
      ]
     },
     "execution_count": 5,
     "metadata": {},
     "output_type": "execute_result"
    }
   ],
   "source": [
    "df.to_csv(output_loc + 'update_list_events.csv', index=0)\n",
    "df.tail(3)"
   ]
  },
  {
   "cell_type": "markdown",
   "id": "59b0d472-e962-45f2-9b30-9e7657f52d5a",
   "metadata": {
    "tags": []
   },
   "source": [
    "# Fighter's list for update:"
   ]
  },
  {
   "cell_type": "markdown",
   "id": "c49737d3-dfec-4e11-9650-0b4024adb134",
   "metadata": {},
   "source": [
    "#### Get latest events:"
   ]
  },
  {
   "cell_type": "code",
   "execution_count": 6,
   "id": "c31f6190-362c-422b-83e7-2e1ed8f48e71",
   "metadata": {},
   "outputs": [
    {
     "data": {
      "text/html": [
       "<div>\n",
       "<style scoped>\n",
       "    .dataframe tbody tr th:only-of-type {\n",
       "        vertical-align: middle;\n",
       "    }\n",
       "\n",
       "    .dataframe tbody tr th {\n",
       "        vertical-align: top;\n",
       "    }\n",
       "\n",
       "    .dataframe thead th {\n",
       "        text-align: right;\n",
       "    }\n",
       "</style>\n",
       "<table border=\"1\" class=\"dataframe\">\n",
       "  <thead>\n",
       "    <tr style=\"text-align: right;\">\n",
       "      <th></th>\n",
       "      <th>date</th>\n",
       "      <th>event_url</th>\n",
       "    </tr>\n",
       "  </thead>\n",
       "  <tbody>\n",
       "    <tr>\n",
       "      <th>0</th>\n",
       "      <td>2023-06-17</td>\n",
       "      <td>http://ufcstats.com/event-details/b6c6d1731ff0...</td>\n",
       "    </tr>\n",
       "    <tr>\n",
       "      <th>1</th>\n",
       "      <td>2023-06-10</td>\n",
       "      <td>http://ufcstats.com/event-details/7abe471b6172...</td>\n",
       "    </tr>\n",
       "    <tr>\n",
       "      <th>2</th>\n",
       "      <td>2023-06-03</td>\n",
       "      <td>http://ufcstats.com/event-details/6f812143641c...</td>\n",
       "    </tr>\n",
       "  </tbody>\n",
       "</table>\n",
       "</div>"
      ],
      "text/plain": [
       "         date                                          event_url\n",
       "0  2023-06-17  http://ufcstats.com/event-details/b6c6d1731ff0...\n",
       "1  2023-06-10  http://ufcstats.com/event-details/7abe471b6172...\n",
       "2  2023-06-03  http://ufcstats.com/event-details/6f812143641c..."
      ]
     },
     "execution_count": 6,
     "metadata": {},
     "output_type": "execute_result"
    }
   ],
   "source": [
    "df = pd.read_csv(output_loc + 'update_list_events.csv')\n",
    "df.tail(3)"
   ]
  },
  {
   "cell_type": "markdown",
   "id": "03cded27-75dc-46cc-a683-5e17224a7b63",
   "metadata": {},
   "source": [
    "#### Get list of fighters from even's links:"
   ]
  },
  {
   "cell_type": "code",
   "execution_count": 7,
   "id": "bd859e45-8079-4d22-ae5c-2353f157abb7",
   "metadata": {},
   "outputs": [
    {
     "name": "stderr",
     "output_type": "stream",
     "text": [
      "100%|██████████████████████████████████████████████████████████████████████████████████████████████████████████████████████████████████████████████████████████| 3/3 [00:01<00:00,  2.02it/s]"
     ]
    },
    {
     "name": "stdout",
     "output_type": "stream",
     "text": [
      "Fighters required update: 72\n"
     ]
    },
    {
     "name": "stderr",
     "output_type": "stream",
     "text": [
      "\n"
     ]
    },
    {
     "data": {
      "text/html": [
       "<div>\n",
       "<style scoped>\n",
       "    .dataframe tbody tr th:only-of-type {\n",
       "        vertical-align: middle;\n",
       "    }\n",
       "\n",
       "    .dataframe tbody tr th {\n",
       "        vertical-align: top;\n",
       "    }\n",
       "\n",
       "    .dataframe thead th {\n",
       "        text-align: right;\n",
       "    }\n",
       "</style>\n",
       "<table border=\"1\" class=\"dataframe\">\n",
       "  <thead>\n",
       "    <tr style=\"text-align: right;\">\n",
       "      <th></th>\n",
       "      <th>fighter</th>\n",
       "      <th>fighter_url</th>\n",
       "    </tr>\n",
       "  </thead>\n",
       "  <tbody>\n",
       "    <tr>\n",
       "      <th>69</th>\n",
       "      <td>Victoria Leonardo</td>\n",
       "      <td>http://ufcstats.com/fighter-details/9dedfdd910...</td>\n",
       "    </tr>\n",
       "    <tr>\n",
       "      <th>70</th>\n",
       "      <td>Themba Gorimbo</td>\n",
       "      <td>http://ufcstats.com/fighter-details/40f3cb27fc...</td>\n",
       "    </tr>\n",
       "    <tr>\n",
       "      <th>71</th>\n",
       "      <td>Takashi Sato</td>\n",
       "      <td>http://ufcstats.com/fighter-details/8abac21874...</td>\n",
       "    </tr>\n",
       "  </tbody>\n",
       "</table>\n",
       "</div>"
      ],
      "text/plain": [
       "              fighter                                        fighter_url\n",
       "69  Victoria Leonardo  http://ufcstats.com/fighter-details/9dedfdd910...\n",
       "70     Themba Gorimbo  http://ufcstats.com/fighter-details/40f3cb27fc...\n",
       "71       Takashi Sato  http://ufcstats.com/fighter-details/8abac21874..."
      ]
     },
     "execution_count": 7,
     "metadata": {},
     "output_type": "execute_result"
    }
   ],
   "source": [
    "parts = []\n",
    "\n",
    "for url in tqdm(df.event_url):\n",
    "    parts.extend(get_participants(event_link=url))\n",
    "    \n",
    "data = pd.DataFrame(data=parts, columns=['fighter','fighter_url'])\n",
    "data = data.drop_duplicates(subset=['fighter']).reset_index(drop=True)\n",
    "\n",
    "print('Fighters required update: %d' %len(data))\n",
    "data.tail(3)"
   ]
  },
  {
   "cell_type": "markdown",
   "id": "28e7626f-f09c-4d52-a3ed-47f9a09ba37f",
   "metadata": {},
   "source": [
    "#### Saving file:"
   ]
  },
  {
   "cell_type": "code",
   "execution_count": 8,
   "id": "b0fd97a1-d916-444e-9695-32288254b811",
   "metadata": {},
   "outputs": [
    {
     "data": {
      "text/html": [
       "<div>\n",
       "<style scoped>\n",
       "    .dataframe tbody tr th:only-of-type {\n",
       "        vertical-align: middle;\n",
       "    }\n",
       "\n",
       "    .dataframe tbody tr th {\n",
       "        vertical-align: top;\n",
       "    }\n",
       "\n",
       "    .dataframe thead th {\n",
       "        text-align: right;\n",
       "    }\n",
       "</style>\n",
       "<table border=\"1\" class=\"dataframe\">\n",
       "  <thead>\n",
       "    <tr style=\"text-align: right;\">\n",
       "      <th></th>\n",
       "      <th>fighter</th>\n",
       "      <th>fighter_url</th>\n",
       "    </tr>\n",
       "  </thead>\n",
       "  <tbody>\n",
       "    <tr>\n",
       "      <th>69</th>\n",
       "      <td>Victoria Leonardo</td>\n",
       "      <td>http://ufcstats.com/fighter-details/9dedfdd910...</td>\n",
       "    </tr>\n",
       "    <tr>\n",
       "      <th>70</th>\n",
       "      <td>Themba Gorimbo</td>\n",
       "      <td>http://ufcstats.com/fighter-details/40f3cb27fc...</td>\n",
       "    </tr>\n",
       "    <tr>\n",
       "      <th>71</th>\n",
       "      <td>Takashi Sato</td>\n",
       "      <td>http://ufcstats.com/fighter-details/8abac21874...</td>\n",
       "    </tr>\n",
       "  </tbody>\n",
       "</table>\n",
       "</div>"
      ],
      "text/plain": [
       "              fighter                                        fighter_url\n",
       "69  Victoria Leonardo  http://ufcstats.com/fighter-details/9dedfdd910...\n",
       "70     Themba Gorimbo  http://ufcstats.com/fighter-details/40f3cb27fc...\n",
       "71       Takashi Sato  http://ufcstats.com/fighter-details/8abac21874..."
      ]
     },
     "execution_count": 8,
     "metadata": {},
     "output_type": "execute_result"
    }
   ],
   "source": [
    "data.to_csv(output_loc + 'update_list_fighters.csv', index=0)\n",
    "data.tail(3)"
   ]
  },
  {
   "cell_type": "code",
   "execution_count": null,
   "id": "fd39ab93-5935-41da-b358-4d9f54f65875",
   "metadata": {},
   "outputs": [],
   "source": []
  }
 ],
 "metadata": {
  "kernelspec": {
   "display_name": "py3",
   "language": "python",
   "name": "py3"
  },
  "language_info": {
   "codemirror_mode": {
    "name": "ipython",
    "version": 3
   },
   "file_extension": ".py",
   "mimetype": "text/x-python",
   "name": "python",
   "nbconvert_exporter": "python",
   "pygments_lexer": "ipython3",
   "version": "3.7.12"
  }
 },
 "nbformat": 4,
 "nbformat_minor": 5
}
