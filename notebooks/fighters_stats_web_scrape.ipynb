{
 "cells": [
  {
   "cell_type": "code",
   "execution_count": 91,
   "id": "e9d04ab5",
   "metadata": {},
   "outputs": [
    {
     "name": "stdout",
     "output_type": "stream",
     "text": [
      "imports loaded.\n",
      "\n",
      "> file management func:\n",
      "\n",
      "    get_content(directory)\n",
      "\n",
      "> fighters_stats_scrape func:\n",
      "\n",
      "    get_current_date()\n",
      "    get_row(soup)\n",
      "    get_record(soup)\n",
      "    get_name(soup)\n",
      "    get_stats(soup)\n",
      "    get_columns(soup)\n",
      "    get_html_data(soup)\n",
      "    get_soup(url, headers = {'User-Agent':'Mozilla/5.0 (Windows NT 10.0; Win64; x64) AppleWebKit/537.36 (KHTML, like Gecko) Chrome/103.0.0.0 Safari/537.36'})\n",
      "    get_links(soup)\n",
      "\n",
      "> fights_stats_web_scrape func:\n",
      "\n",
      "    get_fight_columns(soup)\n"
     ]
    }
   ],
   "source": [
    "%run web_scrape_func_def.ipynb"
   ]
  },
  {
   "cell_type": "markdown",
   "id": "7357a38c",
   "metadata": {},
   "source": [
    "# Main( )"
   ]
  },
  {
   "cell_type": "markdown",
   "id": "83bc94ce-e7aa-4b57-9992-4028cf75bd47",
   "metadata": {
    "tags": []
   },
   "source": [
    "### Extracting columns structure:"
   ]
  },
  {
   "cell_type": "code",
   "execution_count": 92,
   "id": "84a946cd-efd1-439c-a6a1-722560a64580",
   "metadata": {},
   "outputs": [
    {
     "name": "stdout",
     "output_type": "stream",
     "text": [
      "['name', 'wins', 'losses', 'draws', 'Height:', 'Weight:', 'Reach:', 'STANCE:', 'DOB:', 'SLpM:', 'Str. Acc.:', 'SApM:', 'Str. Def:', '', 'TD Avg.:', 'TD Acc.:', 'TD Def.:', 'Sub. Avg.:']\n"
     ]
    }
   ],
   "source": [
    "url = 'http://ufcstats.com/statistics/fighters?char=a&page=all'\n",
    "soup = get_soup(url)\n",
    "links = get_links(soup)\n",
    "columns = get_columns( get_soup(links[1]) )\n",
    "print(columns)"
   ]
  },
  {
   "cell_type": "markdown",
   "id": "66ee2f39-0267-427e-a30f-e85f8cd55b73",
   "metadata": {
    "tags": []
   },
   "source": [
    "### Construct fighters link list:"
   ]
  },
  {
   "cell_type": "code",
   "execution_count": 10,
   "id": "2aed392a-a9d7-443f-82db-af7c5b75bb35",
   "metadata": {},
   "outputs": [
    {
     "name": "stderr",
     "output_type": "stream",
     "text": [
      "100%|██████████| 52/52 [00:41<00:00,  1.26it/s]"
     ]
    },
    {
     "name": "stdout",
     "output_type": "stream",
     "text": [
      "7848 fighters links loaded.\n"
     ]
    },
    {
     "name": "stderr",
     "output_type": "stream",
     "text": [
      "\n"
     ]
    }
   ],
   "source": [
    "link_list = []\n",
    "for page in tqdm(ascii_letters.lower()):\n",
    "    url = 'http://ufcstats.com/statistics/fighters?char=' + page + '&page=all'\n",
    "    link_list.extend(get_links(soup=get_soup(url=url)))\n",
    "\n",
    "print('%d fighters links loaded.'%len(link_list))    "
   ]
  },
  {
   "cell_type": "code",
   "execution_count": 11,
   "id": "31e7409c-9aef-46f3-86bd-7690ca3b0388",
   "metadata": {},
   "outputs": [
    {
     "name": "stdout",
     "output_type": "stream",
     "text": [
      "['name' 'wins' 'losses' 'draws' 'Height:' 'Weight:' 'Reach:' 'STANCE:'\n",
      " 'DOB:' 'SLpM:' 'Str. Acc.:' 'SApM:' 'Str. Def:' '' 'TD Avg.:' 'TD Acc.:'\n",
      " 'TD Def.:' 'Sub. Avg.:']\n"
     ]
    }
   ],
   "source": [
    "data = np.array(columns)\n",
    "print(data)"
   ]
  },
  {
   "cell_type": "markdown",
   "id": "5e009d3c-de27-42d4-b36f-6f2abb44fb32",
   "metadata": {
    "tags": []
   },
   "source": [
    "### Extracting fighters statistics to rows:"
   ]
  },
  {
   "cell_type": "code",
   "execution_count": 12,
   "id": "57b63474-ad62-4eb4-bf35-a646add7300a",
   "metadata": {},
   "outputs": [
    {
     "name": "stderr",
     "output_type": "stream",
     "text": [
      "100%|██████████| 7848/7848 [1:15:55<00:00,  1.72it/s]\n"
     ]
    }
   ],
   "source": [
    "for fighter_link in tqdm(link_list):\n",
    "    row = get_row(soup=get_soup(url=fighter_link))\n",
    "    data = np.vstack([data,row])"
   ]
  },
  {
   "cell_type": "code",
   "execution_count": 43,
   "id": "37f018c6-8fc7-4875-bb9c-625f96734eac",
   "metadata": {},
   "outputs": [
    {
     "data": {
      "text/html": [
       "<div>\n",
       "<style scoped>\n",
       "    .dataframe tbody tr th:only-of-type {\n",
       "        vertical-align: middle;\n",
       "    }\n",
       "\n",
       "    .dataframe tbody tr th {\n",
       "        vertical-align: top;\n",
       "    }\n",
       "\n",
       "    .dataframe thead th {\n",
       "        text-align: right;\n",
       "    }\n",
       "</style>\n",
       "<table border=\"1\" class=\"dataframe\">\n",
       "  <thead>\n",
       "    <tr style=\"text-align: right;\">\n",
       "      <th></th>\n",
       "      <th>name</th>\n",
       "      <th>wins</th>\n",
       "      <th>losses</th>\n",
       "      <th>draws</th>\n",
       "      <th>Height:</th>\n",
       "      <th>Weight:</th>\n",
       "      <th>Reach:</th>\n",
       "      <th>STANCE:</th>\n",
       "      <th>DOB:</th>\n",
       "      <th>SLpM:</th>\n",
       "      <th>Str. Acc.:</th>\n",
       "      <th>SApM:</th>\n",
       "      <th>Str. Def:</th>\n",
       "      <th></th>\n",
       "      <th>TD Avg.:</th>\n",
       "      <th>TD Acc.:</th>\n",
       "      <th>TD Def.:</th>\n",
       "      <th>Sub. Avg.:</th>\n",
       "    </tr>\n",
       "  </thead>\n",
       "  <tbody>\n",
       "    <tr>\n",
       "      <th>7846</th>\n",
       "      <td>Carlos Zevallos</td>\n",
       "      <td>3</td>\n",
       "      <td></td>\n",
       "      <td>-0</td>\n",
       "      <td>6' 0\"</td>\n",
       "      <td>205 lbs.</td>\n",
       "      <td>--</td>\n",
       "      <td>Orthodox</td>\n",
       "      <td>--</td>\n",
       "      <td>4.36</td>\n",
       "      <td>65%</td>\n",
       "      <td>2.28</td>\n",
       "      <td>68%</td>\n",
       "      <td></td>\n",
       "      <td>0.00</td>\n",
       "      <td>0%</td>\n",
       "      <td>100%</td>\n",
       "      <td>0.0</td>\n",
       "    </tr>\n",
       "    <tr>\n",
       "      <th>7847</th>\n",
       "      <td>Zach Zane</td>\n",
       "      <td>10</td>\n",
       "      <td>7</td>\n",
       "      <td>0</td>\n",
       "      <td>5' 7\"</td>\n",
       "      <td>145 lbs.</td>\n",
       "      <td>69\"</td>\n",
       "      <td>Southpaw</td>\n",
       "      <td>Dec 14, 1989</td>\n",
       "      <td>0.87</td>\n",
       "      <td>56%</td>\n",
       "      <td>6.67</td>\n",
       "      <td>20%</td>\n",
       "      <td></td>\n",
       "      <td>0.00</td>\n",
       "      <td>0%</td>\n",
       "      <td>26%</td>\n",
       "      <td>0.0</td>\n",
       "    </tr>\n",
       "    <tr>\n",
       "      <th>7848</th>\n",
       "      <td>Roger Zapata</td>\n",
       "      <td>4</td>\n",
       "      <td></td>\n",
       "      <td>-0</td>\n",
       "      <td>5' 11\"</td>\n",
       "      <td>170 lbs.</td>\n",
       "      <td>--</td>\n",
       "      <td>Southpaw</td>\n",
       "      <td>May 09, 1986</td>\n",
       "      <td>2.60</td>\n",
       "      <td>51%</td>\n",
       "      <td>2.13</td>\n",
       "      <td>36%</td>\n",
       "      <td></td>\n",
       "      <td>0.00</td>\n",
       "      <td>0%</td>\n",
       "      <td>81%</td>\n",
       "      <td>1.4</td>\n",
       "    </tr>\n",
       "  </tbody>\n",
       "</table>\n",
       "</div>"
      ],
      "text/plain": [
       "                 name wins losses draws Height:   Weight: Reach:   STANCE:  \\\n",
       "7846  Carlos Zevallos    3           -0   6' 0\"  205 lbs.     --  Orthodox   \n",
       "7847        Zach Zane   10      7     0   5' 7\"  145 lbs.    69\"  Southpaw   \n",
       "7848     Roger Zapata    4           -0  5' 11\"  170 lbs.     --  Southpaw   \n",
       "\n",
       "              DOB: SLpM: Str. Acc.: SApM: Str. Def:   TD Avg.: TD Acc.:  \\\n",
       "7846            --  4.36        65%  2.28       68%       0.00       0%   \n",
       "7847  Dec 14, 1989  0.87        56%  6.67       20%       0.00       0%   \n",
       "7848  May 09, 1986  2.60        51%  2.13       36%       0.00       0%   \n",
       "\n",
       "     TD Def.: Sub. Avg.:  \n",
       "7846     100%        0.0  \n",
       "7847      26%        0.0  \n",
       "7848      81%        1.4  "
      ]
     },
     "execution_count": 43,
     "metadata": {},
     "output_type": "execute_result"
    }
   ],
   "source": [
    "df = pd.DataFrame(data=data, columns=data[0])\n",
    "df.tail(3)"
   ]
  },
  {
   "cell_type": "markdown",
   "id": "5e3017a3-170a-4972-8381-cf87557b923e",
   "metadata": {},
   "source": [
    "### saving file"
   ]
  },
  {
   "cell_type": "code",
   "execution_count": 88,
   "id": "f3591c28-50de-4f2d-8397-e3a95c72b0a2",
   "metadata": {},
   "outputs": [
    {
     "name": "stdout",
     "output_type": "stream",
     "text": [
      "../data/ufc_fighters_stats_01_03_2023.csv deleted.\n",
      "../data/ufc_fighters_stats_01_03_2023.csv saved.\n"
     ]
    }
   ],
   "source": [
    "loc = '../data/'\n",
    "for file in get_content(directory=loc):\n",
    "    if 'ufc_fighters_stats' in file:\n",
    "        os.remove(path=loc + file) #delete old data file\n",
    "        print(file + ' deleted.')\n",
    "        \n",
    "df.to_csv('../data/ufc_fighters_stats_' + get_current_date() + '.csv', index=False)\n",
    "print('../data/ufc_fighters_stats_' + get_current_date() + '.csv saved.')        "
   ]
  }
 ],
 "metadata": {
  "kernelspec": {
   "display_name": "py3",
   "language": "python",
   "name": "py3"
  },
  "language_info": {
   "codemirror_mode": {
    "name": "ipython",
    "version": 3
   },
   "file_extension": ".py",
   "mimetype": "text/x-python",
   "name": "python",
   "nbconvert_exporter": "python",
   "pygments_lexer": "ipython3",
   "version": "3.7.12"
  }
 },
 "nbformat": 4,
 "nbformat_minor": 5
}
