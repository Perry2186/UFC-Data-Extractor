{
 "cells": [
  {
   "cell_type": "code",
   "execution_count": 62,
   "id": "e9d04ab5",
   "metadata": {},
   "outputs": [
    {
     "name": "stdout",
     "output_type": "stream",
     "text": [
      "imports loaded.\n",
      "\n",
      "> file management func:\n",
      "\n",
      "    get_content(directory)\n",
      "    get_last_update(file_path)\n",
      "\n",
      "> fighters_stats_scrape func:\n",
      "\n",
      "    get_xml(url, headers = {'User-Agent':'Moz...}) # Return web page data in .xml format.\n",
      "    get_links(url)\n",
      "    get_fighter_data(url) # Retrive data as dictionery\n",
      "    get_fighter_data(url) # Retrive data as list\n",
      ">>>>>>>>>>>>>>>>>>>>>>>>>>>>>>>>>>>>>>>>>>>>>>>>>>\n",
      "    get_current_date()\n",
      "    get_row(soup)\n",
      "    get_record(soup)\n",
      "    get_name(soup)\n",
      "    get_stats(soup)\n",
      "    get_columns(soup)\n",
      "\n",
      "> fights_stats_web_scrape func:\n",
      "\n",
      "    get_event_data(soup)\n",
      "    extract_fight_data(event_url)\n",
      "    get_fight_columns(soup)\n",
      "    get_fight_list(soup)\n",
      "    get_event_date(soup)\n",
      "    get_later_date(date1, date2)\n"
     ]
    }
   ],
   "source": [
    "%run web_scrape_func_def.ipynb"
   ]
  },
  {
   "cell_type": "markdown",
   "id": "7357a38c",
   "metadata": {},
   "source": [
    "# Main( )"
   ]
  },
  {
   "cell_type": "markdown",
   "id": "5d0a4051-f39b-4c6c-8574-a45b95573dfb",
   "metadata": {},
   "source": [
    "### Extracting links:"
   ]
  },
  {
   "cell_type": "code",
   "execution_count": 2,
   "id": "80010ef5-c20e-4eea-9f43-92002a9eedd7",
   "metadata": {},
   "outputs": [
    {
     "name": "stderr",
     "output_type": "stream",
     "text": [
      "100%|██████████| 52/52 [00:36<00:00,  1.42it/s]\n"
     ]
    },
    {
     "data": {
      "text/plain": [
       "array(['http://ufcstats.com/fighter-details/002ca196477ce572',\n",
       "       'http://ufcstats.com/fighter-details/003d82fa384ca1d0',\n",
       "       'http://ufcstats.com/fighter-details/0052de90691d4a93',\n",
       "       'http://ufcstats.com/fighter-details/006efbb0c1621fd7',\n",
       "       'http://ufcstats.com/fighter-details/008c6e1a25751575'],\n",
       "      dtype='<U52')"
      ]
     },
     "execution_count": 2,
     "metadata": {},
     "output_type": "execute_result"
    }
   ],
   "source": [
    "links = []\n",
    "for page in tqdm(ascii_letters.lower()):\n",
    "    url = 'http://ufcstats.com/statistics/fighters?char=' + page + '&page=all'\n",
    "    links.extend(get_links(url=url))\n",
    "    \n",
    "links = np.unique(links)\n",
    "links[0:5]"
   ]
  },
  {
   "cell_type": "code",
   "execution_count": 63,
   "id": "5063243d-93c7-406d-af2d-bc7349d9ee9a",
   "metadata": {},
   "outputs": [
    {
     "name": "stdout",
     "output_type": "stream",
     "text": [
      "[['Gabriel Silva' 8 2 '0' '5\\'6\"' '135lbs.' '71\"' 'Orthodox' 'Aug26,1994'\n",
      "  '1.30' '34%' '3.47' '45%' '1.50' '25%' '38%' '0.5' None None]\n",
      " ['Aalon Cruz' 8 4 '0' '6\\'0\"' '145lbs.' '78\"' 'Switch' 'Sep20,1989'\n",
      "  '7.58' '39%' '8.88' '58%' '0.00' '0%' '0%' '0.0' None None]\n",
      " ['Davi Ramos' 10 4 '0' '5\\'6\"' '155lbs.' '70\"' 'Orthodox' 'Nov05,1986'\n",
      "  '2.64' '37%' '3.44' '56%' '1.95' '40%' '83%' '0.6' None None]\n",
      " ['Tyler Hill' 8 2 '0' '6\\'3\"' '170lbs.' '--' 'Switch' 'Aug10,1991'\n",
      "  '3.64' '39%' '5.33' '47%' '0.00' '0%' '0%' '0.0' None None]\n",
      " ['Wesley Little' 4 8 '0' '6\\'4\"' '205lbs.' '--' '' '--' '0.00' '0%'\n",
      "  '0.00' '0%' '0.00' '0%' '0%' '0.0' None None]]\n"
     ]
    }
   ],
   "source": [
    "# multiprocessing\n",
    "p = multiprocessing.cpu_count() - 2\n",
    "\n",
    "# Create a pool of worker processes.\n",
    "pool = Pool(processes=p)\n",
    "\n",
    "# Load fighter data from each link in parallel.\n",
    "row = pool.map(get_fighter_data, links)\n",
    "\n",
    "# Convert the list of arrays to a NumPy array and add it to the data set.\n",
    "data = np.vstack(row)\n",
    "\n",
    "# Print the resulting data set.\n",
    "print(data[0:5])"
   ]
  },
  {
   "cell_type": "code",
   "execution_count": 64,
   "id": "28b5c692-d6bf-4efd-b98f-a5eba17ddfa3",
   "metadata": {},
   "outputs": [
    {
     "data": {
      "text/html": [
       "<div>\n",
       "<style scoped>\n",
       "    .dataframe tbody tr th:only-of-type {\n",
       "        vertical-align: middle;\n",
       "    }\n",
       "\n",
       "    .dataframe tbody tr th {\n",
       "        vertical-align: top;\n",
       "    }\n",
       "\n",
       "    .dataframe thead th {\n",
       "        text-align: right;\n",
       "    }\n",
       "</style>\n",
       "<table border=\"1\" class=\"dataframe\">\n",
       "  <thead>\n",
       "    <tr style=\"text-align: right;\">\n",
       "      <th></th>\n",
       "      <th>name</th>\n",
       "      <th>wins</th>\n",
       "      <th>losses</th>\n",
       "      <th>draws</th>\n",
       "      <th>height</th>\n",
       "      <th>weight</th>\n",
       "      <th>reach</th>\n",
       "      <th>stance</th>\n",
       "      <th>dob</th>\n",
       "      <th>slpm</th>\n",
       "      <th>str_acc</th>\n",
       "      <th>sapm</th>\n",
       "      <th>str_def</th>\n",
       "      <th>td_avg</th>\n",
       "      <th>td_acc</th>\n",
       "      <th>td_def</th>\n",
       "      <th>sub_avg</th>\n",
       "      <th>last_update</th>\n",
       "      <th>last_match</th>\n",
       "    </tr>\n",
       "  </thead>\n",
       "  <tbody>\n",
       "    <tr>\n",
       "      <th>3946</th>\n",
       "      <td>Quinton Jackson</td>\n",
       "      <td>37</td>\n",
       "      <td>12</td>\n",
       "      <td>0</td>\n",
       "      <td>6'1\"</td>\n",
       "      <td>205lbs.</td>\n",
       "      <td>73\"</td>\n",
       "      <td>Orthodox</td>\n",
       "      <td>Jun20,1978</td>\n",
       "      <td>3.25</td>\n",
       "      <td>54%</td>\n",
       "      <td>2.51</td>\n",
       "      <td>55%</td>\n",
       "      <td>1.52</td>\n",
       "      <td>56%</td>\n",
       "      <td>73%</td>\n",
       "      <td>0.1</td>\n",
       "      <td>None</td>\n",
       "      <td>None</td>\n",
       "    </tr>\n",
       "    <tr>\n",
       "      <th>3947</th>\n",
       "      <td>Johnny Bedford</td>\n",
       "      <td>21</td>\n",
       "      <td>13</td>\n",
       "      <td>1 (1 NC)</td>\n",
       "      <td>5'10\"</td>\n",
       "      <td>135lbs.</td>\n",
       "      <td>71\"</td>\n",
       "      <td>Orthodox</td>\n",
       "      <td>Jan06,1983</td>\n",
       "      <td>4.53</td>\n",
       "      <td>50%</td>\n",
       "      <td>1.75</td>\n",
       "      <td>63%</td>\n",
       "      <td>1.83</td>\n",
       "      <td>62%</td>\n",
       "      <td>62%</td>\n",
       "      <td>0.0</td>\n",
       "      <td>None</td>\n",
       "      <td>None</td>\n",
       "    </tr>\n",
       "    <tr>\n",
       "      <th>3948</th>\n",
       "      <td>Jessica Rakoczy</td>\n",
       "      <td>1</td>\n",
       "      <td>5</td>\n",
       "      <td>0 (1 NC)</td>\n",
       "      <td>5'7\"</td>\n",
       "      <td>115lbs.</td>\n",
       "      <td>--</td>\n",
       "      <td>Orthodox</td>\n",
       "      <td>Apr14,1977</td>\n",
       "      <td>2.50</td>\n",
       "      <td>44%</td>\n",
       "      <td>3.55</td>\n",
       "      <td>64%</td>\n",
       "      <td>0.75</td>\n",
       "      <td>20%</td>\n",
       "      <td>0%</td>\n",
       "      <td>0.8</td>\n",
       "      <td>None</td>\n",
       "      <td>None</td>\n",
       "    </tr>\n",
       "    <tr>\n",
       "      <th>3949</th>\n",
       "      <td>David Onama</td>\n",
       "      <td>10</td>\n",
       "      <td>2</td>\n",
       "      <td>0</td>\n",
       "      <td>5'11\"</td>\n",
       "      <td>145lbs.</td>\n",
       "      <td>74\"</td>\n",
       "      <td>Orthodox</td>\n",
       "      <td>Jun07,1994</td>\n",
       "      <td>5.30</td>\n",
       "      <td>45%</td>\n",
       "      <td>5.75</td>\n",
       "      <td>51%</td>\n",
       "      <td>1.06</td>\n",
       "      <td>20%</td>\n",
       "      <td>45%</td>\n",
       "      <td>0.3</td>\n",
       "      <td>None</td>\n",
       "      <td>None</td>\n",
       "    </tr>\n",
       "    <tr>\n",
       "      <th>3950</th>\n",
       "      <td>Dillon Smith</td>\n",
       "      <td>0</td>\n",
       "      <td>0</td>\n",
       "      <td>0</td>\n",
       "      <td>6'0\"</td>\n",
       "      <td>170lbs.</td>\n",
       "      <td>--</td>\n",
       "      <td></td>\n",
       "      <td>--</td>\n",
       "      <td>0.00</td>\n",
       "      <td>0%</td>\n",
       "      <td>0.00</td>\n",
       "      <td>0%</td>\n",
       "      <td>0.00</td>\n",
       "      <td>0%</td>\n",
       "      <td>0%</td>\n",
       "      <td>0.0</td>\n",
       "      <td>None</td>\n",
       "      <td>None</td>\n",
       "    </tr>\n",
       "  </tbody>\n",
       "</table>\n",
       "</div>"
      ],
      "text/plain": [
       "                 name wins losses     draws height   weight reach    stance  \\\n",
       "3946  Quinton Jackson   37     12         0   6'1\"  205lbs.   73\"  Orthodox   \n",
       "3947   Johnny Bedford   21     13  1 (1 NC)  5'10\"  135lbs.   71\"  Orthodox   \n",
       "3948  Jessica Rakoczy    1      5  0 (1 NC)   5'7\"  115lbs.    --  Orthodox   \n",
       "3949      David Onama   10      2         0  5'11\"  145lbs.   74\"  Orthodox   \n",
       "3950     Dillon Smith    0      0         0   6'0\"  170lbs.    --             \n",
       "\n",
       "             dob  slpm str_acc  sapm str_def td_avg td_acc td_def sub_avg  \\\n",
       "3946  Jun20,1978  3.25     54%  2.51     55%   1.52    56%    73%     0.1   \n",
       "3947  Jan06,1983  4.53     50%  1.75     63%   1.83    62%    62%     0.0   \n",
       "3948  Apr14,1977  2.50     44%  3.55     64%   0.75    20%     0%     0.8   \n",
       "3949  Jun07,1994  5.30     45%  5.75     51%   1.06    20%    45%     0.3   \n",
       "3950          --  0.00      0%  0.00      0%   0.00     0%     0%     0.0   \n",
       "\n",
       "     last_update last_match  \n",
       "3946        None       None  \n",
       "3947        None       None  \n",
       "3948        None       None  \n",
       "3949        None       None  \n",
       "3950        None       None  "
      ]
     },
     "execution_count": 64,
     "metadata": {},
     "output_type": "execute_result"
    }
   ],
   "source": [
    "columns = np.array(['name','wins','losses','draws','height','weight','reach','stance','dob','slpm','str_acc','sapm','str_def','td_avg','td_acc','td_def','sub_avg','last_update','last_match'])\n",
    "df = pd.DataFrame(data=data, columns=columns)\n",
    "df.tail(5)"
   ]
  },
  {
   "cell_type": "code",
   "execution_count": 65,
   "id": "f3591c28-50de-4f2d-8397-e3a95c72b0a2",
   "metadata": {},
   "outputs": [
    {
     "name": "stdout",
     "output_type": "stream",
     "text": [
      "../data/ufc_fighters_stats.csv saved.\n"
     ]
    }
   ],
   "source": [
    "loc = '../data/'\n",
    "df.to_csv('../data/ufc_fighters_stats.csv', index=False)\n",
    "print('../data/ufc_fighters_stats.csv saved.')        "
   ]
  },
  {
   "cell_type": "code",
   "execution_count": null,
   "id": "8937a227-e486-4ce4-92a0-ea53e1410eac",
   "metadata": {},
   "outputs": [],
   "source": [
    ">>>>"
   ]
  },
  {
   "cell_type": "code",
   "execution_count": null,
   "id": "c624f62e-dc66-4836-bbb9-abcabe8118b3",
   "metadata": {},
   "outputs": [
    {
     "name": "stderr",
     "output_type": "stream",
     "text": [
      " 17%|█▋        | 4025/23706 [47:49<3:50:28,  1.42it/s]"
     ]
    }
   ],
   "source": [
    "# numpy array stacking\n",
    "data = np.array(['name','wins','losses','draws','height','weight','reach','stance','dob','slpm','str_acc','sapm','str_def','td_avg','td_acc','td_def','sub_avg'])\n",
    "\n",
    "for link in tqdm(links):\n",
    "    try:\n",
    "        data = np.stack(get_fighter_data(url=link), axis=0)\n",
    "    except:\n",
    "        continue\n",
    "    \n",
    "data[0:3]  "
   ]
  },
  {
   "cell_type": "code",
   "execution_count": null,
   "id": "38c4160b-1119-4f8d-8fdd-54dbcaa49df1",
   "metadata": {},
   "outputs": [],
   "source": []
  },
  {
   "cell_type": "code",
   "execution_count": null,
   "id": "3c7415ac-01a9-471c-9926-21c785a15043",
   "metadata": {},
   "outputs": [
    {
     "name": "stderr",
     "output_type": "stream",
     "text": [
      " 38%|███▊      | 9062/23706 [1:43:57<2:19:02,  1.76it/s]"
     ]
    }
   ],
   "source": [
    "# python list appending\n",
    "for link in tqdm(links):\n",
    "    try:\n",
    "        data.append(get_fighter_data(url=link))\n",
    "    except:\n",
    "        continue\n",
    "    \n",
    "data[0:3]    "
   ]
  },
  {
   "cell_type": "code",
   "execution_count": null,
   "id": "be41e1b9-99f4-4269-8da3-bc7c048f372b",
   "metadata": {
    "tags": []
   },
   "outputs": [],
   "source": [
    "get_fighter_data(url=links[0])"
   ]
  },
  {
   "cell_type": "markdown",
   "id": "83bc94ce-e7aa-4b57-9992-4028cf75bd47",
   "metadata": {
    "tags": []
   },
   "source": [
    "### Extracting columns structure:"
   ]
  },
  {
   "cell_type": "code",
   "execution_count": 2,
   "id": "84a946cd-efd1-439c-a6a1-722560a64580",
   "metadata": {},
   "outputs": [
    {
     "name": "stdout",
     "output_type": "stream",
     "text": [
      "['name', 'wins', 'losses', 'draws', 'Height:', 'Weight:', 'Reach:', 'STANCE:', 'DOB:', 'SLpM:', 'Str. Acc.:', 'SApM:', 'Str. Def:', '', 'TD Avg.:', 'TD Acc.:', 'TD Def.:', 'Sub. Avg.:']\n"
     ]
    }
   ],
   "source": [
    "url = 'http://ufcstats.com/statistics/fighters?char=a&page=all'\n",
    "soup = get_xml(url=url)\n",
    "links = get_links(soup)\n",
    "columns = get_columns( get_soup(links[1]) )\n",
    "print(columns)"
   ]
  },
  {
   "cell_type": "markdown",
   "id": "66ee2f39-0267-427e-a30f-e85f8cd55b73",
   "metadata": {
    "tags": []
   },
   "source": [
    "### Construct fighters link list:"
   ]
  },
  {
   "cell_type": "code",
   "execution_count": 3,
   "id": "2aed392a-a9d7-443f-82db-af7c5b75bb35",
   "metadata": {},
   "outputs": [
    {
     "name": "stderr",
     "output_type": "stream",
     "text": [
      "100%|██████████| 52/52 [00:29<00:00,  1.73it/s]"
     ]
    },
    {
     "name": "stdout",
     "output_type": "stream",
     "text": [
      "7866 fighters links loaded.\n"
     ]
    },
    {
     "name": "stderr",
     "output_type": "stream",
     "text": [
      "\n"
     ]
    }
   ],
   "source": [
    "link_list = []\n",
    "for page in tqdm(ascii_letters.lower()):\n",
    "    url = 'http://ufcstats.com/statistics/fighters?char=' + page + '&page=all'\n",
    "    link_list.extend(get_links(soup=get_soup(url=url)))\n",
    "\n",
    "print('%d fighters links loaded.'%len(link_list))    "
   ]
  },
  {
   "cell_type": "code",
   "execution_count": 4,
   "id": "31e7409c-9aef-46f3-86bd-7690ca3b0388",
   "metadata": {},
   "outputs": [
    {
     "name": "stdout",
     "output_type": "stream",
     "text": [
      "['name' 'wins' 'losses' 'draws' 'Height:' 'Weight:' 'Reach:' 'STANCE:'\n",
      " 'DOB:' 'SLpM:' 'Str. Acc.:' 'SApM:' 'Str. Def:' '' 'TD Avg.:' 'TD Acc.:'\n",
      " 'TD Def.:' 'Sub. Avg.:']\n"
     ]
    }
   ],
   "source": [
    "data = np.array(columns)\n",
    "print(data)"
   ]
  },
  {
   "cell_type": "markdown",
   "id": "5e009d3c-de27-42d4-b36f-6f2abb44fb32",
   "metadata": {
    "tags": []
   },
   "source": [
    "### Extracting fighters statistics to rows:"
   ]
  },
  {
   "cell_type": "code",
   "execution_count": 6,
   "id": "57b63474-ad62-4eb4-bf35-a646add7300a",
   "metadata": {},
   "outputs": [
    {
     "name": "stderr",
     "output_type": "stream",
     "text": [
      "100%|██████████| 7866/7866 [1:08:43<00:00,  1.91it/s]\n"
     ]
    }
   ],
   "source": [
    "for fighter_link in tqdm(link_list):\n",
    "    row = get_row(soup=get_soup(url=fighter_link))\n",
    "    data = np.vstack([data,row])"
   ]
  },
  {
   "cell_type": "code",
   "execution_count": 7,
   "id": "37f018c6-8fc7-4875-bb9c-625f96734eac",
   "metadata": {},
   "outputs": [
    {
     "data": {
      "text/html": [
       "<div>\n",
       "<style scoped>\n",
       "    .dataframe tbody tr th:only-of-type {\n",
       "        vertical-align: middle;\n",
       "    }\n",
       "\n",
       "    .dataframe tbody tr th {\n",
       "        vertical-align: top;\n",
       "    }\n",
       "\n",
       "    .dataframe thead th {\n",
       "        text-align: right;\n",
       "    }\n",
       "</style>\n",
       "<table border=\"1\" class=\"dataframe\">\n",
       "  <thead>\n",
       "    <tr style=\"text-align: right;\">\n",
       "      <th></th>\n",
       "      <th>name</th>\n",
       "      <th>wins</th>\n",
       "      <th>losses</th>\n",
       "      <th>draws</th>\n",
       "      <th>Height:</th>\n",
       "      <th>Weight:</th>\n",
       "      <th>Reach:</th>\n",
       "      <th>STANCE:</th>\n",
       "      <th>DOB:</th>\n",
       "      <th>SLpM:</th>\n",
       "      <th>Str. Acc.:</th>\n",
       "      <th>SApM:</th>\n",
       "      <th>Str. Def:</th>\n",
       "      <th></th>\n",
       "      <th>TD Avg.:</th>\n",
       "      <th>TD Acc.:</th>\n",
       "      <th>TD Def.:</th>\n",
       "      <th>Sub. Avg.:</th>\n",
       "    </tr>\n",
       "  </thead>\n",
       "  <tbody>\n",
       "    <tr>\n",
       "      <th>7864</th>\n",
       "      <td>Carlos Zevallos</td>\n",
       "      <td>3</td>\n",
       "      <td></td>\n",
       "      <td>-0</td>\n",
       "      <td>6' 0\"</td>\n",
       "      <td>205 lbs.</td>\n",
       "      <td>--</td>\n",
       "      <td>Orthodox</td>\n",
       "      <td>--</td>\n",
       "      <td>4.36</td>\n",
       "      <td>65%</td>\n",
       "      <td>2.28</td>\n",
       "      <td>68%</td>\n",
       "      <td></td>\n",
       "      <td>0.00</td>\n",
       "      <td>0%</td>\n",
       "      <td>100%</td>\n",
       "      <td>0.0</td>\n",
       "    </tr>\n",
       "    <tr>\n",
       "      <th>7865</th>\n",
       "      <td>Zach Zane</td>\n",
       "      <td>10</td>\n",
       "      <td>7</td>\n",
       "      <td>0</td>\n",
       "      <td>5' 7\"</td>\n",
       "      <td>145 lbs.</td>\n",
       "      <td>69\"</td>\n",
       "      <td>Southpaw</td>\n",
       "      <td>Dec 14, 1989</td>\n",
       "      <td>0.87</td>\n",
       "      <td>56%</td>\n",
       "      <td>6.67</td>\n",
       "      <td>20%</td>\n",
       "      <td></td>\n",
       "      <td>0.00</td>\n",
       "      <td>0%</td>\n",
       "      <td>26%</td>\n",
       "      <td>0.0</td>\n",
       "    </tr>\n",
       "    <tr>\n",
       "      <th>7866</th>\n",
       "      <td>Roger Zapata</td>\n",
       "      <td>4</td>\n",
       "      <td></td>\n",
       "      <td>-0</td>\n",
       "      <td>5' 11\"</td>\n",
       "      <td>170 lbs.</td>\n",
       "      <td>--</td>\n",
       "      <td>Southpaw</td>\n",
       "      <td>May 09, 1986</td>\n",
       "      <td>2.60</td>\n",
       "      <td>51%</td>\n",
       "      <td>2.13</td>\n",
       "      <td>36%</td>\n",
       "      <td></td>\n",
       "      <td>0.00</td>\n",
       "      <td>0%</td>\n",
       "      <td>81%</td>\n",
       "      <td>1.4</td>\n",
       "    </tr>\n",
       "  </tbody>\n",
       "</table>\n",
       "</div>"
      ],
      "text/plain": [
       "                 name wins losses draws Height:   Weight: Reach:   STANCE:  \\\n",
       "7864  Carlos Zevallos    3           -0   6' 0\"  205 lbs.     --  Orthodox   \n",
       "7865        Zach Zane   10      7     0   5' 7\"  145 lbs.    69\"  Southpaw   \n",
       "7866     Roger Zapata    4           -0  5' 11\"  170 lbs.     --  Southpaw   \n",
       "\n",
       "              DOB: SLpM: Str. Acc.: SApM: Str. Def:   TD Avg.: TD Acc.:  \\\n",
       "7864            --  4.36        65%  2.28       68%       0.00       0%   \n",
       "7865  Dec 14, 1989  0.87        56%  6.67       20%       0.00       0%   \n",
       "7866  May 09, 1986  2.60        51%  2.13       36%       0.00       0%   \n",
       "\n",
       "     TD Def.: Sub. Avg.:  \n",
       "7864     100%        0.0  \n",
       "7865      26%        0.0  \n",
       "7866      81%        1.4  "
      ]
     },
     "execution_count": 7,
     "metadata": {},
     "output_type": "execute_result"
    }
   ],
   "source": [
    "df = pd.DataFrame(data=data, columns=data[0])\n",
    "df.tail(3)"
   ]
  },
  {
   "cell_type": "markdown",
   "id": "5e3017a3-170a-4972-8381-cf87557b923e",
   "metadata": {},
   "source": [
    "### saving file"
   ]
  },
  {
   "cell_type": "code",
   "execution_count": null,
   "id": "281081be-65cc-45de-8a77-3e20ca2cd261",
   "metadata": {},
   "outputs": [],
   "source": []
  }
 ],
 "metadata": {
  "kernelspec": {
   "display_name": "py3",
   "language": "python",
   "name": "py3"
  },
  "language_info": {
   "codemirror_mode": {
    "name": "ipython",
    "version": 3
   },
   "file_extension": ".py",
   "mimetype": "text/x-python",
   "name": "python",
   "nbconvert_exporter": "python",
   "pygments_lexer": "ipython3",
   "version": "3.7.12"
  }
 },
 "nbformat": 4,
 "nbformat_minor": 5
}
