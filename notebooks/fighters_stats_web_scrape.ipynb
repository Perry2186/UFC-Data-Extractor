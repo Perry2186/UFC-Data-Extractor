{
 "cells": [
  {
   "cell_type": "code",
   "execution_count": 188,
   "id": "e9d04ab5",
   "metadata": {},
   "outputs": [
    {
     "name": "stdout",
     "output_type": "stream",
     "text": [
      "imports loaded.\n",
      "\n",
      "> file management func:\n",
      "\n",
      "    get_content(directory)\n",
      "    get_last_update(file_path)\n",
      "\n",
      "> fighters_stats_scrape func:\n",
      "\n",
      "    get_xml(url, headers = {'User-Agent':'Moz...}) # Return web page data in .xml format.\n",
      "    get_links(url)\n",
      "    get_fighter_data(url) # Retrive data as dictionery\n",
      "    get_fighter_data(url) # Retrive data as list\n",
      "    get_current_date()\n",
      "\n",
      "> matches_stats_web_scrape func:\n",
      "\n",
      ">>>>>>>>>>>>>>>>>>>>>>>>>>>>>>>>>>>>>>>>>>>>>>>>>>\n",
      "    get_event_data(soup)\n",
      "    extract_fight_data(event_url)\n",
      "    get_fight_columns(soup)\n",
      "    get_fight_list(soup)\n",
      "    get_event_date(soup)\n",
      "    get_later_date(date1, date2)\n"
     ]
    }
   ],
   "source": [
    "%run web_scrape_func_def.ipynb"
   ]
  },
  {
   "cell_type": "markdown",
   "id": "7357a38c",
   "metadata": {},
   "source": [
    "# Main( )"
   ]
  },
  {
   "cell_type": "markdown",
   "id": "5d0a4051-f39b-4c6c-8574-a45b95573dfb",
   "metadata": {},
   "source": [
    "### Extracting links:"
   ]
  },
  {
   "cell_type": "code",
   "execution_count": 148,
   "id": "80010ef5-c20e-4eea-9f43-92002a9eedd7",
   "metadata": {},
   "outputs": [
    {
     "name": "stderr",
     "output_type": "stream",
     "text": [
      "100%|██████████| 52/52 [00:37<00:00,  1.39it/s]"
     ]
    },
    {
     "name": "stdout",
     "output_type": "stream",
     "text": [
      "array length: 3951\n"
     ]
    },
    {
     "name": "stderr",
     "output_type": "stream",
     "text": [
      "\n"
     ]
    },
    {
     "data": {
      "text/plain": [
       "array(['http://ufcstats.com/fighter-details/ffc3e6daaa6da0b7',\n",
       "       'http://ufcstats.com/fighter-details/ffdeb4fbea09ce75',\n",
       "       'http://ufcstats.com/fighter-details/ffe9703408fb5964'],\n",
       "      dtype='<U52')"
      ]
     },
     "execution_count": 148,
     "metadata": {},
     "output_type": "execute_result"
    }
   ],
   "source": [
    "links = []\n",
    "for page in tqdm(ascii_letters.lower()):\n",
    "    url = 'http://ufcstats.com/statistics/fighters?char=' + page + '&page=all'\n",
    "    links.extend(get_links(url=url))\n",
    "    \n",
    "links = np.unique(links)\n",
    "print('array length: %d' %len(links))\n",
    "links[len(links)-4:len(links)-1]"
   ]
  },
  {
   "cell_type": "markdown",
   "id": "5f4122b4-551f-4ac4-aadd-232307e954bd",
   "metadata": {},
   "source": [
    "### Stacking all fighters data (using multiprocessing):"
   ]
  },
  {
   "cell_type": "code",
   "execution_count": 183,
   "id": "5063243d-93c7-406d-af2d-bc7349d9ee9a",
   "metadata": {},
   "outputs": [
    {
     "name": "stderr",
     "output_type": "stream",
     "text": [
      "100%|██████████| 40/40 [06:36<00:00,  9.91s/it]"
     ]
    },
    {
     "name": "stdout",
     "output_type": "stream",
     "text": [
      "[array(['Gabriel Silva', '8', '2', '0', '5\\'6\"', '135lbs.', '71\"',\n",
      "       'Orthodox', 'Aug26,1994', '1.30', '34%', '3.47', '45%', '1.50',\n",
      "       '25%', '38%', '0.5', '27-03-2023', '29-02-2020'], dtype=object), array(['Aalon Cruz', '8', '4', '0', '6\\'0\"', '145lbs.', '78\"', 'Switch',\n",
      "       'Sep20,1989', '7.58', '39%', '8.88', '58%', '0.00', '0%', '0%',\n",
      "       '0.0', '27-03-2023', '06-03-2021'], dtype=object), array(['Davi Ramos', '10', '4', '0', '5\\'6\"', '155lbs.', '70\"',\n",
      "       'Orthodox', 'Nov05,1986', '2.64', '37%', '3.44', '56%', '1.95',\n",
      "       '40%', '83%', '0.6', '27-03-2023', '18-07-2020'], dtype=object), array(['Tyler Hill', '8', '2', '0', '6\\'3\"', '170lbs.', '--', 'Switch',\n",
      "       'Aug10,1991', '3.64', '39%', '5.33', '47%', '0.00', '0%', '0%',\n",
      "       '0.0', '27-03-2023', '19-06-2018'], dtype=object), array(['Wesley Little', '4', '8', '0', '6\\'4\"', '205lbs.', '--', '', '--',\n",
      "       '0.00', '0%', '0.00', '0%', '0.00', '0%', '0%', '0.0',\n",
      "       '27-03-2023', '19-11-2010'], dtype=object)]\n"
     ]
    },
    {
     "name": "stderr",
     "output_type": "stream",
     "text": [
      "\n"
     ]
    }
   ],
   "source": [
    "# multiprocessing\n",
    "p = multiprocessing.cpu_count() - 2\n",
    "\n",
    "# Create a pool of worker processes.\n",
    "pool = Pool(processes=p)\n",
    "batch_size = 100\n",
    "data = []\n",
    "\n",
    "for i in tqdm(range(0,len(links),batch_size)):\n",
    "    \n",
    "    # Load fighter data from each link in parallel.\n",
    "    row = pool.map(get_fighter_data, links[i:i + batch_size])\n",
    "    batch_data = np.vstack(row)\n",
    "    data.extend(batch_data)\n",
    "    #data = np.vstack(row)\n",
    "    \n",
    "# Print the resulting data set.\n",
    "print(data[0:5])"
   ]
  },
  {
   "cell_type": "code",
   "execution_count": 185,
   "id": "28b5c692-d6bf-4efd-b98f-a5eba17ddfa3",
   "metadata": {},
   "outputs": [
    {
     "data": {
      "text/html": [
       "<div>\n",
       "<style scoped>\n",
       "    .dataframe tbody tr th:only-of-type {\n",
       "        vertical-align: middle;\n",
       "    }\n",
       "\n",
       "    .dataframe tbody tr th {\n",
       "        vertical-align: top;\n",
       "    }\n",
       "\n",
       "    .dataframe thead th {\n",
       "        text-align: right;\n",
       "    }\n",
       "</style>\n",
       "<table border=\"1\" class=\"dataframe\">\n",
       "  <thead>\n",
       "    <tr style=\"text-align: right;\">\n",
       "      <th></th>\n",
       "      <th>name</th>\n",
       "      <th>wins</th>\n",
       "      <th>losses</th>\n",
       "      <th>draws</th>\n",
       "      <th>height</th>\n",
       "      <th>weight</th>\n",
       "      <th>reach</th>\n",
       "      <th>stance</th>\n",
       "      <th>dob</th>\n",
       "      <th>slpm</th>\n",
       "      <th>str_acc</th>\n",
       "      <th>sapm</th>\n",
       "      <th>str_def</th>\n",
       "      <th>td_avg</th>\n",
       "      <th>td_acc</th>\n",
       "      <th>td_def</th>\n",
       "      <th>sub_avg</th>\n",
       "      <th>last_update</th>\n",
       "      <th>last_match</th>\n",
       "    </tr>\n",
       "  </thead>\n",
       "  <tbody>\n",
       "    <tr>\n",
       "      <th>3946</th>\n",
       "      <td>Quinton Jackson</td>\n",
       "      <td>37</td>\n",
       "      <td>12</td>\n",
       "      <td>0</td>\n",
       "      <td>6'1\"</td>\n",
       "      <td>205lbs.</td>\n",
       "      <td>73\"</td>\n",
       "      <td>Orthodox</td>\n",
       "      <td>Jun20,1978</td>\n",
       "      <td>3.25</td>\n",
       "      <td>54%</td>\n",
       "      <td>2.51</td>\n",
       "      <td>55%</td>\n",
       "      <td>1.52</td>\n",
       "      <td>56%</td>\n",
       "      <td>73%</td>\n",
       "      <td>0.1</td>\n",
       "      <td>27-03-2023</td>\n",
       "      <td>25-04-2015</td>\n",
       "    </tr>\n",
       "    <tr>\n",
       "      <th>3947</th>\n",
       "      <td>Johnny Bedford</td>\n",
       "      <td>21</td>\n",
       "      <td>13</td>\n",
       "      <td>1 (1 NC)</td>\n",
       "      <td>5'10\"</td>\n",
       "      <td>135lbs.</td>\n",
       "      <td>71\"</td>\n",
       "      <td>Orthodox</td>\n",
       "      <td>Jan06,1983</td>\n",
       "      <td>4.53</td>\n",
       "      <td>50%</td>\n",
       "      <td>1.75</td>\n",
       "      <td>63%</td>\n",
       "      <td>1.83</td>\n",
       "      <td>62%</td>\n",
       "      <td>62%</td>\n",
       "      <td>0.0</td>\n",
       "      <td>27-03-2023</td>\n",
       "      <td>13-09-2014</td>\n",
       "    </tr>\n",
       "    <tr>\n",
       "      <th>3948</th>\n",
       "      <td>Jessica Rakoczy</td>\n",
       "      <td>1</td>\n",
       "      <td>5</td>\n",
       "      <td>0 (1 NC)</td>\n",
       "      <td>5'7\"</td>\n",
       "      <td>115lbs.</td>\n",
       "      <td>--</td>\n",
       "      <td>Orthodox</td>\n",
       "      <td>Apr14,1977</td>\n",
       "      <td>2.50</td>\n",
       "      <td>44%</td>\n",
       "      <td>3.55</td>\n",
       "      <td>64%</td>\n",
       "      <td>0.75</td>\n",
       "      <td>20%</td>\n",
       "      <td>0%</td>\n",
       "      <td>0.8</td>\n",
       "      <td>27-03-2023</td>\n",
       "      <td>25-04-2015</td>\n",
       "    </tr>\n",
       "    <tr>\n",
       "      <th>3949</th>\n",
       "      <td>David Onama</td>\n",
       "      <td>10</td>\n",
       "      <td>2</td>\n",
       "      <td>0</td>\n",
       "      <td>5'11\"</td>\n",
       "      <td>145lbs.</td>\n",
       "      <td>74\"</td>\n",
       "      <td>Orthodox</td>\n",
       "      <td>Jun07,1994</td>\n",
       "      <td>5.30</td>\n",
       "      <td>45%</td>\n",
       "      <td>5.75</td>\n",
       "      <td>51%</td>\n",
       "      <td>1.06</td>\n",
       "      <td>20%</td>\n",
       "      <td>45%</td>\n",
       "      <td>0.3</td>\n",
       "      <td>27-03-2023</td>\n",
       "      <td>13-08-2022</td>\n",
       "    </tr>\n",
       "    <tr>\n",
       "      <th>3950</th>\n",
       "      <td>Dillon Smith</td>\n",
       "      <td>0</td>\n",
       "      <td>0</td>\n",
       "      <td>0</td>\n",
       "      <td>6'0\"</td>\n",
       "      <td>170lbs.</td>\n",
       "      <td>--</td>\n",
       "      <td></td>\n",
       "      <td>--</td>\n",
       "      <td>0.00</td>\n",
       "      <td>0%</td>\n",
       "      <td>0.00</td>\n",
       "      <td>0%</td>\n",
       "      <td>0.00</td>\n",
       "      <td>0%</td>\n",
       "      <td>0%</td>\n",
       "      <td>0.0</td>\n",
       "      <td>27-03-2023</td>\n",
       "      <td>25-09-2009</td>\n",
       "    </tr>\n",
       "  </tbody>\n",
       "</table>\n",
       "</div>"
      ],
      "text/plain": [
       "                 name wins losses     draws height   weight reach    stance  \\\n",
       "3946  Quinton Jackson   37     12         0   6'1\"  205lbs.   73\"  Orthodox   \n",
       "3947   Johnny Bedford   21     13  1 (1 NC)  5'10\"  135lbs.   71\"  Orthodox   \n",
       "3948  Jessica Rakoczy    1      5  0 (1 NC)   5'7\"  115lbs.    --  Orthodox   \n",
       "3949      David Onama   10      2         0  5'11\"  145lbs.   74\"  Orthodox   \n",
       "3950     Dillon Smith    0      0         0   6'0\"  170lbs.    --             \n",
       "\n",
       "             dob  slpm str_acc  sapm str_def td_avg td_acc td_def sub_avg  \\\n",
       "3946  Jun20,1978  3.25     54%  2.51     55%   1.52    56%    73%     0.1   \n",
       "3947  Jan06,1983  4.53     50%  1.75     63%   1.83    62%    62%     0.0   \n",
       "3948  Apr14,1977  2.50     44%  3.55     64%   0.75    20%     0%     0.8   \n",
       "3949  Jun07,1994  5.30     45%  5.75     51%   1.06    20%    45%     0.3   \n",
       "3950          --  0.00      0%  0.00      0%   0.00     0%     0%     0.0   \n",
       "\n",
       "     last_update  last_match  \n",
       "3946  27-03-2023  25-04-2015  \n",
       "3947  27-03-2023  13-09-2014  \n",
       "3948  27-03-2023  25-04-2015  \n",
       "3949  27-03-2023  13-08-2022  \n",
       "3950  27-03-2023  25-09-2009  "
      ]
     },
     "execution_count": 185,
     "metadata": {},
     "output_type": "execute_result"
    }
   ],
   "source": [
    "columns = np.array(['name','wins','losses','draws','height','weight','reach','stance','dob','slpm','str_acc','sapm','str_def','td_avg','td_acc','td_def','sub_avg','last_update','last_match'])\n",
    "df = pd.DataFrame(data=data, columns=columns)\n",
    "df.tail(5)"
   ]
  },
  {
   "cell_type": "markdown",
   "id": "571bd219-2e00-4f68-ad66-f4f0779db969",
   "metadata": {},
   "source": [
    "### Saving file:"
   ]
  },
  {
   "cell_type": "code",
   "execution_count": 186,
   "id": "f3591c28-50de-4f2d-8397-e3a95c72b0a2",
   "metadata": {},
   "outputs": [
    {
     "name": "stdout",
     "output_type": "stream",
     "text": [
      "../data/ufc_fighters_stats.csv saved.\n"
     ]
    }
   ],
   "source": [
    "loc = '../data/'\n",
    "df.to_csv('../data/ufc_fighters_stats.csv', index=False)\n",
    "print('../data/ufc_fighters_stats.csv saved.')        "
   ]
  }
 ],
 "metadata": {
  "kernelspec": {
   "display_name": "Python 3 (ipykernel)",
   "language": "python",
   "name": "python3"
  },
  "language_info": {
   "codemirror_mode": {
    "name": "ipython",
    "version": 3
   },
   "file_extension": ".py",
   "mimetype": "text/x-python",
   "name": "python",
   "nbconvert_exporter": "python",
   "pygments_lexer": "ipython3",
   "version": "3.7.12"
  }
 },
 "nbformat": 4,
 "nbformat_minor": 5
}
