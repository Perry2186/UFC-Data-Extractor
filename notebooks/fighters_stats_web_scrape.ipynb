{
 "cells": [
  {
   "cell_type": "code",
   "execution_count": null,
   "id": "e9d04ab5",
   "metadata": {},
   "outputs": [],
   "source": [
    "%run web_scrape_func_def.ipynb"
   ]
  },
  {
   "cell_type": "markdown",
   "id": "7357a38c",
   "metadata": {},
   "source": [
    "# Main( )"
   ]
  },
  {
   "cell_type": "markdown",
   "id": "5d0a4051-f39b-4c6c-8574-a45b95573dfb",
   "metadata": {},
   "source": [
    "### Extracting links:"
   ]
  },
  {
   "cell_type": "code",
   "execution_count": 85,
   "id": "80010ef5-c20e-4eea-9f43-92002a9eedd7",
   "metadata": {},
   "outputs": [
    {
     "name": "stderr",
     "output_type": "stream",
     "text": [
      "100%|██████████| 52/52 [00:39<00:00,  1.32it/s]\n"
     ]
    },
    {
     "data": {
      "text/plain": [
       "['http://ufcstats.com/fighter-details/93fe7332d16c6ad9',\n",
       " 'http://ufcstats.com/fighter-details/93fe7332d16c6ad9',\n",
       " 'http://ufcstats.com/fighter-details/93fe7332d16c6ad9',\n",
       " 'http://ufcstats.com/fighter-details/15df64c02b6b0fde',\n",
       " 'http://ufcstats.com/fighter-details/15df64c02b6b0fde']"
      ]
     },
     "execution_count": 85,
     "metadata": {},
     "output_type": "execute_result"
    }
   ],
   "source": [
    "links = []\n",
    "for page in tqdm(ascii_letters.lower()):\n",
    "    url = 'http://ufcstats.com/statistics/fighters?char=' + page + '&page=all'\n",
    "    links.extend(get_links(url=url))\n",
    "    \n",
    "links[0:5]    "
   ]
  },
  {
   "cell_type": "code",
   "execution_count": null,
   "id": "be41e1b9-99f4-4269-8da3-bc7c048f372b",
   "metadata": {
    "tags": []
   },
   "outputs": [],
   "source": [
    "get_fighter_data(url=links[0])"
   ]
  },
  {
   "cell_type": "code",
   "execution_count": null,
   "id": "3c7415ac-01a9-471c-9926-21c785a15043",
   "metadata": {},
   "outputs": [
    {
     "name": "stderr",
     "output_type": "stream",
     "text": [
      "  5%|▌         | 1203/23598 [13:29<4:09:00,  1.50it/s]"
     ]
    },
    {
     "name": "stdout",
     "output_type": "stream",
     "text": [
      "Error on: http://ufcstats.com/fighter-details/93fe7332d16c6ad9\n"
     ]
    },
    {
     "name": "stderr",
     "output_type": "stream",
     "text": [
      "  5%|▌         | 1213/23598 [13:35<3:33:54,  1.74it/s]"
     ]
    },
    {
     "name": "stdout",
     "output_type": "stream",
     "text": [
      "Error on: http://ufcstats.com/fighter-details/48a9a128784d53d1\n"
     ]
    },
    {
     "name": "stderr",
     "output_type": "stream",
     "text": [
      "  5%|▌         | 1219/23598 [13:39<2:57:38,  2.10it/s]"
     ]
    },
    {
     "name": "stdout",
     "output_type": "stream",
     "text": [
      "Error on: http://ufcstats.com/fighter-details/93fe7332d16c6ad9\n",
      "Error on: http://ufcstats.com/fighter-details/98f6da59d765ec94\n"
     ]
    },
    {
     "name": "stderr",
     "output_type": "stream",
     "text": [
      "  5%|▌         | 1221/23598 [13:40<2:27:35,  2.53it/s]"
     ]
    },
    {
     "name": "stdout",
     "output_type": "stream",
     "text": [
      "Error on: http://ufcstats.com/fighter-details/98f6da59d765ec94\n",
      "Error on: http://ufcstats.com/fighter-details/98f6da59d765ec94\n"
     ]
    },
    {
     "name": "stderr",
     "output_type": "stream",
     "text": [
      "  5%|▌         | 1222/23598 [13:40<2:04:46,  2.99it/s]"
     ]
    },
    {
     "name": "stdout",
     "output_type": "stream",
     "text": [
      "Error on: http://ufcstats.com/fighter-details/e319d6697d41f3cf\n",
      "Error on: http://ufcstats.com/fighter-details/e319d6697d41f3cf\n"
     ]
    },
    {
     "name": "stderr",
     "output_type": "stream",
     "text": [
      "  5%|▌         | 1225/23598 [13:40<1:26:31,  4.31it/s]"
     ]
    },
    {
     "name": "stdout",
     "output_type": "stream",
     "text": [
      "Error on: http://ufcstats.com/fighter-details/e319d6697d41f3cf\n",
      "Error on: http://ufcstats.com/fighter-details/106a925d947a0de9\n"
     ]
    },
    {
     "name": "stderr",
     "output_type": "stream",
     "text": [
      "  5%|▌         | 1226/23598 [13:41<1:20:08,  4.65it/s]"
     ]
    },
    {
     "name": "stdout",
     "output_type": "stream",
     "text": [
      "Error on: http://ufcstats.com/fighter-details/106a925d947a0de9\n"
     ]
    },
    {
     "name": "stderr",
     "output_type": "stream",
     "text": [
      "  5%|▌         | 1258/23598 [14:02<4:33:34,  1.36it/s]"
     ]
    }
   ],
   "source": [
    "data = []\n",
    "for link in tqdm(links):\n",
    "    try:\n",
    "        data.append(get_fighter_data(url=link))\n",
    "    except:\n",
    "        continue\n",
    "    \n",
    "data[0:3]    "
   ]
  },
  {
   "cell_type": "code",
   "execution_count": null,
   "id": "8937a227-e486-4ce4-92a0-ea53e1410eac",
   "metadata": {},
   "outputs": [],
   "source": [
    ">>>>"
   ]
  },
  {
   "cell_type": "markdown",
   "id": "83bc94ce-e7aa-4b57-9992-4028cf75bd47",
   "metadata": {
    "tags": []
   },
   "source": [
    "### Extracting columns structure:"
   ]
  },
  {
   "cell_type": "code",
   "execution_count": 2,
   "id": "84a946cd-efd1-439c-a6a1-722560a64580",
   "metadata": {},
   "outputs": [
    {
     "name": "stdout",
     "output_type": "stream",
     "text": [
      "['name', 'wins', 'losses', 'draws', 'Height:', 'Weight:', 'Reach:', 'STANCE:', 'DOB:', 'SLpM:', 'Str. Acc.:', 'SApM:', 'Str. Def:', '', 'TD Avg.:', 'TD Acc.:', 'TD Def.:', 'Sub. Avg.:']\n"
     ]
    }
   ],
   "source": [
    "url = 'http://ufcstats.com/statistics/fighters?char=a&page=all'\n",
    "soup = get_xml(url=url)\n",
    "links = get_links(soup)\n",
    "columns = get_columns( get_soup(links[1]) )\n",
    "print(columns)"
   ]
  },
  {
   "cell_type": "markdown",
   "id": "66ee2f39-0267-427e-a30f-e85f8cd55b73",
   "metadata": {
    "tags": []
   },
   "source": [
    "### Construct fighters link list:"
   ]
  },
  {
   "cell_type": "code",
   "execution_count": 3,
   "id": "2aed392a-a9d7-443f-82db-af7c5b75bb35",
   "metadata": {},
   "outputs": [
    {
     "name": "stderr",
     "output_type": "stream",
     "text": [
      "100%|██████████| 52/52 [00:29<00:00,  1.73it/s]"
     ]
    },
    {
     "name": "stdout",
     "output_type": "stream",
     "text": [
      "7866 fighters links loaded.\n"
     ]
    },
    {
     "name": "stderr",
     "output_type": "stream",
     "text": [
      "\n"
     ]
    }
   ],
   "source": [
    "link_list = []\n",
    "for page in tqdm(ascii_letters.lower()):\n",
    "    url = 'http://ufcstats.com/statistics/fighters?char=' + page + '&page=all'\n",
    "    link_list.extend(get_links(soup=get_soup(url=url)))\n",
    "\n",
    "print('%d fighters links loaded.'%len(link_list))    "
   ]
  },
  {
   "cell_type": "code",
   "execution_count": 4,
   "id": "31e7409c-9aef-46f3-86bd-7690ca3b0388",
   "metadata": {},
   "outputs": [
    {
     "name": "stdout",
     "output_type": "stream",
     "text": [
      "['name' 'wins' 'losses' 'draws' 'Height:' 'Weight:' 'Reach:' 'STANCE:'\n",
      " 'DOB:' 'SLpM:' 'Str. Acc.:' 'SApM:' 'Str. Def:' '' 'TD Avg.:' 'TD Acc.:'\n",
      " 'TD Def.:' 'Sub. Avg.:']\n"
     ]
    }
   ],
   "source": [
    "data = np.array(columns)\n",
    "print(data)"
   ]
  },
  {
   "cell_type": "markdown",
   "id": "5e009d3c-de27-42d4-b36f-6f2abb44fb32",
   "metadata": {
    "tags": []
   },
   "source": [
    "### Extracting fighters statistics to rows:"
   ]
  },
  {
   "cell_type": "code",
   "execution_count": 6,
   "id": "57b63474-ad62-4eb4-bf35-a646add7300a",
   "metadata": {},
   "outputs": [
    {
     "name": "stderr",
     "output_type": "stream",
     "text": [
      "100%|██████████| 7866/7866 [1:08:43<00:00,  1.91it/s]\n"
     ]
    }
   ],
   "source": [
    "for fighter_link in tqdm(link_list):\n",
    "    row = get_row(soup=get_soup(url=fighter_link))\n",
    "    data = np.vstack([data,row])"
   ]
  },
  {
   "cell_type": "code",
   "execution_count": 7,
   "id": "37f018c6-8fc7-4875-bb9c-625f96734eac",
   "metadata": {},
   "outputs": [
    {
     "data": {
      "text/html": [
       "<div>\n",
       "<style scoped>\n",
       "    .dataframe tbody tr th:only-of-type {\n",
       "        vertical-align: middle;\n",
       "    }\n",
       "\n",
       "    .dataframe tbody tr th {\n",
       "        vertical-align: top;\n",
       "    }\n",
       "\n",
       "    .dataframe thead th {\n",
       "        text-align: right;\n",
       "    }\n",
       "</style>\n",
       "<table border=\"1\" class=\"dataframe\">\n",
       "  <thead>\n",
       "    <tr style=\"text-align: right;\">\n",
       "      <th></th>\n",
       "      <th>name</th>\n",
       "      <th>wins</th>\n",
       "      <th>losses</th>\n",
       "      <th>draws</th>\n",
       "      <th>Height:</th>\n",
       "      <th>Weight:</th>\n",
       "      <th>Reach:</th>\n",
       "      <th>STANCE:</th>\n",
       "      <th>DOB:</th>\n",
       "      <th>SLpM:</th>\n",
       "      <th>Str. Acc.:</th>\n",
       "      <th>SApM:</th>\n",
       "      <th>Str. Def:</th>\n",
       "      <th></th>\n",
       "      <th>TD Avg.:</th>\n",
       "      <th>TD Acc.:</th>\n",
       "      <th>TD Def.:</th>\n",
       "      <th>Sub. Avg.:</th>\n",
       "    </tr>\n",
       "  </thead>\n",
       "  <tbody>\n",
       "    <tr>\n",
       "      <th>7864</th>\n",
       "      <td>Carlos Zevallos</td>\n",
       "      <td>3</td>\n",
       "      <td></td>\n",
       "      <td>-0</td>\n",
       "      <td>6' 0\"</td>\n",
       "      <td>205 lbs.</td>\n",
       "      <td>--</td>\n",
       "      <td>Orthodox</td>\n",
       "      <td>--</td>\n",
       "      <td>4.36</td>\n",
       "      <td>65%</td>\n",
       "      <td>2.28</td>\n",
       "      <td>68%</td>\n",
       "      <td></td>\n",
       "      <td>0.00</td>\n",
       "      <td>0%</td>\n",
       "      <td>100%</td>\n",
       "      <td>0.0</td>\n",
       "    </tr>\n",
       "    <tr>\n",
       "      <th>7865</th>\n",
       "      <td>Zach Zane</td>\n",
       "      <td>10</td>\n",
       "      <td>7</td>\n",
       "      <td>0</td>\n",
       "      <td>5' 7\"</td>\n",
       "      <td>145 lbs.</td>\n",
       "      <td>69\"</td>\n",
       "      <td>Southpaw</td>\n",
       "      <td>Dec 14, 1989</td>\n",
       "      <td>0.87</td>\n",
       "      <td>56%</td>\n",
       "      <td>6.67</td>\n",
       "      <td>20%</td>\n",
       "      <td></td>\n",
       "      <td>0.00</td>\n",
       "      <td>0%</td>\n",
       "      <td>26%</td>\n",
       "      <td>0.0</td>\n",
       "    </tr>\n",
       "    <tr>\n",
       "      <th>7866</th>\n",
       "      <td>Roger Zapata</td>\n",
       "      <td>4</td>\n",
       "      <td></td>\n",
       "      <td>-0</td>\n",
       "      <td>5' 11\"</td>\n",
       "      <td>170 lbs.</td>\n",
       "      <td>--</td>\n",
       "      <td>Southpaw</td>\n",
       "      <td>May 09, 1986</td>\n",
       "      <td>2.60</td>\n",
       "      <td>51%</td>\n",
       "      <td>2.13</td>\n",
       "      <td>36%</td>\n",
       "      <td></td>\n",
       "      <td>0.00</td>\n",
       "      <td>0%</td>\n",
       "      <td>81%</td>\n",
       "      <td>1.4</td>\n",
       "    </tr>\n",
       "  </tbody>\n",
       "</table>\n",
       "</div>"
      ],
      "text/plain": [
       "                 name wins losses draws Height:   Weight: Reach:   STANCE:  \\\n",
       "7864  Carlos Zevallos    3           -0   6' 0\"  205 lbs.     --  Orthodox   \n",
       "7865        Zach Zane   10      7     0   5' 7\"  145 lbs.    69\"  Southpaw   \n",
       "7866     Roger Zapata    4           -0  5' 11\"  170 lbs.     --  Southpaw   \n",
       "\n",
       "              DOB: SLpM: Str. Acc.: SApM: Str. Def:   TD Avg.: TD Acc.:  \\\n",
       "7864            --  4.36        65%  2.28       68%       0.00       0%   \n",
       "7865  Dec 14, 1989  0.87        56%  6.67       20%       0.00       0%   \n",
       "7866  May 09, 1986  2.60        51%  2.13       36%       0.00       0%   \n",
       "\n",
       "     TD Def.: Sub. Avg.:  \n",
       "7864     100%        0.0  \n",
       "7865      26%        0.0  \n",
       "7866      81%        1.4  "
      ]
     },
     "execution_count": 7,
     "metadata": {},
     "output_type": "execute_result"
    }
   ],
   "source": [
    "df = pd.DataFrame(data=data, columns=data[0])\n",
    "df.tail(3)"
   ]
  },
  {
   "cell_type": "markdown",
   "id": "5e3017a3-170a-4972-8381-cf87557b923e",
   "metadata": {},
   "source": [
    "### saving file"
   ]
  },
  {
   "cell_type": "code",
   "execution_count": 20,
   "id": "f3591c28-50de-4f2d-8397-e3a95c72b0a2",
   "metadata": {},
   "outputs": [
    {
     "name": "stdout",
     "output_type": "stream",
     "text": [
      "../data/ufc_fighters_stats.csv deleted.\n",
      "../data/ufc_fighters_stats.csv saved.\n"
     ]
    }
   ],
   "source": [
    "loc = '../data/'\n",
    "for file in get_content(directory=loc):\n",
    "    if 'ufc_fighters_stats' in file:\n",
    "        os.remove(path=loc + file) #delete old data file\n",
    "        print(file + ' deleted.')\n",
    "        \n",
    "df.to_csv('../data/ufc_fighters_stats.csv', index=False)\n",
    "print('../data/ufc_fighters_stats.csv saved.')        "
   ]
  },
  {
   "cell_type": "code",
   "execution_count": null,
   "id": "281081be-65cc-45de-8a77-3e20ca2cd261",
   "metadata": {},
   "outputs": [],
   "source": []
  }
 ],
 "metadata": {
  "kernelspec": {
   "display_name": "py3",
   "language": "python",
   "name": "py3"
  },
  "language_info": {
   "codemirror_mode": {
    "name": "ipython",
    "version": 3
   },
   "file_extension": ".py",
   "mimetype": "text/x-python",
   "name": "python",
   "nbconvert_exporter": "python",
   "pygments_lexer": "ipython3",
   "version": "3.7.12"
  }
 },
 "nbformat": 4,
 "nbformat_minor": 5
}
