{
 "cells": [
  {
   "cell_type": "code",
   "execution_count": 1,
   "id": "4acd53ee-7f80-479d-a710-ac9713d1e7f5",
   "metadata": {},
   "outputs": [
    {
     "name": "stdout",
     "output_type": "stream",
     "text": [
      "imports loaded.\n",
      "\n",
      "> file management func:\n",
      "\n",
      "    get_content(directory)\n",
      "    get_last_update(file_path)\n",
      "\n",
      "> Updating lists func:\n",
      "\n",
      "    get_participants(event_link)\n",
      "\n",
      "> fighters_stats_scrape func:\n",
      "\n",
      "    get_xml(url, headers = {'User-Agent':'Moz...}) # Return web page data in .xml format.\n",
      "    get_links(url)\n",
      "    get_fighter_data(url) # Retrive data as list\n",
      "    get_current_date()\n",
      "\n",
      "> matches_stats_web_scrape func:\n",
      "\n",
      "    get_event_date(xml)\n",
      "    get_event_data(event_link)\n",
      "    get_later_date(date1, date2)\n",
      "\n",
      "> upcoming_web_scrape func:\n",
      "\n",
      "    get_upcoming_event_url(xml)\n",
      "    get_upcoming_event_data(upcoming_event_url)\n"
     ]
    }
   ],
   "source": [
    "%run web_scrape_func_def.ipynb"
   ]
  },
  {
   "cell_type": "markdown",
   "id": "ba11d0ed-0fa2-4295-99d1-1ac644c68599",
   "metadata": {},
   "source": [
    "# User input:"
   ]
  },
  {
   "cell_type": "code",
   "execution_count": 30,
   "id": "9e081b6e-3b9b-4827-bca7-574adc2eec12",
   "metadata": {},
   "outputs": [],
   "source": [
    "OUTPUT_PATH = '../data/'"
   ]
  },
  {
   "cell_type": "markdown",
   "id": "fd18bba9-c5f1-4746-bf2f-7e1ac1c96ee8",
   "metadata": {},
   "source": [
    "# Get all letters pages links:"
   ]
  },
  {
   "cell_type": "code",
   "execution_count": 11,
   "id": "2d3bdd91-ec15-420a-8a3b-b96d9ecd8019",
   "metadata": {},
   "outputs": [
    {
     "name": "stderr",
     "output_type": "stream",
     "text": [
      "100%|████████████████████████████████████████████████████████████████████████████████████████████████████████████████████████████████████████████████████| 52/52 [00:00<00:00, 671088.64it/s]"
     ]
    },
    {
     "name": "stdout",
     "output_type": "stream",
     "text": [
      "List contains 52 pages.\n"
     ]
    },
    {
     "name": "stderr",
     "output_type": "stream",
     "text": [
      "\n"
     ]
    }
   ],
   "source": [
    "abc_list = list(ascii_letters)\n",
    "fighters_pages_links = []\n",
    "\n",
    "for letter in tqdm(abc_list):\n",
    "    fighters_pages_links.append('http://ufcstats.com/statistics/fighters?char=' + letter + '&page=all')\n",
    "\n",
    "print(f\"List contains {len(fighters_pages_links)} pages.\")    "
   ]
  },
  {
   "cell_type": "markdown",
   "id": "ea7bb1ea-ab09-4017-8d5f-5b3f38986dc2",
   "metadata": {},
   "source": [
    "# Get all fighters links:"
   ]
  },
  {
   "cell_type": "code",
   "execution_count": 29,
   "id": "8a96b445-8064-4e4f-a2cf-a8f9e9e75814",
   "metadata": {},
   "outputs": [
    {
     "name": "stderr",
     "output_type": "stream",
     "text": [
      "100%|████████████████████████████████████████████████████████████████████████████████████████████████████████████████████████████████████████████████████████| 52/52 [00:40<00:00,  1.29it/s]\n"
     ]
    },
    {
     "data": {
      "text/plain": [
       "['http://ufcstats.com/fighter-details/002ca196477ce572',\n",
       " 'http://ufcstats.com/fighter-details/003d82fa384ca1d0',\n",
       " 'http://ufcstats.com/fighter-details/0052de90691d4a93']"
      ]
     },
     "execution_count": 29,
     "metadata": {},
     "output_type": "execute_result"
    }
   ],
   "source": [
    "fighters_links = []\n",
    "for page in tqdm(fighters_pages_links):\n",
    "    fighters_links.extend(get_fighters_links(page_url=page))\n",
    "    \n",
    "fighters_links = np.unique(fighters_links).tolist()    \n",
    "fighters_links[0:3]"
   ]
  },
  {
   "cell_type": "markdown",
   "id": "eb82e99c-6443-4a18-b356-2f7cd15748f9",
   "metadata": {},
   "source": [
    "# Extract data from each fighter page:"
   ]
  },
  {
   "cell_type": "code",
   "execution_count": 32,
   "id": "f5e8006a-a24c-4ebd-ac52-54917bb5ba64",
   "metadata": {
    "collapsed": true,
    "jupyter": {
     "outputs_hidden": true
    },
    "tags": []
   },
   "outputs": [
    {
     "name": "stderr",
     "output_type": "stream",
     "text": [
      "100%|████████████████████████████████████████████████████████████████████████████████████████████████████████████████████████████████████████████████████| 4039/4039 [33:55<00:00,  1.98it/s]\n"
     ]
    },
    {
     "data": {
      "text/plain": [
       "[['Gabriel Silva',\n",
       "  8,\n",
       "  2,\n",
       "  '0',\n",
       "  '5\\'6\"',\n",
       "  '135lbs.',\n",
       "  '71\"',\n",
       "  'Orthodox',\n",
       "  'Aug26,1994',\n",
       "  '1.30',\n",
       "  '34%',\n",
       "  '3.47',\n",
       "  '45%',\n",
       "  '1.50',\n",
       "  '25%',\n",
       "  '38%',\n",
       "  '0.5',\n",
       "  '06-15-2023',\n",
       "  '02-29-2020',\n",
       "  'http://ufcstats.com/fighter-details/002ca196477ce572'],\n",
       " ['Aalon Cruz',\n",
       "  8,\n",
       "  4,\n",
       "  '0',\n",
       "  '6\\'0\"',\n",
       "  '145lbs.',\n",
       "  '78\"',\n",
       "  'Switch',\n",
       "  'Sep20,1989',\n",
       "  '7.58',\n",
       "  '39%',\n",
       "  '8.88',\n",
       "  '58%',\n",
       "  '0.00',\n",
       "  '0%',\n",
       "  '0%',\n",
       "  '0.0',\n",
       "  '06-15-2023',\n",
       "  '03-06-2021',\n",
       "  'http://ufcstats.com/fighter-details/003d82fa384ca1d0'],\n",
       " ['Davi Ramos',\n",
       "  10,\n",
       "  4,\n",
       "  '0',\n",
       "  '5\\'6\"',\n",
       "  '155lbs.',\n",
       "  '70\"',\n",
       "  'Orthodox',\n",
       "  'Nov05,1986',\n",
       "  '2.64',\n",
       "  '37%',\n",
       "  '3.44',\n",
       "  '56%',\n",
       "  '1.95',\n",
       "  '40%',\n",
       "  '83%',\n",
       "  '0.6',\n",
       "  '06-15-2023',\n",
       "  '07-18-2020',\n",
       "  'http://ufcstats.com/fighter-details/0052de90691d4a93'],\n",
       " ['Tyler Hill',\n",
       "  8,\n",
       "  2,\n",
       "  '0',\n",
       "  '6\\'3\"',\n",
       "  '170lbs.',\n",
       "  '--',\n",
       "  'Switch',\n",
       "  'Aug10,1991',\n",
       "  '3.64',\n",
       "  '39%',\n",
       "  '5.33',\n",
       "  '47%',\n",
       "  '0.00',\n",
       "  '0%',\n",
       "  '0%',\n",
       "  '0.0',\n",
       "  '06-15-2023',\n",
       "  '06-19-2018',\n",
       "  'http://ufcstats.com/fighter-details/006efbb0c1621fd7'],\n",
       " ['Wesley Little',\n",
       "  4,\n",
       "  8,\n",
       "  '0',\n",
       "  '6\\'4\"',\n",
       "  '205lbs.',\n",
       "  '--',\n",
       "  '',\n",
       "  '--',\n",
       "  '0.00',\n",
       "  '0%',\n",
       "  '0.00',\n",
       "  '0%',\n",
       "  '0.00',\n",
       "  '0%',\n",
       "  '0%',\n",
       "  '0.0',\n",
       "  '06-15-2023',\n",
       "  '11-19-2010',\n",
       "  'http://ufcstats.com/fighter-details/008c6e1a25751575']]"
      ]
     },
     "execution_count": 32,
     "metadata": {},
     "output_type": "execute_result"
    }
   ],
   "source": [
    "data = []\n",
    "for item in tqdm(fighters_links):\n",
    "    data.append(get_fighter_data(url=item))\n",
    "    \n",
    "data[0:5]    "
   ]
  },
  {
   "cell_type": "code",
   "execution_count": 35,
   "id": "f898d2a7-4843-4fe4-b834-fdda9c75bff4",
   "metadata": {},
   "outputs": [],
   "source": [
    "column_names = ['name','wins','losses','draws',\n",
    "                'height','weight','reach','stance','dob',\n",
    "                'slpm','str_acc','sapm','str_def','td_avg','td_acc','td_def','sub_avg',\n",
    "                'last_update','last_match','url']\n",
    "\n",
    "pd.DataFrame(data=data, columns=column_names).to_csv(OUTPUT_PATH + 'ufc_fighters_stats.csv', index=0)"
   ]
  },
  {
   "cell_type": "code",
   "execution_count": null,
   "id": "9cb20aec-d3b3-47e3-bb84-2d4e8c2df1a6",
   "metadata": {},
   "outputs": [],
   "source": []
  }
 ],
 "metadata": {
  "kernelspec": {
   "display_name": "py3",
   "language": "python",
   "name": "py3"
  },
  "language_info": {
   "codemirror_mode": {
    "name": "ipython",
    "version": 3
   },
   "file_extension": ".py",
   "mimetype": "text/x-python",
   "name": "python",
   "nbconvert_exporter": "python",
   "pygments_lexer": "ipython3",
   "version": "3.7.12"
  }
 },
 "nbformat": 4,
 "nbformat_minor": 5
}
